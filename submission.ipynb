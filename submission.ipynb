{
 "cells": [
  {
   "cell_type": "markdown",
   "metadata": {},
   "source": [
    "# Basketball Betting\n",
    "\n",
    "## Project Overview\n",
    "\n",
    "This project aims to leverage machine learning techniques to predict NBA game outcomes and scores, with a particular focus on enhancing sports betting strategies. By analyzing detailed player performance statistics and game results, we develop models that can predict whether the home team will win or lose, as well as the exact final score of the game. Our approach uses Random Forest classifiers and regressors to capture the complex interactions between player performances and game outcomes. The ultimate goal is to provide accurate and actionable insights for basketball betting enthusiasts and professionals.\n",
    "\n",
    "The project is structured into several key steps, including data collection, preprocessing, feature extraction, model training, and evaluation. We also implement a user-friendly interface that allows users to input player names and receive predictions on game outcomes and scores. This comprehensive analysis and modeling effort showcases the power of machine learning in the realm of sports analytics and betting.\n",
    "\n"
   ]
  },
  {
   "cell_type": "markdown",
   "metadata": {},
   "source": [
    "### Importing Libraries\n",
    "We start by importing the necessary libraries for our project. These include:\n",
    "- `pandas` for data manipulation and analysis,\n",
    "- `tqdm` for progress bars,\n",
    "- `numpy` for numerical operations,\n",
    "- `sklearn` for machine learning models,\n",
    "- `matplotlib` and `seaborn` for data visualization."
   ]
  },
  {
   "cell_type": "code",
   "execution_count": 22,
   "metadata": {},
   "outputs": [],
   "source": [
    "import pandas as pd\n",
    "from tqdm import tqdm\n",
    "import numpy as np\n",
    "import copy\n",
    "from sklearn.model_selection import train_test_split\n",
    "from sklearn.ensemble import RandomForestClassifier, RandomForestRegressor\n",
    "from sklearn.metrics import accuracy_score, mean_squared_error\n",
    "import matplotlib.pyplot as plt\n",
    "import seaborn as sns\n",
    "from sklearn.metrics import confusion_matrix, ConfusionMatrixDisplay, accuracy_score, precision_score, recall_score"
   ]
  },
  {
   "cell_type": "markdown",
   "metadata": {},
   "source": [
    "### Exploratory Data Analysis"
   ]
  },
  {
   "cell_type": "markdown",
   "metadata": {},
   "source": [
    "We load the game data from a CSV file into a DataFrame. This dataset contains information about various NBA games, including the scores and other game-related details. Displaying the first few rows helps us understand the structure of the data."
   ]
  },
  {
   "cell_type": "code",
   "execution_count": 23,
   "metadata": {},
   "outputs": [
    {
     "data": {
      "text/html": [
       "<div>\n",
       "<style scoped>\n",
       "    .dataframe tbody tr th:only-of-type {\n",
       "        vertical-align: middle;\n",
       "    }\n",
       "\n",
       "    .dataframe tbody tr th {\n",
       "        vertical-align: top;\n",
       "    }\n",
       "\n",
       "    .dataframe thead th {\n",
       "        text-align: right;\n",
       "    }\n",
       "</style>\n",
       "<table border=\"1\" class=\"dataframe\">\n",
       "  <thead>\n",
       "    <tr style=\"text-align: right;\">\n",
       "      <th></th>\n",
       "      <th>GAME_DATE_EST</th>\n",
       "      <th>GAME_ID</th>\n",
       "      <th>GAME_STATUS_TEXT</th>\n",
       "      <th>HOME_TEAM_ID</th>\n",
       "      <th>VISITOR_TEAM_ID</th>\n",
       "      <th>SEASON</th>\n",
       "      <th>TEAM_ID_home</th>\n",
       "      <th>PTS_home</th>\n",
       "      <th>FG_PCT_home</th>\n",
       "      <th>FT_PCT_home</th>\n",
       "      <th>...</th>\n",
       "      <th>AST_home</th>\n",
       "      <th>REB_home</th>\n",
       "      <th>TEAM_ID_away</th>\n",
       "      <th>PTS_away</th>\n",
       "      <th>FG_PCT_away</th>\n",
       "      <th>FT_PCT_away</th>\n",
       "      <th>FG3_PCT_away</th>\n",
       "      <th>AST_away</th>\n",
       "      <th>REB_away</th>\n",
       "      <th>HOME_TEAM_WINS</th>\n",
       "    </tr>\n",
       "  </thead>\n",
       "  <tbody>\n",
       "    <tr>\n",
       "      <th>0</th>\n",
       "      <td>2022-12-22</td>\n",
       "      <td>22200477</td>\n",
       "      <td>Final</td>\n",
       "      <td>1610612740</td>\n",
       "      <td>1610612759</td>\n",
       "      <td>2022</td>\n",
       "      <td>1610612740</td>\n",
       "      <td>126.0</td>\n",
       "      <td>0.484</td>\n",
       "      <td>0.926</td>\n",
       "      <td>...</td>\n",
       "      <td>25.0</td>\n",
       "      <td>46.0</td>\n",
       "      <td>1610612759</td>\n",
       "      <td>117.0</td>\n",
       "      <td>0.478</td>\n",
       "      <td>0.815</td>\n",
       "      <td>0.321</td>\n",
       "      <td>23.0</td>\n",
       "      <td>44.0</td>\n",
       "      <td>1</td>\n",
       "    </tr>\n",
       "    <tr>\n",
       "      <th>1</th>\n",
       "      <td>2022-12-22</td>\n",
       "      <td>22200478</td>\n",
       "      <td>Final</td>\n",
       "      <td>1610612762</td>\n",
       "      <td>1610612764</td>\n",
       "      <td>2022</td>\n",
       "      <td>1610612762</td>\n",
       "      <td>120.0</td>\n",
       "      <td>0.488</td>\n",
       "      <td>0.952</td>\n",
       "      <td>...</td>\n",
       "      <td>16.0</td>\n",
       "      <td>40.0</td>\n",
       "      <td>1610612764</td>\n",
       "      <td>112.0</td>\n",
       "      <td>0.561</td>\n",
       "      <td>0.765</td>\n",
       "      <td>0.333</td>\n",
       "      <td>20.0</td>\n",
       "      <td>37.0</td>\n",
       "      <td>1</td>\n",
       "    </tr>\n",
       "    <tr>\n",
       "      <th>2</th>\n",
       "      <td>2022-12-21</td>\n",
       "      <td>22200466</td>\n",
       "      <td>Final</td>\n",
       "      <td>1610612739</td>\n",
       "      <td>1610612749</td>\n",
       "      <td>2022</td>\n",
       "      <td>1610612739</td>\n",
       "      <td>114.0</td>\n",
       "      <td>0.482</td>\n",
       "      <td>0.786</td>\n",
       "      <td>...</td>\n",
       "      <td>22.0</td>\n",
       "      <td>37.0</td>\n",
       "      <td>1610612749</td>\n",
       "      <td>106.0</td>\n",
       "      <td>0.470</td>\n",
       "      <td>0.682</td>\n",
       "      <td>0.433</td>\n",
       "      <td>20.0</td>\n",
       "      <td>46.0</td>\n",
       "      <td>1</td>\n",
       "    </tr>\n",
       "    <tr>\n",
       "      <th>3</th>\n",
       "      <td>2022-12-21</td>\n",
       "      <td>22200467</td>\n",
       "      <td>Final</td>\n",
       "      <td>1610612755</td>\n",
       "      <td>1610612765</td>\n",
       "      <td>2022</td>\n",
       "      <td>1610612755</td>\n",
       "      <td>113.0</td>\n",
       "      <td>0.441</td>\n",
       "      <td>0.909</td>\n",
       "      <td>...</td>\n",
       "      <td>27.0</td>\n",
       "      <td>49.0</td>\n",
       "      <td>1610612765</td>\n",
       "      <td>93.0</td>\n",
       "      <td>0.392</td>\n",
       "      <td>0.735</td>\n",
       "      <td>0.261</td>\n",
       "      <td>15.0</td>\n",
       "      <td>46.0</td>\n",
       "      <td>1</td>\n",
       "    </tr>\n",
       "    <tr>\n",
       "      <th>4</th>\n",
       "      <td>2022-12-21</td>\n",
       "      <td>22200468</td>\n",
       "      <td>Final</td>\n",
       "      <td>1610612737</td>\n",
       "      <td>1610612741</td>\n",
       "      <td>2022</td>\n",
       "      <td>1610612737</td>\n",
       "      <td>108.0</td>\n",
       "      <td>0.429</td>\n",
       "      <td>1.000</td>\n",
       "      <td>...</td>\n",
       "      <td>22.0</td>\n",
       "      <td>47.0</td>\n",
       "      <td>1610612741</td>\n",
       "      <td>110.0</td>\n",
       "      <td>0.500</td>\n",
       "      <td>0.773</td>\n",
       "      <td>0.292</td>\n",
       "      <td>20.0</td>\n",
       "      <td>47.0</td>\n",
       "      <td>0</td>\n",
       "    </tr>\n",
       "  </tbody>\n",
       "</table>\n",
       "<p>5 rows × 21 columns</p>\n",
       "</div>"
      ],
      "text/plain": [
       "  GAME_DATE_EST   GAME_ID GAME_STATUS_TEXT  HOME_TEAM_ID  VISITOR_TEAM_ID  \\\n",
       "0    2022-12-22  22200477            Final    1610612740       1610612759   \n",
       "1    2022-12-22  22200478            Final    1610612762       1610612764   \n",
       "2    2022-12-21  22200466            Final    1610612739       1610612749   \n",
       "3    2022-12-21  22200467            Final    1610612755       1610612765   \n",
       "4    2022-12-21  22200468            Final    1610612737       1610612741   \n",
       "\n",
       "   SEASON  TEAM_ID_home  PTS_home  FG_PCT_home  FT_PCT_home  ...  AST_home  \\\n",
       "0    2022    1610612740     126.0        0.484        0.926  ...      25.0   \n",
       "1    2022    1610612762     120.0        0.488        0.952  ...      16.0   \n",
       "2    2022    1610612739     114.0        0.482        0.786  ...      22.0   \n",
       "3    2022    1610612755     113.0        0.441        0.909  ...      27.0   \n",
       "4    2022    1610612737     108.0        0.429        1.000  ...      22.0   \n",
       "\n",
       "   REB_home  TEAM_ID_away  PTS_away  FG_PCT_away  FT_PCT_away  FG3_PCT_away  \\\n",
       "0      46.0    1610612759     117.0        0.478        0.815         0.321   \n",
       "1      40.0    1610612764     112.0        0.561        0.765         0.333   \n",
       "2      37.0    1610612749     106.0        0.470        0.682         0.433   \n",
       "3      49.0    1610612765      93.0        0.392        0.735         0.261   \n",
       "4      47.0    1610612741     110.0        0.500        0.773         0.292   \n",
       "\n",
       "   AST_away  REB_away  HOME_TEAM_WINS  \n",
       "0      23.0      44.0               1  \n",
       "1      20.0      37.0               1  \n",
       "2      20.0      46.0               1  \n",
       "3      15.0      46.0               1  \n",
       "4      20.0      47.0               0  \n",
       "\n",
       "[5 rows x 21 columns]"
      ]
     },
     "execution_count": 23,
     "metadata": {},
     "output_type": "execute_result"
    }
   ],
   "source": [
    "games_df = pd.read_csv('games.csv')\n",
    "games_df.head()"
   ]
  },
  {
   "cell_type": "markdown",
   "metadata": {},
   "source": [
    "To facilitate numerical operations, we convert the SEASON column from a string to an integer type. We calculate the average points scored by home and away teams for each season. This helps us identify trends and patterns in scoring over different seasons. We then plot this data using line plots to visualize the changes over time."
   ]
  },
  {
   "cell_type": "code",
   "execution_count": 24,
   "metadata": {},
   "outputs": [
    {
     "name": "stderr",
     "output_type": "stream",
     "text": [
      "/Users/atirumalai/anaconda3/lib/python3.11/site-packages/seaborn/_oldcore.py:1119: FutureWarning: use_inf_as_na option is deprecated and will be removed in a future version. Convert inf values to NaN before operating instead.\n",
      "  with pd.option_context('mode.use_inf_as_na', True):\n",
      "/Users/atirumalai/anaconda3/lib/python3.11/site-packages/seaborn/_oldcore.py:1119: FutureWarning: use_inf_as_na option is deprecated and will be removed in a future version. Convert inf values to NaN before operating instead.\n",
      "  with pd.option_context('mode.use_inf_as_na', True):\n",
      "/Users/atirumalai/anaconda3/lib/python3.11/site-packages/seaborn/_oldcore.py:1119: FutureWarning: use_inf_as_na option is deprecated and will be removed in a future version. Convert inf values to NaN before operating instead.\n",
      "  with pd.option_context('mode.use_inf_as_na', True):\n",
      "/Users/atirumalai/anaconda3/lib/python3.11/site-packages/seaborn/_oldcore.py:1119: FutureWarning: use_inf_as_na option is deprecated and will be removed in a future version. Convert inf values to NaN before operating instead.\n",
      "  with pd.option_context('mode.use_inf_as_na', True):\n"
     ]
    },
    {
     "data": {
      "image/png": "[encoded data removed]",
      "text/plain": [
       "<Figure size 1200x600 with 1 Axes>"
      ]
     },
     "metadata": {},
     "output_type": "display_data"
    }
   ],
   "source": [
    "# Convert SEASON to integer\n",
    "games_df['SEASON'] = games_df['SEASON'].astype(int)\n",
    "\n",
    "# Calculate the average points by home and away teams by season\n",
    "avg_points_by_season = games_df.groupby('SEASON')[['PTS_home', 'PTS_away']].mean()\n",
    "\n",
    "# Plot the average points by home and away teams by season\n",
    "plt.figure(figsize=(12, 6))\n",
    "sns.lineplot(data=avg_points_by_season.reset_index(), x='SEASON', y='PTS_home', marker='o', label='Home')\n",
    "sns.lineplot(data=avg_points_by_season.reset_index(), x='SEASON', y='PTS_away', marker='o', label='Away')\n",
    "plt.title('Average Points by Home and Away Teams by Season')\n",
    "plt.xlabel('Season')\n",
    "plt.ylabel('Average Points')\n",
    "plt.xticks(avg_points_by_season.index)  # Ensure x-axis ticks are integers\n",
    "plt.legend()\n",
    "plt.show()\n"
   ]
  },
  {
   "cell_type": "markdown",
   "metadata": {},
   "source": [
    "The line graph above illustrates the average points scored by home and away teams in NBA games from the 2002-2003 season to the 2021-2022 season. Several key trends and observations can be made from this data:\n",
    "\n",
    "1. **Overall Increase in Scoring**:\n",
    "   - Both home and away teams have seen a notable increase in average points scored per game over the analyzed seasons. This trend reflects changes in the style of play in the NBA, which has increasingly favored faster-paced, higher-scoring games.\n",
    "\n",
    "2. **Home Court Advantage**:\n",
    "   - Throughout the entire period, home teams consistently scored more points on average than away teams. This phenomenon, known as \"home court advantage,\" is well-documented in sports and can be attributed to factors such as familiar surroundings, supportive fans, and reduced travel fatigue.\n",
    "\n",
    "3. **Seasonal Variations**:\n",
    "   - There are fluctuations in scoring trends across different seasons. Notable dips can be observed in the 2011-2012 season, which coincides with a lockout that shortened the season and could have impacted player performance and game dynamics.\n",
    "   - A significant increase in scoring is observed starting around the 2016-2017 season, aligning with strategic shifts in the league, such as the emphasis on three-point shooting and offensive efficiency.\n",
    "\n",
    "4. **Recent Highs**:\n",
    "   - The last few seasons (2019-2022) show the highest average points per game for both home and away teams, peaking in the 2021-2022 season. This peak could be due to continued strategic evolution in the game and rule changes favoring offensive play.\n",
    "\n",
    "5. **Consistent Home Advantage**:\n",
    "   - The gap between home and away teams' average points remains fairly consistent throughout the years, indicating that while both have improved their scoring abilities, the relative advantage of playing at home has persisted.\n"
   ]
  },
  {
   "cell_type": "code",
   "execution_count": 25,
   "metadata": {},
   "outputs": [
    {
     "data": {
      "image/png": "[encoded data removed]",
      "text/plain": [
       "<Figure size 1200x800 with 1 Axes>"
      ]
     },
     "metadata": {},
     "output_type": "display_data"
    }
   ],
   "source": [
    "# Plot box plots of points distribution for home and away teams\n",
    "plt.figure(figsize=(12, 8))\n",
    "sns.boxplot(data=games_df[['PTS_home', 'PTS_away']])\n",
    "plt.title('Points Distribution for Home and Away Teams')\n",
    "plt.xlabel('Team')\n",
    "plt.ylabel('Points')\n",
    "plt.xticks([0, 1], ['Home Team', 'Away Team'])\n",
    "plt.show()\n"
   ]
  },
  {
   "cell_type": "markdown",
   "metadata": {},
   "source": [
    "The box plot above provides a visual representation of the distribution of points scored by home and away teams in NBA games. Several key observations can be made from this plot:\n",
    "\n",
    "1. **Central Tendency**:\n",
    "   - The median points scored by home teams is slightly higher than that of away teams, as indicated by the central line in each box. This reaffirms the home court advantage observed in the previous analysis.\n",
    "   \n",
    "2. **Interquartile Range (IQR)**:\n",
    "   - The interquartile range (IQR), which represents the middle 50% of the data, is similar for both home and away teams. This suggests that the typical spread of points scored in games is comparable for both groups.\n",
    "   \n",
    "3. **Outliers**:\n",
    "   - Both home and away teams have outliers on the high and low ends. There are several instances where teams scored significantly more or fewer points than usual. The presence of these outliers highlights the variability and unpredictability inherent in basketball games.\n",
    "   - Notably, there are more high-end outliers for home teams, indicating that home teams are more likely to have exceptionally high-scoring games compared to away teams.\n",
    "   \n",
    "4. **Whiskers**:\n",
    "   - The whiskers of the box plot extend to the minimum and maximum values within 1.5 times the IQR from the quartiles. For both home and away teams, the lower whisker reaches down to around 60 points, while the upper whisker reaches up to approximately 140 points for home teams and slightly lower for away teams.\n",
    "\n",
    "5. **Overall Spread**:\n",
    "   - The overall spread of points is broader for home teams, as evidenced by the longer whiskers and more outliers. This suggests that while home teams have a higher average and median score, their performance is also more variable compared to away teams."
   ]
  },
  {
   "cell_type": "markdown",
   "metadata": {},
   "source": [
    "We calculate the win rate of home teams for each season to analyze the home advantage trend. By plotting the win rate over seasons, we can see how consistently home teams have an advantage."
   ]
  },
  {
   "cell_type": "code",
   "execution_count": 26,
   "metadata": {},
   "outputs": [
    {
     "name": "stderr",
     "output_type": "stream",
     "text": [
      "/Users/atirumalai/anaconda3/lib/python3.11/site-packages/seaborn/_oldcore.py:1119: FutureWarning: use_inf_as_na option is deprecated and will be removed in a future version. Convert inf values to NaN before operating instead.\n",
      "  with pd.option_context('mode.use_inf_as_na', True):\n",
      "/Users/atirumalai/anaconda3/lib/python3.11/site-packages/seaborn/_oldcore.py:1119: FutureWarning: use_inf_as_na option is deprecated and will be removed in a future version. Convert inf values to NaN before operating instead.\n",
      "  with pd.option_context('mode.use_inf_as_na', True):\n"
     ]
    },
    {
     "data": {
      "image/png": "[encoded data removed]",
      "text/plain": [
       "<Figure size 1200x600 with 1 Axes>"
      ]
     },
     "metadata": {},
     "output_type": "display_data"
    }
   ],
   "source": [
    "# Convert SEASON to integer\n",
    "games_df['SEASON'] = games_df['SEASON'].astype(int)\n",
    "\n",
    "# Calculate the win rate by season\n",
    "win_rate_by_season = games_df.groupby('SEASON')['HOME_TEAM_WINS'].mean()\n",
    "\n",
    "# Plot the home team win rate by season\n",
    "plt.figure(figsize=(12, 6))\n",
    "sns.lineplot(x=win_rate_by_season.index, y=win_rate_by_season.values, marker='o')\n",
    "plt.title('Home Team Win Rate by Season')\n",
    "plt.xlabel('Season')\n",
    "plt.ylabel('Win Rate')\n",
    "plt.ylim(0, 1)\n",
    "plt.xticks(win_rate_by_season.index)  # Ensure x-axis ticks are integers\n",
    "plt.show()\n"
   ]
  },
  {
   "cell_type": "markdown",
   "metadata": {},
   "source": [
    "\n",
    "The line graph above depicts the win rate of home teams in NBA games from the 2002-2003 season to the 2021-2022 season. The win rate is calculated as the ratio of home team wins to the total number of games played each season. Here are the key observations and analysis from this graph:\n",
    "\n",
    "1. **Consistent Home Advantage**:\n",
    "   - Over the entire period, the home team win rate fluctuates around the 0.6 mark, indicating that home teams win approximately 60% of their games on average. This consistency underscores the well-known home court advantage in the NBA.\n",
    "\n",
    "2. **Fluctuations in Win Rate**:\n",
    "   - There are minor fluctuations in the win rate across seasons. The win rate dips slightly below 0.6 in some seasons, such as 2011-2012 and 2019-2020, while rising above 0.6 in others, such as 2012-2013 and 2021-2022.\n",
    "   - These fluctuations could be influenced by various factors, including changes in team compositions, injuries to key players, and shifts in playing styles or strategies.\n",
    "\n",
    "3. **Impact of External Factors**:\n",
    "   - The 2011-2012 season saw a slight dip in the home team win rate, which could be attributed to the shortened season due to the lockout, affecting team dynamics and performance.\n",
    "   - Similarly, the 2019-2020 season experienced a noticeable drop in win rate, potentially influenced by the COVID-19 pandemic, which disrupted the regular season and led to games being played in a bubble environment without traditional home court advantages.\n",
    "\n",
    "4. **Recent Trends**:\n",
    "   - In the last few seasons, there is a slight upward trend in the home team win rate, with the 2021-2022 season showing a return to around 0.6. This suggests a stabilization or recovery of the home court advantage post-pandemic disruptions.\n",
    "\n",
    "5. **Historical Stability**:\n",
    "   - Despite the fluctuations, the overall stability of the win rate around 0.6 highlights the persistent impact of playing at home. This stability reflects the advantages home teams typically enjoy, such as familiar playing conditions, supportive crowds, and reduced travel fatigue."
   ]
  },
  {
   "cell_type": "markdown",
   "metadata": {},
   "source": [
    "### Data Preprocessing\n",
    "\n",
    "Now that we have understood the various trends and patterns in our data through exploratory data analysis, we are ready to proceed with the next step: data preprocessing. This step involves cleaning and preparing our data to ensure it is suitable for training our machine learning models. Proper preprocessing will help us address any inconsistencies, handle missing values, and transform the data into a format that can be efficiently used by our algorithms.\n"
   ]
  },
  {
   "cell_type": "code",
   "execution_count": 27,
   "metadata": {},
   "outputs": [
    {
     "name": "stderr",
     "output_type": "stream",
     "text": [
      "/var/folders/y5/3b7y1ppj1dq4pv5pyd26ts0h0000gn/T/ipykernel_50207/1978113452.py:1: DtypeWarning: Columns (6) have mixed types. Specify dtype option on import or set low_memory=False.\n",
      "  details_df = pd.read_csv('games_details.csv')\n"
     ]
    },
    {
     "data": {
      "text/html": [
       "<div>\n",
       "<style scoped>\n",
       "    .dataframe tbody tr th:only-of-type {\n",
       "        vertical-align: middle;\n",
       "    }\n",
       "\n",
       "    .dataframe tbody tr th {\n",
       "        vertical-align: top;\n",
       "    }\n",
       "\n",
       "    .dataframe thead th {\n",
       "        text-align: right;\n",
       "    }\n",
       "</style>\n",
       "<table border=\"1\" class=\"dataframe\">\n",
       "  <thead>\n",
       "    <tr style=\"text-align: right;\">\n",
       "      <th></th>\n",
       "      <th>GAME_ID</th>\n",
       "      <th>TEAM_ID</th>\n",
       "      <th>TEAM_ABBREVIATION</th>\n",
       "      <th>TEAM_CITY</th>\n",
       "      <th>PLAYER_ID</th>\n",
       "      <th>PLAYER_NAME</th>\n",
       "      <th>NICKNAME</th>\n",
       "      <th>START_POSITION</th>\n",
       "      <th>COMMENT</th>\n",
       "      <th>MIN</th>\n",
       "      <th>...</th>\n",
       "      <th>OREB</th>\n",
       "      <th>DREB</th>\n",
       "      <th>REB</th>\n",
       "      <th>AST</th>\n",
       "      <th>STL</th>\n",
       "      <th>BLK</th>\n",
       "      <th>TO</th>\n",
       "      <th>PF</th>\n",
       "      <th>PTS</th>\n",
       "      <th>PLUS_MINUS</th>\n",
       "    </tr>\n",
       "  </thead>\n",
       "  <tbody>\n",
       "    <tr>\n",
       "      <th>0</th>\n",
       "      <td>22200477</td>\n",
       "      <td>1610612759</td>\n",
       "      <td>SAS</td>\n",
       "      <td>San Antonio</td>\n",
       "      <td>1629641</td>\n",
       "      <td>Romeo Langford</td>\n",
       "      <td>Romeo</td>\n",
       "      <td>F</td>\n",
       "      <td>NaN</td>\n",
       "      <td>18:06</td>\n",
       "      <td>...</td>\n",
       "      <td>1.0</td>\n",
       "      <td>1.0</td>\n",
       "      <td>2.0</td>\n",
       "      <td>0.0</td>\n",
       "      <td>1.0</td>\n",
       "      <td>0.0</td>\n",
       "      <td>2.0</td>\n",
       "      <td>5.0</td>\n",
       "      <td>2.0</td>\n",
       "      <td>-2.0</td>\n",
       "    </tr>\n",
       "    <tr>\n",
       "      <th>1</th>\n",
       "      <td>22200477</td>\n",
       "      <td>1610612759</td>\n",
       "      <td>SAS</td>\n",
       "      <td>San Antonio</td>\n",
       "      <td>1631110</td>\n",
       "      <td>Jeremy Sochan</td>\n",
       "      <td>Jeremy</td>\n",
       "      <td>F</td>\n",
       "      <td>NaN</td>\n",
       "      <td>31:01</td>\n",
       "      <td>...</td>\n",
       "      <td>6.0</td>\n",
       "      <td>3.0</td>\n",
       "      <td>9.0</td>\n",
       "      <td>6.0</td>\n",
       "      <td>1.0</td>\n",
       "      <td>0.0</td>\n",
       "      <td>2.0</td>\n",
       "      <td>1.0</td>\n",
       "      <td>23.0</td>\n",
       "      <td>-14.0</td>\n",
       "    </tr>\n",
       "    <tr>\n",
       "      <th>2</th>\n",
       "      <td>22200477</td>\n",
       "      <td>1610612759</td>\n",
       "      <td>SAS</td>\n",
       "      <td>San Antonio</td>\n",
       "      <td>1627751</td>\n",
       "      <td>Jakob Poeltl</td>\n",
       "      <td>Jakob</td>\n",
       "      <td>C</td>\n",
       "      <td>NaN</td>\n",
       "      <td>21:42</td>\n",
       "      <td>...</td>\n",
       "      <td>1.0</td>\n",
       "      <td>3.0</td>\n",
       "      <td>4.0</td>\n",
       "      <td>1.0</td>\n",
       "      <td>1.0</td>\n",
       "      <td>0.0</td>\n",
       "      <td>2.0</td>\n",
       "      <td>4.0</td>\n",
       "      <td>13.0</td>\n",
       "      <td>-4.0</td>\n",
       "    </tr>\n",
       "    <tr>\n",
       "      <th>3</th>\n",
       "      <td>22200477</td>\n",
       "      <td>1610612759</td>\n",
       "      <td>SAS</td>\n",
       "      <td>San Antonio</td>\n",
       "      <td>1630170</td>\n",
       "      <td>Devin Vassell</td>\n",
       "      <td>Devin</td>\n",
       "      <td>G</td>\n",
       "      <td>NaN</td>\n",
       "      <td>30:20</td>\n",
       "      <td>...</td>\n",
       "      <td>0.0</td>\n",
       "      <td>9.0</td>\n",
       "      <td>9.0</td>\n",
       "      <td>5.0</td>\n",
       "      <td>3.0</td>\n",
       "      <td>0.0</td>\n",
       "      <td>2.0</td>\n",
       "      <td>1.0</td>\n",
       "      <td>10.0</td>\n",
       "      <td>-18.0</td>\n",
       "    </tr>\n",
       "    <tr>\n",
       "      <th>4</th>\n",
       "      <td>22200477</td>\n",
       "      <td>1610612759</td>\n",
       "      <td>SAS</td>\n",
       "      <td>San Antonio</td>\n",
       "      <td>1630200</td>\n",
       "      <td>Tre Jones</td>\n",
       "      <td>Tre</td>\n",
       "      <td>G</td>\n",
       "      <td>NaN</td>\n",
       "      <td>27:44</td>\n",
       "      <td>...</td>\n",
       "      <td>0.0</td>\n",
       "      <td>2.0</td>\n",
       "      <td>2.0</td>\n",
       "      <td>3.0</td>\n",
       "      <td>0.0</td>\n",
       "      <td>0.0</td>\n",
       "      <td>2.0</td>\n",
       "      <td>2.0</td>\n",
       "      <td>19.0</td>\n",
       "      <td>0.0</td>\n",
       "    </tr>\n",
       "  </tbody>\n",
       "</table>\n",
       "<p>5 rows × 29 columns</p>\n",
       "</div>"
      ],
      "text/plain": [
       "    GAME_ID     TEAM_ID TEAM_ABBREVIATION    TEAM_CITY  PLAYER_ID  \\\n",
       "0  22200477  1610612759               SAS  San Antonio    1629641   \n",
       "1  22200477  1610612759               SAS  San Antonio    1631110   \n",
       "2  22200477  1610612759               SAS  San Antonio    1627751   \n",
       "3  22200477  1610612759               SAS  San Antonio    1630170   \n",
       "4  22200477  1610612759               SAS  San Antonio    1630200   \n",
       "\n",
       "      PLAYER_NAME NICKNAME START_POSITION COMMENT    MIN  ...  OREB  DREB  \\\n",
       "0  Romeo Langford    Romeo              F     NaN  18:06  ...   1.0   1.0   \n",
       "1   Jeremy Sochan   Jeremy              F     NaN  31:01  ...   6.0   3.0   \n",
       "2    Jakob Poeltl    Jakob              C     NaN  21:42  ...   1.0   3.0   \n",
       "3   Devin Vassell    Devin              G     NaN  30:20  ...   0.0   9.0   \n",
       "4       Tre Jones      Tre              G     NaN  27:44  ...   0.0   2.0   \n",
       "\n",
       "   REB  AST  STL  BLK   TO   PF   PTS  PLUS_MINUS  \n",
       "0  2.0  0.0  1.0  0.0  2.0  5.0   2.0        -2.0  \n",
       "1  9.0  6.0  1.0  0.0  2.0  1.0  23.0       -14.0  \n",
       "2  4.0  1.0  1.0  0.0  2.0  4.0  13.0        -4.0  \n",
       "3  9.0  5.0  3.0  0.0  2.0  1.0  10.0       -18.0  \n",
       "4  2.0  3.0  0.0  0.0  2.0  2.0  19.0         0.0  \n",
       "\n",
       "[5 rows x 29 columns]"
      ]
     },
     "execution_count": 27,
     "metadata": {},
     "output_type": "execute_result"
    }
   ],
   "source": [
    "details_df = pd.read_csv('games_details.csv')\n",
    "details_df.head()"
   ]
  },
  {
   "cell_type": "markdown",
   "metadata": {},
   "source": [
    "To focus our analysis on more recent data, we filter out games that occurred before the 2017 season. This reduces the size of our dataset and ensures that our models are trained on relevant and current data."
   ]
  },
  {
   "cell_type": "code",
   "execution_count": 28,
   "metadata": {},
   "outputs": [],
   "source": [
    "#For space considerations, we drop all games prior to 2017\n",
    "drop_ids = [] \n",
    "for index, row in games_df.iterrows():\n",
    "    year_str = row['GAME_DATE_EST']\n",
    "    year = int(year_str[0:4])\n",
    "    if(year < 2017):\n",
    "        drop_ids.append(row['GAME_ID'])\n",
    "\n",
    "games_df = games_df[~games_df['GAME_ID'].isin(drop_ids)]\n",
    "details_df = details_df[~details_df['GAME_ID'].isin(drop_ids)]\n",
    "\n",
    "games_df.reset_index(drop=True, inplace=True)\n",
    "details_df.reset_index(drop=True, inplace=True)"
   ]
  },
  {
   "cell_type": "markdown",
   "metadata": {},
   "source": [
    "We initialize a dictionary to store player statistics for each game they played. This structure will help us track individual player performances across multiple games."
   ]
  },
  {
   "cell_type": "code",
   "execution_count": 29,
   "metadata": {},
   "outputs": [
    {
     "name": "stderr",
     "output_type": "stream",
     "text": [
      "Processing rows: 100%|██████████| 208536/208536 [00:30<00:00, 6810.26it/s]\n"
     ]
    }
   ],
   "source": [
    "num_rows = details_df.shape[0]\n",
    "# Initialize the data structure\n",
    "player_stats = {}\n",
    "\n",
    "\n",
    "# Construct the data structure\n",
    "for index, row in tqdm(details_df.iterrows(), total=num_rows, desc=\"Processing rows\"):\n",
    "    player_name = row['PLAYER_NAME']\n",
    "    game_id = row['GAME_ID']\n",
    "    player_statistics = row.drop(['PLAYER_NAME', 'GAME_ID', 'TEAM_ID', 'TEAM_CITY', 'PLAYER_ID', 'NICKNAME','START_POSITION','COMMENT','TEAM_ABBREVIATION'])\n",
    "    if player_statistics.isnull().any():\n",
    "        continue\n",
    "    player_statistics = player_statistics.to_dict()\n",
    "    if player_name not in player_stats:\n",
    "        player_stats[player_name] = {}\n",
    "    \n",
    "    player_stats[player_name][game_id] = player_statistics"
   ]
  },
  {
   "cell_type": "markdown",
   "metadata": {},
   "source": [
    "We create a dictionary to maintain a sorted list of game IDs for each player. This will make it easier to look up the previous three games for any player."
   ]
  },
  {
   "cell_type": "code",
   "execution_count": 30,
   "metadata": {},
   "outputs": [
    {
     "name": "stderr",
     "output_type": "stream",
     "text": [
      "Processing rows:   0%|          | 0/208536 [00:00<?, ?it/s]"
     ]
    },
    {
     "name": "stderr",
     "output_type": "stream",
     "text": [
      "Processing rows: 100%|██████████| 208536/208536 [00:04<00:00, 45160.97it/s]\n"
     ]
    }
   ],
   "source": [
    "player_games_sorted = {}\n",
    "for index, row in tqdm(details_df.iterrows(), total=num_rows, desc=\"Processing rows\"):\n",
    "    player_name = row['PLAYER_NAME']\n",
    "    game_id = row['GAME_ID']\n",
    "\n",
    "    if player_name not in player_games_sorted:\n",
    "        player_games_sorted[player_name] = [game_id]\n",
    "    else:\n",
    "        player_games_sorted[player_name].append(game_id)\n",
    "        player_games_sorted[player_name].sort()"
   ]
  },
  {
   "cell_type": "markdown",
   "metadata": {},
   "source": [
    "We define a function to convert player statistics dictionary entries into numpy arrays. This conversion will facilitate numerical operations and model training."
   ]
  },
  {
   "cell_type": "code",
   "execution_count": 31,
   "metadata": {},
   "outputs": [],
   "source": [
    "def dict_entry_to_numpy(dict_entry):\n",
    "    time_str = dict_entry['MIN']\n",
    "    try:\n",
    "        if ':' in time_str:\n",
    "            minutes, seconds = map(int, time_str.split(':'))\n",
    "            total_minutes = minutes * 60 + seconds\n",
    "        else:\n",
    "            total_minutes = float(time_str) * 60  # Assuming it's in minutes as a float\n",
    "    except ValueError:\n",
    "        total_minutes = 0.0  # Default to 0 if the format is incorrect or missing\n",
    "\n",
    "    new_entry = dict_entry.copy()\n",
    "    new_entry['MIN'] = total_minutes\n",
    "    values_array = np.array(list(new_entry.values()))\n",
    "    return values_array\n"
   ]
  },
  {
   "cell_type": "markdown",
   "metadata": {},
   "source": [
    "We define a function to find the statistics for the past three games of a player. This function is crucial for creating input tensors that capture recent player performance."
   ]
  },
  {
   "cell_type": "code",
   "execution_count": 32,
   "metadata": {},
   "outputs": [],
   "source": [
    "# Function to find past three game IDs\n",
    "def findPastThreeIDs(player_name, target_game=None):\n",
    "    if player_name not in player_games_sorted:\n",
    "        return np.zeros(20 * 3)  # Assuming each entry has 20 features and we need three entries\n",
    "    foundarr = []\n",
    "    for game_id in player_games_sorted[player_name]:\n",
    "        if game_id == target_game:\n",
    "            break\n",
    "        try:\n",
    "            foundarr.append(dict_entry_to_numpy(player_stats[player_name][game_id]))\n",
    "        except KeyError:\n",
    "            continue\n",
    "    if len(foundarr) < 3:\n",
    "        return np.concatenate([np.zeros(20)] * (3 - len(foundarr)) + foundarr)\n",
    "    return np.concatenate(foundarr[-3:])"
   ]
  },
  {
   "cell_type": "markdown",
   "metadata": {},
   "source": [
    "We demonstrate how to use the above function to get the tensor for a player and the three previous games before a specified game."
   ]
  },
  {
   "cell_type": "code",
   "execution_count": 33,
   "metadata": {},
   "outputs": [
    {
     "data": {
      "text/plain": [
       "array([ 1.719e+03,  7.000e+00,  1.000e+01,  7.000e-01,  1.000e+00,\n",
       "        2.000e+00,  5.000e-01,  4.000e+00,  4.000e+00,  1.000e+00,\n",
       "        1.000e+00,  5.000e+00,  6.000e+00,  0.000e+00,  1.000e+00,\n",
       "        1.000e+00,  2.000e+00,  3.000e+00,  1.900e+01, -3.000e+00,\n",
       "        1.491e+03,  1.000e+00,  5.000e+00,  2.000e-01,  0.000e+00,\n",
       "        2.000e+00,  0.000e+00,  1.000e+00,  2.000e+00,  5.000e-01,\n",
       "        2.000e+00,  1.000e+00,  3.000e+00,  1.000e+00,  1.000e+00,\n",
       "        1.000e+00,  0.000e+00,  1.000e+00,  3.000e+00, -1.200e+01,\n",
       "        1.154e+03,  2.000e+00,  2.000e+00,  1.000e+00,  1.000e+00,\n",
       "        1.000e+00,  1.000e+00,  1.000e+00,  2.000e+00,  5.000e-01,\n",
       "        0.000e+00,  1.000e+00,  1.000e+00,  1.000e+00,  0.000e+00,\n",
       "        1.000e+00,  0.000e+00,  1.000e+00,  6.000e+00,  3.000e+00])"
      ]
     },
     "execution_count": 33,
     "metadata": {},
     "output_type": "execute_result"
    }
   ],
   "source": [
    "findPastThreeIDs(\"Romeo Langford\", 22200477)"
   ]
  },
  {
   "cell_type": "markdown",
   "metadata": {},
   "source": [
    "We define a function to get the tensor for a specific game by combining the statistics of starting players. This tensor serves as the input for our machine learning models."
   ]
  },
  {
   "cell_type": "code",
   "execution_count": 34,
   "metadata": {},
   "outputs": [],
   "source": [
    "# Function to get tensor from game ID\n",
    "def getTensorFromID(id, game_details_df):\n",
    "    filtered_df = game_details_df[(game_details_df['GAME_ID'] == id) & (game_details_df['START_POSITION'].notna())]\n",
    "    tensor = np.array([], dtype=float)\n",
    "    for index, row in filtered_df.iterrows():\n",
    "        player_tensor = findPastThreeIDs(row['PLAYER_NAME'], id)\n",
    "        tensor = np.concatenate((tensor, player_tensor))\n",
    "    return tensor "
   ]
  },
  {
   "cell_type": "markdown",
   "metadata": {},
   "source": [
    "Example usage of the above function. This allows us to get an input tensor for a specfied game. So, to train on data, simply run this function to get all input points on the games you want to train on. "
   ]
  },
  {
   "cell_type": "code",
   "execution_count": 35,
   "metadata": {},
   "outputs": [
    {
     "data": {
      "text/plain": [
       "array([ 1.719e+03,  7.000e+00,  1.000e+01,  7.000e-01,  1.000e+00,\n",
       "        2.000e+00,  5.000e-01,  4.000e+00,  4.000e+00,  1.000e+00,\n",
       "        1.000e+00,  5.000e+00,  6.000e+00,  0.000e+00,  1.000e+00,\n",
       "        1.000e+00,  2.000e+00,  3.000e+00,  1.900e+01, -3.000e+00,\n",
       "        1.491e+03,  1.000e+00,  5.000e+00,  2.000e-01,  0.000e+00,\n",
       "        2.000e+00,  0.000e+00,  1.000e+00,  2.000e+00,  5.000e-01,\n",
       "        2.000e+00,  1.000e+00,  3.000e+00,  1.000e+00,  1.000e+00,\n",
       "        1.000e+00,  0.000e+00,  1.000e+00,  3.000e+00, -1.200e+01,\n",
       "        1.154e+03,  2.000e+00,  2.000e+00,  1.000e+00,  1.000e+00,\n",
       "        1.000e+00,  1.000e+00,  1.000e+00,  2.000e+00,  5.000e-01,\n",
       "        0.000e+00,  1.000e+00,  1.000e+00,  1.000e+00,  0.000e+00,\n",
       "        1.000e+00,  0.000e+00,  1.000e+00,  6.000e+00,  3.000e+00,\n",
       "        1.289e+03,  2.000e+00,  6.000e+00,  3.330e-01,  0.000e+00,\n",
       "        0.000e+00,  0.000e+00,  0.000e+00,  0.000e+00,  0.000e+00,\n",
       "        1.000e+00,  4.000e+00,  5.000e+00,  3.000e+00,  0.000e+00,\n",
       "        0.000e+00,  1.000e+00,  0.000e+00,  4.000e+00, -2.000e+00,\n",
       "        9.870e+02,  1.000e+00,  5.000e+00,  2.000e-01,  0.000e+00,\n",
       "        0.000e+00,  0.000e+00,  0.000e+00,  2.000e+00,  0.000e+00,\n",
       "        0.000e+00,  4.000e+00,  4.000e+00,  4.000e+00,  0.000e+00,\n",
       "        0.000e+00,  0.000e+00,  4.000e+00,  2.000e+00, -1.700e+01,\n",
       "        1.388e+03,  5.000e+00,  8.000e+00,  6.250e-01,  1.000e+00,\n",
       "        3.000e+00,  3.330e-01,  1.000e+00,  4.000e+00,  2.500e-01,\n",
       "        2.000e+00,  5.000e+00,  7.000e+00,  2.000e+00,  0.000e+00,\n",
       "        1.000e+00,  2.000e+00,  4.000e+00,  1.200e+01,  1.700e+01,\n",
       "        5.870e+02,  6.000e+00,  8.000e+00,  7.500e-01,  0.000e+00,\n",
       "        0.000e+00,  0.000e+00,  0.000e+00,  0.000e+00,  0.000e+00,\n",
       "        4.000e+00,  5.000e+00,  9.000e+00,  0.000e+00,  0.000e+00,\n",
       "        1.000e+00,  1.000e+00,  2.000e+00,  1.200e+01,  1.100e+01,\n",
       "        1.250e+03,  3.000e+00,  6.000e+00,  5.000e-01,  0.000e+00,\n",
       "        0.000e+00,  0.000e+00,  1.000e+00,  4.000e+00,  2.500e-01,\n",
       "        2.000e+00,  5.000e+00,  7.000e+00,  0.000e+00,  2.000e+00,\n",
       "        0.000e+00,  1.000e+00,  1.000e+00,  7.000e+00, -1.600e+01,\n",
       "        1.350e+03,  4.000e+00,  6.000e+00,  6.670e-01,  0.000e+00,\n",
       "        0.000e+00,  0.000e+00,  0.000e+00,  0.000e+00,  0.000e+00,\n",
       "        0.000e+00,  5.000e+00,  5.000e+00,  1.000e+00,  0.000e+00,\n",
       "        2.000e+00,  1.000e+00,  5.000e+00,  8.000e+00,  6.000e+00,\n",
       "        1.534e+03,  4.000e+00,  1.600e+01,  2.500e-01,  2.000e+00,\n",
       "        4.000e+00,  5.000e-01,  3.000e+00,  3.000e+00,  1.000e+00,\n",
       "        1.000e+00,  1.000e+00,  2.000e+00,  4.000e+00,  3.000e+00,\n",
       "        1.000e+00,  1.000e+00,  0.000e+00,  1.300e+01, -1.000e+01,\n",
       "        1.906e+03,  5.000e+00,  1.400e+01,  3.570e-01,  1.000e+00,\n",
       "        7.000e+00,  1.430e-01,  7.000e+00,  9.000e+00,  7.780e-01,\n",
       "        1.000e+00,  2.000e+00,  3.000e+00,  2.000e+00,  1.000e+00,\n",
       "        0.000e+00,  2.000e+00,  3.000e+00,  1.800e+01, -2.700e+01,\n",
       "        1.721e+03,  1.000e+01,  1.700e+01,  5.880e-01,  5.000e+00,\n",
       "        8.000e+00,  6.250e-01,  1.000e+00,  1.000e+00,  1.000e+00,\n",
       "        0.000e+00,  4.000e+00,  4.000e+00,  5.000e+00,  1.000e+00,\n",
       "        0.000e+00,  2.000e+00,  1.000e+00,  2.600e+01,  1.800e+01,\n",
       "        1.511e+03,  5.000e+00,  1.100e+01,  4.550e-01,  0.000e+00,\n",
       "        0.000e+00,  0.000e+00,  0.000e+00,  0.000e+00,  0.000e+00,\n",
       "        2.000e+00,  2.000e+00,  4.000e+00,  6.000e+00,  0.000e+00,\n",
       "        0.000e+00,  0.000e+00,  1.000e+00,  1.000e+01, -1.400e+01,\n",
       "        1.911e+03,  2.000e+00,  1.000e+01,  2.000e-01,  0.000e+00,\n",
       "        2.000e+00,  0.000e+00,  5.000e+00,  6.000e+00,  8.330e-01,\n",
       "        0.000e+00,  3.000e+00,  3.000e+00,  9.000e+00,  1.000e+00,\n",
       "        0.000e+00,  4.000e+00,  1.000e+00,  9.000e+00, -1.800e+01,\n",
       "        1.672e+03,  5.000e+00,  1.300e+01,  3.850e-01,  1.000e+00,\n",
       "        5.000e+00,  2.000e-01,  2.000e+00,  2.000e+00,  1.000e+00,\n",
       "        2.000e+00,  4.000e+00,  6.000e+00,  8.000e+00,  1.000e+00,\n",
       "        0.000e+00,  1.000e+00,  0.000e+00,  1.300e+01,  1.000e+01,\n",
       "        1.963e+03,  4.000e+00,  8.000e+00,  5.000e-01,  3.000e+00,\n",
       "        7.000e+00,  4.290e-01,  1.000e+00,  1.000e+00,  1.000e+00,\n",
       "        1.000e+00,  4.000e+00,  5.000e+00,  0.000e+00,  1.000e+00,\n",
       "        0.000e+00,  1.000e+00,  6.000e+00,  1.200e+01,  1.000e+00,\n",
       "        1.345e+03,  3.000e+00,  8.000e+00,  3.750e-01,  2.000e+00,\n",
       "        4.000e+00,  5.000e-01,  0.000e+00,  0.000e+00,  0.000e+00,\n",
       "        1.000e+00,  3.000e+00,  4.000e+00,  2.000e+00,  0.000e+00,\n",
       "        2.000e+00,  1.000e+00,  2.000e+00,  8.000e+00,  9.000e+00,\n",
       "        1.678e+03,  3.000e+00,  6.000e+00,  5.000e-01,  1.000e+00,\n",
       "        3.000e+00,  3.330e-01,  6.000e+00,  6.000e+00,  1.000e+00,\n",
       "        3.000e+00,  2.000e+00,  5.000e+00,  0.000e+00,  0.000e+00,\n",
       "        0.000e+00,  0.000e+00,  1.000e+00,  1.300e+01, -9.000e+00,\n",
       "        1.988e+03,  4.000e+00,  1.100e+01,  3.640e-01,  0.000e+00,\n",
       "        4.000e+00,  0.000e+00,  5.000e+00,  6.000e+00,  8.330e-01,\n",
       "        1.000e+00,  1.000e+00,  2.000e+00,  2.000e+00,  4.000e+00,\n",
       "        0.000e+00,  1.000e+00,  2.000e+00,  1.300e+01, -1.300e+01,\n",
       "        1.058e+03,  3.000e+00,  8.000e+00,  3.750e-01,  3.000e+00,\n",
       "        6.000e+00,  5.000e-01,  2.000e+00,  2.000e+00,  1.000e+00,\n",
       "        2.000e+00,  2.000e+00,  4.000e+00,  2.000e+00,  0.000e+00,\n",
       "        0.000e+00,  0.000e+00,  1.000e+00,  1.100e+01, -5.000e+00,\n",
       "        8.800e+02,  1.000e+00,  6.000e+00,  1.670e-01,  1.000e+00,\n",
       "        6.000e+00,  1.670e-01,  0.000e+00,  0.000e+00,  0.000e+00,\n",
       "        0.000e+00,  0.000e+00,  0.000e+00,  1.000e+00,  0.000e+00,\n",
       "        0.000e+00,  1.000e+00,  0.000e+00,  3.000e+00, -1.300e+01,\n",
       "        1.569e+03,  3.000e+00,  6.000e+00,  5.000e-01,  0.000e+00,\n",
       "        0.000e+00,  0.000e+00,  0.000e+00,  0.000e+00,  0.000e+00,\n",
       "        3.000e+00,  6.000e+00,  9.000e+00,  1.000e+00,  0.000e+00,\n",
       "        1.000e+00,  1.000e+00,  3.000e+00,  6.000e+00, -6.000e+00,\n",
       "        1.561e+03,  6.000e+00,  9.000e+00,  6.670e-01,  0.000e+00,\n",
       "        1.000e+00,  0.000e+00,  0.000e+00,  0.000e+00,  0.000e+00,\n",
       "        0.000e+00,  8.000e+00,  8.000e+00,  0.000e+00,  0.000e+00,\n",
       "        1.000e+00,  2.000e+00,  5.000e+00,  1.200e+01, -1.000e+00,\n",
       "        2.222e+03,  1.400e+01,  2.400e+01,  5.830e-01,  7.000e+00,\n",
       "        1.000e+01,  7.000e-01,  2.000e+00,  2.000e+00,  1.000e+00,\n",
       "        6.000e+00,  1.200e+01,  1.800e+01,  5.000e+00,  1.000e+00,\n",
       "        0.000e+00,  2.000e+00,  4.000e+00,  3.700e+01,  6.000e+00,\n",
       "        1.271e+03,  3.000e+00,  6.000e+00,  5.000e-01,  1.000e+00,\n",
       "        1.000e+00,  1.000e+00,  5.000e+00,  6.000e+00,  8.330e-01,\n",
       "        3.000e+00,  1.000e+00,  4.000e+00,  4.000e+00,  1.000e+00,\n",
       "        0.000e+00,  0.000e+00,  6.000e+00,  1.200e+01,  1.700e+01,\n",
       "        1.880e+03,  3.000e+00,  4.000e+00,  7.500e-01,  2.000e+00,\n",
       "        3.000e+00,  6.670e-01,  0.000e+00,  0.000e+00,  0.000e+00,\n",
       "        0.000e+00,  3.000e+00,  3.000e+00,  4.000e+00,  0.000e+00,\n",
       "        0.000e+00,  0.000e+00,  3.000e+00,  8.000e+00, -1.300e+01,\n",
       "        1.844e+03,  3.000e+00,  1.100e+01,  2.730e-01,  2.000e+00,\n",
       "        8.000e+00,  2.500e-01,  1.000e+00,  2.000e+00,  5.000e-01,\n",
       "        1.000e+00,  1.000e+00,  2.000e+00,  1.000e+00,  5.000e+00,\n",
       "        0.000e+00,  2.000e+00,  5.000e+00,  9.000e+00,  7.000e+00,\n",
       "        2.493e+03,  1.100e+01,  2.500e+01,  4.400e-01,  3.000e+00,\n",
       "        8.000e+00,  3.750e-01,  3.000e+00,  3.000e+00,  1.000e+00,\n",
       "        0.000e+00,  6.000e+00,  6.000e+00,  4.000e+00,  0.000e+00,\n",
       "        2.000e+00,  4.000e+00,  5.000e+00,  2.800e+01, -3.000e+00,\n",
       "        2.167e+03,  1.100e+01,  1.900e+01,  5.790e-01,  4.000e+00,\n",
       "        7.000e+00,  5.710e-01,  1.000e+00,  1.000e+00,  1.000e+00,\n",
       "        0.000e+00,  2.000e+00,  2.000e+00,  8.000e+00,  0.000e+00,\n",
       "        1.000e+00,  3.000e+00,  2.000e+00,  2.700e+01,  1.000e+00,\n",
       "        2.466e+03,  1.100e+01,  2.400e+01,  4.580e-01,  6.000e+00,\n",
       "        1.000e+01,  6.000e-01,  3.000e+00,  4.000e+00,  7.500e-01,\n",
       "        2.000e+00,  6.000e+00,  8.000e+00,  9.000e+00,  0.000e+00,\n",
       "        0.000e+00,  3.000e+00,  1.000e+00,  3.100e+01, -3.000e+00])"
      ]
     },
     "execution_count": 35,
     "metadata": {},
     "output_type": "execute_result"
    }
   ],
   "source": [
    "getTensorFromID(22200477, details_df)"
   ]
  },
  {
   "cell_type": "markdown",
   "metadata": {},
   "source": [
    "We prepare the training data by constructing input tensors for each game and corresponding labels for the classification and regression tasks. This involves iterating through each game and creating the necessary tensors and labels.\n",
    "\n",
    "To ensure all tensors have consistent shapes, we pad them to the length of the longest tensor. This step is crucial for the models to process the input data correctly.\n",
    "\n",
    "We split the data into training and testing sets for both classification and regression tasks. This allows us to evaluate our models on unseen data."
   ]
  },
  {
   "cell_type": "code",
   "execution_count": 36,
   "metadata": {},
   "outputs": [
    {
     "name": "stderr",
     "output_type": "stream",
     "text": [
      "Preparing training data: 100%|██████████| 7984/7984 [01:26<00:00, 92.20it/s] \n"
     ]
    }
   ],
   "source": [
    "# Preparing training data\n",
    "input_tensors = []\n",
    "output_labels = []\n",
    "output_scores = []\n",
    "\n",
    "for index, row in tqdm(games_df.iterrows(), total=games_df.shape[0], desc=\"Preparing training data\"):\n",
    "    game_id = row['GAME_ID']\n",
    "    home_team_wins = 1 if row['HOME_TEAM_WINS'] else 0\n",
    "    home_team_score = row['PTS_home']\n",
    "    away_team_score = row['PTS_away']\n",
    "    \n",
    "    tensor = getTensorFromID(game_id, details_df)\n",
    "    input_tensors.append(tensor)\n",
    "    output_labels.append(home_team_wins)\n",
    "    output_scores.append([home_team_score, away_team_score])\n",
    "\n",
    "# Determine the maximum tensor length\n",
    "max_length = max(len(tensor) for tensor in input_tensors)\n",
    "\n",
    "# Pad tensors to ensure consistent shape\n",
    "def pad_tensor(tensor, max_length):\n",
    "    padding = max(0, max_length - len(tensor))\n",
    "    return np.pad(tensor, (0, padding), 'constant')\n",
    "\n",
    "input_tensors = [pad_tensor(tensor, max_length) for tensor in input_tensors]\n",
    "\n",
    "# Convert to numpy arrays\n",
    "X = np.array(input_tensors)\n",
    "y = np.array(output_labels)\n",
    "y_scores = np.array(output_scores)\n",
    "\n",
    "# Train-test split\n",
    "X_train, X_test, y_train, y_test = train_test_split(X, y, test_size=0.2, random_state=42)\n",
    "X_train_scores, X_test_scores, y_train_scores, y_test_scores = train_test_split(X, y_scores, test_size=0.2, random_state=42)"
   ]
  },
  {
   "cell_type": "markdown",
   "metadata": {},
   "source": [
    "Now that the data has been prepared, we can test out different architecutures"
   ]
  },
  {
   "cell_type": "markdown",
   "metadata": {},
   "source": [
    "Logistic Regression Classifier\n",
    "\n",
    "In this section, we will create a logistic regression classifier to classify the winning team given 2 input array of five players. The code above this cell is the data preprocessing pipeline, which filters out unnecessary features and creates helper functions to make input tensors based on player data. The code below defines a logistic regression classifier, normalizes the data, and uses a grid search approach to identify the best regularization hyperparameters."
   ]
  },
  {
   "cell_type": "code",
   "execution_count": null,
   "metadata": {},
   "outputs": [
    {
     "name": "stdout",
     "output_type": "stream",
     "text": [
      "Best parameters found:  {'C': 0.01, 'penalty': 'l1', 'solver': 'liblinear'}\n",
      "Best cross-validation accuracy: 0.59\n",
      "Test set accuracy: 0.59\n",
      "Classification report:\n",
      "               precision    recall  f1-score   support\n",
      "\n",
      "           0       0.64      0.26      0.37       730\n",
      "           1       0.58      0.87      0.70       867\n",
      "\n",
      "    accuracy                           0.59      1597\n",
      "   macro avg       0.61      0.57      0.53      1597\n",
      "weighted avg       0.61      0.59      0.55      1597\n",
      "\n",
      "Confusion matrix:\n",
      " [[190 540]\n",
      " [109 758]]\n"
     ]
    }
   ],
   "source": [
    "from sklearn.linear_model import LogisticRegression\n",
    "from sklearn.preprocessing import StandardScaler\n",
    "from sklearn.metrics import accuracy_score, classification_report, confusion_matrix\n",
    "from sklearn.model_selection import GridSearchCV\n",
    "\n",
    "logistic_clf = LogisticRegression()\n",
    "\n",
    "scaler = StandardScaler()\n",
    "X_train_scaled = scaler.fit_transform(X_train)\n",
    "X_test_scaled = scaler.transform(X_test)\n",
    "\n",
    "param_grid = {\n",
    "    'C': [0.01, 0.1, 1, 10, 100],\n",
    "    'penalty': ['l1', 'l2'],\n",
    "    'solver': ['liblinear']\n",
    "}\n",
    "\n",
    "# Initialize GridSearchCV with cross-validation\n",
    "grid_search = GridSearchCV(logistic_clf, param_grid, cv=5, scoring='accuracy')\n",
    "\n",
    "# Fit the model using GridSearchCV\n",
    "grid_search.fit(X_train_scaled, y_train)\n",
    "\n",
    "# Print the best parameters and the best score\n",
    "print(\"Best parameters found: \", grid_search.best_params_)\n",
    "print(\"Best cross-validation accuracy: {:.2f}\".format(grid_search.best_score_))\n",
    "\n",
    "best_model = grid_search.best_estimator_\n",
    "y_pred = best_model.predict(X_test_scaled)\n",
    "\n",
    "accuracy = accuracy_score(y_test, y_pred)\n",
    "print(\"Test set accuracy: {:.2f}\".format(accuracy))\n",
    "print(\"Classification report:\\n\", classification_report(y_test, y_pred))\n",
    "print(\"Confusion matrix:\\n\", confusion_matrix(y_test, y_pred))"
   ]
  },
  {
   "cell_type": "markdown",
   "metadata": {},
   "source": [
    "We can see the results of training our model. Various metrics are shown above and below."
   ]
  },
  {
   "cell_type": "code",
   "execution_count": null,
   "metadata": {},
   "outputs": [
    {
     "name": "stdout",
     "output_type": "stream",
     "text": [
      "Accuracy: 0.593613024420789\n",
      "Precision: 0.5839753466872111\n",
      "Recall: 0.8742791234140715\n",
      "F1 Score: 0.7002309468822171\n",
      "ROC AUC: 0.5626250177750391\n"
     ]
    }
   ],
   "source": [
    "from sklearn.metrics import accuracy_score, precision_score, recall_score, f1_score, roc_auc_score\n",
    "\n",
    "y_pred_prob = best_model.predict_proba(X_test)[:, 1]\n",
    "\n",
    "accuracy = accuracy_score(y_test, y_pred)\n",
    "precision = precision_score(y_test, y_pred)\n",
    "recall = recall_score(y_test, y_pred)\n",
    "f1 = f1_score(y_test, y_pred)\n",
    "roc_auc = roc_auc_score(y_test, y_pred_prob)\n",
    "\n",
    "print(f'Accuracy: {accuracy}')\n",
    "print(f'Precision: {precision}')\n",
    "print(f'Recall: {recall}')\n",
    "print(f'F1 Score: {f1}')\n",
    "print(f'ROC AUC: {roc_auc}')"
   ]
  },
  {
   "cell_type": "markdown",
   "metadata": {},
   "source": [
    "This function is used as the user input pipeline and utilizes the logistic regression model to make a prediction on the winning team"
   ]
  },
  {
   "cell_type": "code",
   "execution_count": null,
   "metadata": {},
   "outputs": [
    {
     "name": "stdout",
     "output_type": "stream",
     "text": [
      "Enter the names of the home team players separated by commas:  Trey Murphy III, Naji Marshall, Jonas Valanciunas,Herbert Jones, CJ McCollum \n",
      "Enter the names of the away team players separated by commas:  Stephen Curry, Klay Thompson, Draymond Green, Kevon Looney, Andrew Wiggins\n"
     ]
    },
    {
     "name": "stdout",
     "output_type": "stream",
     "text": [
      "[0.46258764 0.53741236]\n",
      "Predicted Outcome: Away Team Wins\n",
      "Home Team Win Probability: 0.46\n",
      "Away Team Win Probability: 0.54\n"
     ]
    }
   ],
   "source": [
    "def predict_game_outcome_log(home_team_players, away_team_players, scaler):\n",
    "    max_players = 5\n",
    "    \n",
    "    if len(home_team_players) > max_players or len(away_team_players) > max_players:\n",
    "        print(\"Error: More than 5 players entered on a team.\")\n",
    "        return None\n",
    "    \n",
    "    home_tensor = np.array([], dtype=float)\n",
    "    away_tensor = np.array([], dtype=float)\n",
    "    \n",
    "    for player in home_team_players:\n",
    "        if player not in player_stats:\n",
    "            print(f\"Error: Player {player} not found.\")\n",
    "            return None\n",
    "        player_tensor = findPastThreeIDs(player, None)\n",
    "        home_tensor = np.concatenate((home_tensor, player_tensor))\n",
    "    \n",
    "    for player in away_team_players:\n",
    "        if player not in player_stats:\n",
    "            print(f\"Error: Player {player} not found.\")\n",
    "            return None\n",
    "        player_tensor = findPastThreeIDs(player, None)\n",
    "        # away_tensors.append(player_tensor)\n",
    "        away_tensor = np.concatenate((away_tensor, player_tensor))\n",
    "    \n",
    "    while len(home_team_players) < max_players:\n",
    "        home_tensor = np.concatenate((home_tensor, np.zeros(20 * 3)))\n",
    "        home_team_players.append(None)\n",
    "    \n",
    "    while len(away_team_players) < max_players:\n",
    "        away_tensor = np.concatenate((away_tensor, np.zeros(20 * 3)))\n",
    "        away_team_players.append(None)  # To keep track of added empty tensors\n",
    "    \n",
    "    home_tensor = pad_tensor(home_tensor, max_length // 2)\n",
    "    away_tensor = pad_tensor(away_tensor, max_length // 2)\n",
    "\n",
    "    input_tensor = np.concatenate((home_tensor, away_tensor)).reshape(1, -1)\n",
    "\n",
    "    input_tensor_scaled = scaler.transform(input_tensor)\n",
    "    \n",
    "    scores = best_model.predict_proba(input_tensor_scaled)[0]\n",
    "    print(scores)\n",
    "\n",
    "    home_team_score_prob = scores[0]\n",
    "    away_team_score_prob = scores[1]\n",
    "    \n",
    "    if home_team_score_prob > away_team_score_prob:\n",
    "        outcome = 1  # Home team wins\n",
    "    else:\n",
    "        outcome = 0  # Away team wins\n",
    "    \n",
    "    return outcome, home_team_score_prob, away_team_score_prob\n",
    "\n",
    "home_team_input = input(\"Enter the names of the home team players separated by commas: \").split(',')\n",
    "away_team_input = input(\"Enter the names of the away team players separated by commas: \").split(',')\n",
    "\n",
    "home_team_input = [player.strip() for player in home_team_input]\n",
    "away_team_input = [player.strip() for player in away_team_input]\n",
    "\n",
    "outcome, home_team_prob, away_team_prob = predict_game_outcome_log(home_team_input, away_team_input, scaler)\n",
    "\n",
    "if outcome is not None:\n",
    "    print(f'Predicted Outcome: {\"Home Team Wins\" if outcome == 1 else \"Away Team Wins\"}')\n",
    "    print(f'Home Team Win Probability: {home_team_prob:.2f}')\n",
    "    print(f'Away Team Win Probability: {away_team_prob:.2f}')\n"
   ]
  },
  {
   "cell_type": "markdown",
   "metadata": {},
   "source": [
    "The cells below create figure to visual the accuracy, error, and ROC-AUC graph"
   ]
  },
  {
   "cell_type": "code",
   "execution_count": null,
   "metadata": {},
   "outputs": [
    {
     "data": {
      "image/png": "[encoded data removed]",
      "text/plain": [
       "<Figure size 640x480 with 1 Axes>"
      ]
     },
     "metadata": {},
     "output_type": "display_data"
    }
   ],
   "source": [
    "import numpy as np\n",
    "import matplotlib.pyplot as plt\n",
    "from sklearn.model_selection import learning_curve\n",
    "\n",
    "final_test_score = accuracy_score(y_test, best_model.predict(X_test_scaled))\n",
    "\n",
    "train_sizes, train_scores, test_scores = learning_curve(\n",
    "    best_model, X_train_scaled, y_train, cv=5, scoring='accuracy',\n",
    "    train_sizes=np.linspace(0.1, 1.0, 10)\n",
    ")\n",
    "\n",
    "train_scores_mean = np.mean(train_scores, axis=1)\n",
    "train_scores_std = np.std(train_scores, axis=1)\n",
    "test_scores_mean = np.mean(test_scores, axis=1)\n",
    "test_scores_std = np.std(test_scores, axis=1)\n",
    "\n",
    "plt.figure()\n",
    "plt.title(\"Accuracy Curves\")\n",
    "plt.xlabel(\"Training examples\")\n",
    "plt.ylabel(\"Accuracy\")\n",
    "plt.grid()\n",
    "plt.plot(train_sizes, train_scores_mean,  color=\"r\", label=\"Training score\")\n",
    "plt.plot(train_sizes, test_scores_mean, color=\"g\", label=\"Cross-validation score\")\n",
    "plt.legend()\n",
    "plt.show()"
   ]
  },
  {
   "cell_type": "code",
   "execution_count": null,
   "metadata": {},
   "outputs": [
    {
     "data": {
      "image/png": "[encoded data removed]",
      "text/plain": [
       "<Figure size 640x480 with 1 Axes>"
      ]
     },
     "metadata": {},
     "output_type": "display_data"
    }
   ],
   "source": [
    "train_sizes, train_scores, test_scores = learning_curve(\n",
    "    best_model, X_train_scaled, y_train, cv=5, scoring='neg_log_loss',\n",
    "    train_sizes=np.linspace(0.1, 1.0, 10)\n",
    ")\n",
    "\n",
    "train_errors_mean = -np.mean(train_scores, axis=1)\n",
    "train_errors_std = np.std(train_scores, axis=1)\n",
    "test_errors_mean = -np.mean(test_scores, axis=1)\n",
    "test_errors_std = np.std(test_scores, axis=1)\n",
    "\n",
    "plt.figure()\n",
    "plt.title(\"Error Curves\")\n",
    "plt.xlabel(\"Training examples\")\n",
    "plt.ylabel(\"Log Loss (Error)\")\n",
    "plt.grid()\n",
    "plt.plot(train_sizes, train_errors_mean,  color=\"r\", label=\"Training error\")\n",
    "plt.plot(train_sizes, test_errors_mean,  color=\"g\", label=\"Cross-validation error\")\n",
    "plt.legend()\n",
    "plt.show()"
   ]
  },
  {
   "cell_type": "code",
   "execution_count": null,
   "metadata": {},
   "outputs": [
    {
     "data": {
      "image/png": "[encoded data removed]",
      "text/plain": [
       "<Figure size 640x480 with 1 Axes>"
      ]
     },
     "metadata": {},
     "output_type": "display_data"
    }
   ],
   "source": [
    "from sklearn.metrics import roc_curve\n",
    "fpr, tpr, thresholds = roc_curve(y_test, y_pred_prob)\n",
    "\n",
    "plt.plot(fpr, tpr, label='ROC Curve (area = %0.2f)' % roc_auc)\n",
    "plt.plot([0, 1], [0, 1], 'k--')  # Dashed diagonal\n",
    "plt.xlabel('False Positive Rate')\n",
    "plt.ylabel('True Positive Rate')\n",
    "plt.title('ROC Curve')\n",
    "plt.legend(loc=\"lower right\")\n",
    "plt.show()"
   ]
  },
  {
   "cell_type": "markdown",
   "metadata": {},
   "source": [
    "# SVR Contributions Are Here:\n",
    "The code work leading to this section is the same as the set used for random forest, and we implement the rest below using SVR. We define a grid of parameters to step through and use GridSearchCV to search through all of the the combincations. Then from there we want to train and test the two models, and store the best results for both. "
   ]
  },
  {
   "cell_type": "code",
   "execution_count": null,
   "metadata": {},
   "outputs": [
    {
     "name": "stdout",
     "output_type": "stream",
     "text": [
      "Fitting 5 folds for each of 12 candidates, totalling 60 fits\n",
      "[CV] END .....................C=0.1, gamma=scale, kernel=rbf; total time=   6.9s\n",
      "[CV] END .....................C=0.1, gamma=scale, kernel=rbf; total time=   6.8s\n",
      "[CV] END .....................C=0.1, gamma=scale, kernel=rbf; total time=   6.9s\n",
      "[CV] END .....................C=0.1, gamma=scale, kernel=rbf; total time=   6.9s\n",
      "[CV] END .....................C=0.1, gamma=scale, kernel=rbf; total time=   6.8s\n"
     ]
    },
    {
     "name": "stderr",
     "output_type": "stream",
     "text": [
      "/Users/rahulmohan/Library/Python/3.9/lib/python/site-packages/sklearn/svm/_base.py:297: ConvergenceWarning: Solver terminated early (max_iter=10000).  Consider pre-processing your data with StandardScaler or MinMaxScaler.\n",
      "  warnings.warn(\n"
     ]
    },
    {
     "name": "stdout",
     "output_type": "stream",
     "text": [
      "[CV] END ..................C=0.1, gamma=scale, kernel=linear; total time=   1.9s\n"
     ]
    },
    {
     "name": "stderr",
     "output_type": "stream",
     "text": [
      "/Users/rahulmohan/Library/Python/3.9/lib/python/site-packages/sklearn/svm/_base.py:297: ConvergenceWarning: Solver terminated early (max_iter=10000).  Consider pre-processing your data with StandardScaler or MinMaxScaler.\n",
      "  warnings.warn(\n"
     ]
    },
    {
     "name": "stdout",
     "output_type": "stream",
     "text": [
      "[CV] END ..................C=0.1, gamma=scale, kernel=linear; total time=   1.9s\n"
     ]
    },
    {
     "name": "stderr",
     "output_type": "stream",
     "text": [
      "/Users/rahulmohan/Library/Python/3.9/lib/python/site-packages/sklearn/svm/_base.py:297: ConvergenceWarning: Solver terminated early (max_iter=10000).  Consider pre-processing your data with StandardScaler or MinMaxScaler.\n",
      "  warnings.warn(\n"
     ]
    },
    {
     "name": "stdout",
     "output_type": "stream",
     "text": [
      "[CV] END ..................C=0.1, gamma=scale, kernel=linear; total time=   1.9s\n"
     ]
    },
    {
     "name": "stderr",
     "output_type": "stream",
     "text": [
      "/Users/rahulmohan/Library/Python/3.9/lib/python/site-packages/sklearn/svm/_base.py:297: ConvergenceWarning: Solver terminated early (max_iter=10000).  Consider pre-processing your data with StandardScaler or MinMaxScaler.\n",
      "  warnings.warn(\n"
     ]
    },
    {
     "name": "stdout",
     "output_type": "stream",
     "text": [
      "[CV] END ..................C=0.1, gamma=scale, kernel=linear; total time=   1.9s\n"
     ]
    },
    {
     "name": "stderr",
     "output_type": "stream",
     "text": [
      "/Users/rahulmohan/Library/Python/3.9/lib/python/site-packages/sklearn/svm/_base.py:297: ConvergenceWarning: Solver terminated early (max_iter=10000).  Consider pre-processing your data with StandardScaler or MinMaxScaler.\n",
      "  warnings.warn(\n"
     ]
    },
    {
     "name": "stdout",
     "output_type": "stream",
     "text": [
      "[CV] END ..................C=0.1, gamma=scale, kernel=linear; total time=   1.7s\n",
      "[CV] END ......................C=0.1, gamma=auto, kernel=rbf; total time=   6.7s\n",
      "[CV] END ......................C=0.1, gamma=auto, kernel=rbf; total time=   6.7s\n",
      "[CV] END ......................C=0.1, gamma=auto, kernel=rbf; total time=   6.7s\n",
      "[CV] END ......................C=0.1, gamma=auto, kernel=rbf; total time=   6.7s\n",
      "[CV] END ......................C=0.1, gamma=auto, kernel=rbf; total time=   6.7s\n"
     ]
    },
    {
     "name": "stderr",
     "output_type": "stream",
     "text": [
      "/Users/rahulmohan/Library/Python/3.9/lib/python/site-packages/sklearn/svm/_base.py:297: ConvergenceWarning: Solver terminated early (max_iter=10000).  Consider pre-processing your data with StandardScaler or MinMaxScaler.\n",
      "  warnings.warn(\n"
     ]
    },
    {
     "name": "stdout",
     "output_type": "stream",
     "text": [
      "[CV] END ...................C=0.1, gamma=auto, kernel=linear; total time=   1.9s\n"
     ]
    },
    {
     "name": "stderr",
     "output_type": "stream",
     "text": [
      "/Users/rahulmohan/Library/Python/3.9/lib/python/site-packages/sklearn/svm/_base.py:297: ConvergenceWarning: Solver terminated early (max_iter=10000).  Consider pre-processing your data with StandardScaler or MinMaxScaler.\n",
      "  warnings.warn(\n"
     ]
    },
    {
     "name": "stdout",
     "output_type": "stream",
     "text": [
      "[CV] END ...................C=0.1, gamma=auto, kernel=linear; total time=   1.8s\n"
     ]
    },
    {
     "name": "stderr",
     "output_type": "stream",
     "text": [
      "/Users/rahulmohan/Library/Python/3.9/lib/python/site-packages/sklearn/svm/_base.py:297: ConvergenceWarning: Solver terminated early (max_iter=10000).  Consider pre-processing your data with StandardScaler or MinMaxScaler.\n",
      "  warnings.warn(\n"
     ]
    },
    {
     "name": "stdout",
     "output_type": "stream",
     "text": [
      "[CV] END ...................C=0.1, gamma=auto, kernel=linear; total time=   1.9s\n"
     ]
    },
    {
     "name": "stderr",
     "output_type": "stream",
     "text": [
      "/Users/rahulmohan/Library/Python/3.9/lib/python/site-packages/sklearn/svm/_base.py:297: ConvergenceWarning: Solver terminated early (max_iter=10000).  Consider pre-processing your data with StandardScaler or MinMaxScaler.\n",
      "  warnings.warn(\n"
     ]
    },
    {
     "name": "stdout",
     "output_type": "stream",
     "text": [
      "[CV] END ...................C=0.1, gamma=auto, kernel=linear; total time=   1.9s\n"
     ]
    },
    {
     "name": "stderr",
     "output_type": "stream",
     "text": [
      "/Users/rahulmohan/Library/Python/3.9/lib/python/site-packages/sklearn/svm/_base.py:297: ConvergenceWarning: Solver terminated early (max_iter=10000).  Consider pre-processing your data with StandardScaler or MinMaxScaler.\n",
      "  warnings.warn(\n"
     ]
    },
    {
     "name": "stdout",
     "output_type": "stream",
     "text": [
      "[CV] END ...................C=0.1, gamma=auto, kernel=linear; total time=   1.7s\n",
      "[CV] END .......................C=1, gamma=scale, kernel=rbf; total time=   6.8s\n",
      "[CV] END .......................C=1, gamma=scale, kernel=rbf; total time=   6.9s\n",
      "[CV] END .......................C=1, gamma=scale, kernel=rbf; total time=   6.7s\n",
      "[CV] END .......................C=1, gamma=scale, kernel=rbf; total time=   6.7s\n",
      "[CV] END .......................C=1, gamma=scale, kernel=rbf; total time=   6.6s\n"
     ]
    },
    {
     "name": "stderr",
     "output_type": "stream",
     "text": [
      "/Users/rahulmohan/Library/Python/3.9/lib/python/site-packages/sklearn/svm/_base.py:297: ConvergenceWarning: Solver terminated early (max_iter=10000).  Consider pre-processing your data with StandardScaler or MinMaxScaler.\n",
      "  warnings.warn(\n"
     ]
    },
    {
     "name": "stdout",
     "output_type": "stream",
     "text": [
      "[CV] END ....................C=1, gamma=scale, kernel=linear; total time=   1.9s\n"
     ]
    },
    {
     "name": "stderr",
     "output_type": "stream",
     "text": [
      "/Users/rahulmohan/Library/Python/3.9/lib/python/site-packages/sklearn/svm/_base.py:297: ConvergenceWarning: Solver terminated early (max_iter=10000).  Consider pre-processing your data with StandardScaler or MinMaxScaler.\n",
      "  warnings.warn(\n"
     ]
    },
    {
     "name": "stdout",
     "output_type": "stream",
     "text": [
      "[CV] END ....................C=1, gamma=scale, kernel=linear; total time=   1.9s\n"
     ]
    },
    {
     "name": "stderr",
     "output_type": "stream",
     "text": [
      "/Users/rahulmohan/Library/Python/3.9/lib/python/site-packages/sklearn/svm/_base.py:297: ConvergenceWarning: Solver terminated early (max_iter=10000).  Consider pre-processing your data with StandardScaler or MinMaxScaler.\n",
      "  warnings.warn(\n"
     ]
    },
    {
     "name": "stdout",
     "output_type": "stream",
     "text": [
      "[CV] END ....................C=1, gamma=scale, kernel=linear; total time=   1.8s\n"
     ]
    },
    {
     "name": "stderr",
     "output_type": "stream",
     "text": [
      "/Users/rahulmohan/Library/Python/3.9/lib/python/site-packages/sklearn/svm/_base.py:297: ConvergenceWarning: Solver terminated early (max_iter=10000).  Consider pre-processing your data with StandardScaler or MinMaxScaler.\n",
      "  warnings.warn(\n"
     ]
    },
    {
     "name": "stdout",
     "output_type": "stream",
     "text": [
      "[CV] END ....................C=1, gamma=scale, kernel=linear; total time=   1.9s\n"
     ]
    },
    {
     "name": "stderr",
     "output_type": "stream",
     "text": [
      "/Users/rahulmohan/Library/Python/3.9/lib/python/site-packages/sklearn/svm/_base.py:297: ConvergenceWarning: Solver terminated early (max_iter=10000).  Consider pre-processing your data with StandardScaler or MinMaxScaler.\n",
      "  warnings.warn(\n"
     ]
    },
    {
     "name": "stdout",
     "output_type": "stream",
     "text": [
      "[CV] END ....................C=1, gamma=scale, kernel=linear; total time=   1.7s\n",
      "[CV] END ........................C=1, gamma=auto, kernel=rbf; total time=   6.4s\n",
      "[CV] END ........................C=1, gamma=auto, kernel=rbf; total time=   6.5s\n",
      "[CV] END ........................C=1, gamma=auto, kernel=rbf; total time=   6.4s\n",
      "[CV] END ........................C=1, gamma=auto, kernel=rbf; total time=   6.5s\n",
      "[CV] END ........................C=1, gamma=auto, kernel=rbf; total time=   6.3s\n"
     ]
    },
    {
     "name": "stderr",
     "output_type": "stream",
     "text": [
      "/Users/rahulmohan/Library/Python/3.9/lib/python/site-packages/sklearn/svm/_base.py:297: ConvergenceWarning: Solver terminated early (max_iter=10000).  Consider pre-processing your data with StandardScaler or MinMaxScaler.\n",
      "  warnings.warn(\n"
     ]
    },
    {
     "name": "stdout",
     "output_type": "stream",
     "text": [
      "[CV] END .....................C=1, gamma=auto, kernel=linear; total time=   1.8s\n"
     ]
    },
    {
     "name": "stderr",
     "output_type": "stream",
     "text": [
      "/Users/rahulmohan/Library/Python/3.9/lib/python/site-packages/sklearn/svm/_base.py:297: ConvergenceWarning: Solver terminated early (max_iter=10000).  Consider pre-processing your data with StandardScaler or MinMaxScaler.\n",
      "  warnings.warn(\n"
     ]
    },
    {
     "name": "stdout",
     "output_type": "stream",
     "text": [
      "[CV] END .....................C=1, gamma=auto, kernel=linear; total time=   1.8s\n"
     ]
    },
    {
     "name": "stderr",
     "output_type": "stream",
     "text": [
      "/Users/rahulmohan/Library/Python/3.9/lib/python/site-packages/sklearn/svm/_base.py:297: ConvergenceWarning: Solver terminated early (max_iter=10000).  Consider pre-processing your data with StandardScaler or MinMaxScaler.\n",
      "  warnings.warn(\n"
     ]
    },
    {
     "name": "stdout",
     "output_type": "stream",
     "text": [
      "[CV] END .....................C=1, gamma=auto, kernel=linear; total time=   1.8s\n"
     ]
    },
    {
     "name": "stderr",
     "output_type": "stream",
     "text": [
      "/Users/rahulmohan/Library/Python/3.9/lib/python/site-packages/sklearn/svm/_base.py:297: ConvergenceWarning: Solver terminated early (max_iter=10000).  Consider pre-processing your data with StandardScaler or MinMaxScaler.\n",
      "  warnings.warn(\n"
     ]
    },
    {
     "name": "stdout",
     "output_type": "stream",
     "text": [
      "[CV] END .....................C=1, gamma=auto, kernel=linear; total time=   1.8s\n"
     ]
    },
    {
     "name": "stderr",
     "output_type": "stream",
     "text": [
      "/Users/rahulmohan/Library/Python/3.9/lib/python/site-packages/sklearn/svm/_base.py:297: ConvergenceWarning: Solver terminated early (max_iter=10000).  Consider pre-processing your data with StandardScaler or MinMaxScaler.\n",
      "  warnings.warn(\n"
     ]
    },
    {
     "name": "stdout",
     "output_type": "stream",
     "text": [
      "[CV] END .....................C=1, gamma=auto, kernel=linear; total time=   1.7s\n",
      "[CV] END ......................C=10, gamma=scale, kernel=rbf; total time=   6.5s\n",
      "[CV] END ......................C=10, gamma=scale, kernel=rbf; total time=   6.5s\n",
      "[CV] END ......................C=10, gamma=scale, kernel=rbf; total time=   6.5s\n",
      "[CV] END ......................C=10, gamma=scale, kernel=rbf; total time=   6.6s\n",
      "[CV] END ......................C=10, gamma=scale, kernel=rbf; total time=   6.5s\n"
     ]
    },
    {
     "name": "stderr",
     "output_type": "stream",
     "text": [
      "/Users/rahulmohan/Library/Python/3.9/lib/python/site-packages/sklearn/svm/_base.py:297: ConvergenceWarning: Solver terminated early (max_iter=10000).  Consider pre-processing your data with StandardScaler or MinMaxScaler.\n",
      "  warnings.warn(\n"
     ]
    },
    {
     "name": "stdout",
     "output_type": "stream",
     "text": [
      "[CV] END ...................C=10, gamma=scale, kernel=linear; total time=   1.8s\n"
     ]
    },
    {
     "name": "stderr",
     "output_type": "stream",
     "text": [
      "/Users/rahulmohan/Library/Python/3.9/lib/python/site-packages/sklearn/svm/_base.py:297: ConvergenceWarning: Solver terminated early (max_iter=10000).  Consider pre-processing your data with StandardScaler or MinMaxScaler.\n",
      "  warnings.warn(\n"
     ]
    },
    {
     "name": "stdout",
     "output_type": "stream",
     "text": [
      "[CV] END ...................C=10, gamma=scale, kernel=linear; total time=   1.8s\n"
     ]
    },
    {
     "name": "stderr",
     "output_type": "stream",
     "text": [
      "/Users/rahulmohan/Library/Python/3.9/lib/python/site-packages/sklearn/svm/_base.py:297: ConvergenceWarning: Solver terminated early (max_iter=10000).  Consider pre-processing your data with StandardScaler or MinMaxScaler.\n",
      "  warnings.warn(\n"
     ]
    },
    {
     "name": "stdout",
     "output_type": "stream",
     "text": [
      "[CV] END ...................C=10, gamma=scale, kernel=linear; total time=   1.8s\n"
     ]
    },
    {
     "name": "stderr",
     "output_type": "stream",
     "text": [
      "/Users/rahulmohan/Library/Python/3.9/lib/python/site-packages/sklearn/svm/_base.py:297: ConvergenceWarning: Solver terminated early (max_iter=10000).  Consider pre-processing your data with StandardScaler or MinMaxScaler.\n",
      "  warnings.warn(\n"
     ]
    },
    {
     "name": "stdout",
     "output_type": "stream",
     "text": [
      "[CV] END ...................C=10, gamma=scale, kernel=linear; total time=   1.8s\n"
     ]
    },
    {
     "name": "stderr",
     "output_type": "stream",
     "text": [
      "/Users/rahulmohan/Library/Python/3.9/lib/python/site-packages/sklearn/svm/_base.py:297: ConvergenceWarning: Solver terminated early (max_iter=10000).  Consider pre-processing your data with StandardScaler or MinMaxScaler.\n",
      "  warnings.warn(\n"
     ]
    },
    {
     "name": "stdout",
     "output_type": "stream",
     "text": [
      "[CV] END ...................C=10, gamma=scale, kernel=linear; total time=   1.7s\n",
      "[CV] END .......................C=10, gamma=auto, kernel=rbf; total time=   6.4s\n",
      "[CV] END .......................C=10, gamma=auto, kernel=rbf; total time=   6.6s\n",
      "[CV] END .......................C=10, gamma=auto, kernel=rbf; total time=   6.4s\n",
      "[CV] END .......................C=10, gamma=auto, kernel=rbf; total time=   6.4s\n",
      "[CV] END .......................C=10, gamma=auto, kernel=rbf; total time=   6.3s\n"
     ]
    },
    {
     "name": "stderr",
     "output_type": "stream",
     "text": [
      "/Users/rahulmohan/Library/Python/3.9/lib/python/site-packages/sklearn/svm/_base.py:297: ConvergenceWarning: Solver terminated early (max_iter=10000).  Consider pre-processing your data with StandardScaler or MinMaxScaler.\n",
      "  warnings.warn(\n"
     ]
    },
    {
     "name": "stdout",
     "output_type": "stream",
     "text": [
      "[CV] END ....................C=10, gamma=auto, kernel=linear; total time=   1.8s\n"
     ]
    },
    {
     "name": "stderr",
     "output_type": "stream",
     "text": [
      "/Users/rahulmohan/Library/Python/3.9/lib/python/site-packages/sklearn/svm/_base.py:297: ConvergenceWarning: Solver terminated early (max_iter=10000).  Consider pre-processing your data with StandardScaler or MinMaxScaler.\n",
      "  warnings.warn(\n"
     ]
    },
    {
     "name": "stdout",
     "output_type": "stream",
     "text": [
      "[CV] END ....................C=10, gamma=auto, kernel=linear; total time=   1.8s\n"
     ]
    },
    {
     "name": "stderr",
     "output_type": "stream",
     "text": [
      "/Users/rahulmohan/Library/Python/3.9/lib/python/site-packages/sklearn/svm/_base.py:297: ConvergenceWarning: Solver terminated early (max_iter=10000).  Consider pre-processing your data with StandardScaler or MinMaxScaler.\n",
      "  warnings.warn(\n"
     ]
    },
    {
     "name": "stdout",
     "output_type": "stream",
     "text": [
      "[CV] END ....................C=10, gamma=auto, kernel=linear; total time=   1.8s\n"
     ]
    },
    {
     "name": "stderr",
     "output_type": "stream",
     "text": [
      "/Users/rahulmohan/Library/Python/3.9/lib/python/site-packages/sklearn/svm/_base.py:297: ConvergenceWarning: Solver terminated early (max_iter=10000).  Consider pre-processing your data with StandardScaler or MinMaxScaler.\n",
      "  warnings.warn(\n"
     ]
    },
    {
     "name": "stdout",
     "output_type": "stream",
     "text": [
      "[CV] END ....................C=10, gamma=auto, kernel=linear; total time=   1.8s\n"
     ]
    },
    {
     "name": "stderr",
     "output_type": "stream",
     "text": [
      "/Users/rahulmohan/Library/Python/3.9/lib/python/site-packages/sklearn/svm/_base.py:297: ConvergenceWarning: Solver terminated early (max_iter=10000).  Consider pre-processing your data with StandardScaler or MinMaxScaler.\n",
      "  warnings.warn(\n"
     ]
    },
    {
     "name": "stdout",
     "output_type": "stream",
     "text": [
      "[CV] END ....................C=10, gamma=auto, kernel=linear; total time=   1.8s\n",
      "Fitting 5 folds for each of 12 candidates, totalling 60 fits\n",
      "[CV] END .....................C=0.1, gamma=scale, kernel=rbf; total time=   6.4s\n",
      "[CV] END .....................C=0.1, gamma=scale, kernel=rbf; total time=   6.5s\n",
      "[CV] END .....................C=0.1, gamma=scale, kernel=rbf; total time=   6.5s\n",
      "[CV] END .....................C=0.1, gamma=scale, kernel=rbf; total time=   6.5s\n",
      "[CV] END .....................C=0.1, gamma=scale, kernel=rbf; total time=   6.5s\n"
     ]
    },
    {
     "name": "stderr",
     "output_type": "stream",
     "text": [
      "/Users/rahulmohan/Library/Python/3.9/lib/python/site-packages/sklearn/svm/_base.py:297: ConvergenceWarning: Solver terminated early (max_iter=10000).  Consider pre-processing your data with StandardScaler or MinMaxScaler.\n",
      "  warnings.warn(\n"
     ]
    },
    {
     "name": "stdout",
     "output_type": "stream",
     "text": [
      "[CV] END ..................C=0.1, gamma=scale, kernel=linear; total time=   1.9s\n"
     ]
    },
    {
     "name": "stderr",
     "output_type": "stream",
     "text": [
      "/Users/rahulmohan/Library/Python/3.9/lib/python/site-packages/sklearn/svm/_base.py:297: ConvergenceWarning: Solver terminated early (max_iter=10000).  Consider pre-processing your data with StandardScaler or MinMaxScaler.\n",
      "  warnings.warn(\n"
     ]
    },
    {
     "name": "stdout",
     "output_type": "stream",
     "text": [
      "[CV] END ..................C=0.1, gamma=scale, kernel=linear; total time=   1.8s\n"
     ]
    },
    {
     "name": "stderr",
     "output_type": "stream",
     "text": [
      "/Users/rahulmohan/Library/Python/3.9/lib/python/site-packages/sklearn/svm/_base.py:297: ConvergenceWarning: Solver terminated early (max_iter=10000).  Consider pre-processing your data with StandardScaler or MinMaxScaler.\n",
      "  warnings.warn(\n"
     ]
    },
    {
     "name": "stdout",
     "output_type": "stream",
     "text": [
      "[CV] END ..................C=0.1, gamma=scale, kernel=linear; total time=   1.8s\n"
     ]
    },
    {
     "name": "stderr",
     "output_type": "stream",
     "text": [
      "/Users/rahulmohan/Library/Python/3.9/lib/python/site-packages/sklearn/svm/_base.py:297: ConvergenceWarning: Solver terminated early (max_iter=10000).  Consider pre-processing your data with StandardScaler or MinMaxScaler.\n",
      "  warnings.warn(\n"
     ]
    },
    {
     "name": "stdout",
     "output_type": "stream",
     "text": [
      "[CV] END ..................C=0.1, gamma=scale, kernel=linear; total time=   1.8s\n"
     ]
    },
    {
     "name": "stderr",
     "output_type": "stream",
     "text": [
      "/Users/rahulmohan/Library/Python/3.9/lib/python/site-packages/sklearn/svm/_base.py:297: ConvergenceWarning: Solver terminated early (max_iter=10000).  Consider pre-processing your data with StandardScaler or MinMaxScaler.\n",
      "  warnings.warn(\n"
     ]
    },
    {
     "name": "stdout",
     "output_type": "stream",
     "text": [
      "[CV] END ..................C=0.1, gamma=scale, kernel=linear; total time=   1.8s\n",
      "[CV] END ......................C=0.1, gamma=auto, kernel=rbf; total time=   6.5s\n",
      "[CV] END ......................C=0.1, gamma=auto, kernel=rbf; total time=   6.5s\n",
      "[CV] END ......................C=0.1, gamma=auto, kernel=rbf; total time=   6.5s\n",
      "[CV] END ......................C=0.1, gamma=auto, kernel=rbf; total time=   6.5s\n",
      "[CV] END ......................C=0.1, gamma=auto, kernel=rbf; total time=   6.4s\n"
     ]
    },
    {
     "name": "stderr",
     "output_type": "stream",
     "text": [
      "/Users/rahulmohan/Library/Python/3.9/lib/python/site-packages/sklearn/svm/_base.py:297: ConvergenceWarning: Solver terminated early (max_iter=10000).  Consider pre-processing your data with StandardScaler or MinMaxScaler.\n",
      "  warnings.warn(\n"
     ]
    },
    {
     "name": "stdout",
     "output_type": "stream",
     "text": [
      "[CV] END ...................C=0.1, gamma=auto, kernel=linear; total time=   1.9s\n"
     ]
    },
    {
     "name": "stderr",
     "output_type": "stream",
     "text": [
      "/Users/rahulmohan/Library/Python/3.9/lib/python/site-packages/sklearn/svm/_base.py:297: ConvergenceWarning: Solver terminated early (max_iter=10000).  Consider pre-processing your data with StandardScaler or MinMaxScaler.\n",
      "  warnings.warn(\n"
     ]
    },
    {
     "name": "stdout",
     "output_type": "stream",
     "text": [
      "[CV] END ...................C=0.1, gamma=auto, kernel=linear; total time=   1.8s\n"
     ]
    },
    {
     "name": "stderr",
     "output_type": "stream",
     "text": [
      "/Users/rahulmohan/Library/Python/3.9/lib/python/site-packages/sklearn/svm/_base.py:297: ConvergenceWarning: Solver terminated early (max_iter=10000).  Consider pre-processing your data with StandardScaler or MinMaxScaler.\n",
      "  warnings.warn(\n"
     ]
    },
    {
     "name": "stdout",
     "output_type": "stream",
     "text": [
      "[CV] END ...................C=0.1, gamma=auto, kernel=linear; total time=   1.8s\n"
     ]
    },
    {
     "name": "stderr",
     "output_type": "stream",
     "text": [
      "/Users/rahulmohan/Library/Python/3.9/lib/python/site-packages/sklearn/svm/_base.py:297: ConvergenceWarning: Solver terminated early (max_iter=10000).  Consider pre-processing your data with StandardScaler or MinMaxScaler.\n",
      "  warnings.warn(\n"
     ]
    },
    {
     "name": "stdout",
     "output_type": "stream",
     "text": [
      "[CV] END ...................C=0.1, gamma=auto, kernel=linear; total time=   1.9s\n"
     ]
    },
    {
     "name": "stderr",
     "output_type": "stream",
     "text": [
      "/Users/rahulmohan/Library/Python/3.9/lib/python/site-packages/sklearn/svm/_base.py:297: ConvergenceWarning: Solver terminated early (max_iter=10000).  Consider pre-processing your data with StandardScaler or MinMaxScaler.\n",
      "  warnings.warn(\n"
     ]
    },
    {
     "name": "stdout",
     "output_type": "stream",
     "text": [
      "[CV] END ...................C=0.1, gamma=auto, kernel=linear; total time=   1.8s\n",
      "[CV] END .......................C=1, gamma=scale, kernel=rbf; total time=   6.6s\n",
      "[CV] END .......................C=1, gamma=scale, kernel=rbf; total time=   6.5s\n",
      "[CV] END .......................C=1, gamma=scale, kernel=rbf; total time=   6.5s\n",
      "[CV] END .......................C=1, gamma=scale, kernel=rbf; total time=   6.5s\n",
      "[CV] END .......................C=1, gamma=scale, kernel=rbf; total time=   6.5s\n"
     ]
    },
    {
     "name": "stderr",
     "output_type": "stream",
     "text": [
      "/Users/rahulmohan/Library/Python/3.9/lib/python/site-packages/sklearn/svm/_base.py:297: ConvergenceWarning: Solver terminated early (max_iter=10000).  Consider pre-processing your data with StandardScaler or MinMaxScaler.\n",
      "  warnings.warn(\n"
     ]
    },
    {
     "name": "stdout",
     "output_type": "stream",
     "text": [
      "[CV] END ....................C=1, gamma=scale, kernel=linear; total time=   1.9s\n"
     ]
    },
    {
     "name": "stderr",
     "output_type": "stream",
     "text": [
      "/Users/rahulmohan/Library/Python/3.9/lib/python/site-packages/sklearn/svm/_base.py:297: ConvergenceWarning: Solver terminated early (max_iter=10000).  Consider pre-processing your data with StandardScaler or MinMaxScaler.\n",
      "  warnings.warn(\n"
     ]
    },
    {
     "name": "stdout",
     "output_type": "stream",
     "text": [
      "[CV] END ....................C=1, gamma=scale, kernel=linear; total time=   1.8s\n"
     ]
    },
    {
     "name": "stderr",
     "output_type": "stream",
     "text": [
      "/Users/rahulmohan/Library/Python/3.9/lib/python/site-packages/sklearn/svm/_base.py:297: ConvergenceWarning: Solver terminated early (max_iter=10000).  Consider pre-processing your data with StandardScaler or MinMaxScaler.\n",
      "  warnings.warn(\n"
     ]
    },
    {
     "name": "stdout",
     "output_type": "stream",
     "text": [
      "[CV] END ....................C=1, gamma=scale, kernel=linear; total time=   1.8s\n"
     ]
    },
    {
     "name": "stderr",
     "output_type": "stream",
     "text": [
      "/Users/rahulmohan/Library/Python/3.9/lib/python/site-packages/sklearn/svm/_base.py:297: ConvergenceWarning: Solver terminated early (max_iter=10000).  Consider pre-processing your data with StandardScaler or MinMaxScaler.\n",
      "  warnings.warn(\n"
     ]
    },
    {
     "name": "stdout",
     "output_type": "stream",
     "text": [
      "[CV] END ....................C=1, gamma=scale, kernel=linear; total time=   1.8s\n"
     ]
    },
    {
     "name": "stderr",
     "output_type": "stream",
     "text": [
      "/Users/rahulmohan/Library/Python/3.9/lib/python/site-packages/sklearn/svm/_base.py:297: ConvergenceWarning: Solver terminated early (max_iter=10000).  Consider pre-processing your data with StandardScaler or MinMaxScaler.\n",
      "  warnings.warn(\n"
     ]
    },
    {
     "name": "stdout",
     "output_type": "stream",
     "text": [
      "[CV] END ....................C=1, gamma=scale, kernel=linear; total time=   1.8s\n",
      "[CV] END ........................C=1, gamma=auto, kernel=rbf; total time=   6.5s\n",
      "[CV] END ........................C=1, gamma=auto, kernel=rbf; total time=   6.5s\n",
      "[CV] END ........................C=1, gamma=auto, kernel=rbf; total time=   6.5s\n",
      "[CV] END ........................C=1, gamma=auto, kernel=rbf; total time=   6.5s\n",
      "[CV] END ........................C=1, gamma=auto, kernel=rbf; total time=   6.5s\n"
     ]
    },
    {
     "name": "stderr",
     "output_type": "stream",
     "text": [
      "/Users/rahulmohan/Library/Python/3.9/lib/python/site-packages/sklearn/svm/_base.py:297: ConvergenceWarning: Solver terminated early (max_iter=10000).  Consider pre-processing your data with StandardScaler or MinMaxScaler.\n",
      "  warnings.warn(\n"
     ]
    },
    {
     "name": "stdout",
     "output_type": "stream",
     "text": [
      "[CV] END .....................C=1, gamma=auto, kernel=linear; total time=   1.9s\n"
     ]
    },
    {
     "name": "stderr",
     "output_type": "stream",
     "text": [
      "/Users/rahulmohan/Library/Python/3.9/lib/python/site-packages/sklearn/svm/_base.py:297: ConvergenceWarning: Solver terminated early (max_iter=10000).  Consider pre-processing your data with StandardScaler or MinMaxScaler.\n",
      "  warnings.warn(\n"
     ]
    },
    {
     "name": "stdout",
     "output_type": "stream",
     "text": [
      "[CV] END .....................C=1, gamma=auto, kernel=linear; total time=   1.8s\n"
     ]
    },
    {
     "name": "stderr",
     "output_type": "stream",
     "text": [
      "/Users/rahulmohan/Library/Python/3.9/lib/python/site-packages/sklearn/svm/_base.py:297: ConvergenceWarning: Solver terminated early (max_iter=10000).  Consider pre-processing your data with StandardScaler or MinMaxScaler.\n",
      "  warnings.warn(\n"
     ]
    },
    {
     "name": "stdout",
     "output_type": "stream",
     "text": [
      "[CV] END .....................C=1, gamma=auto, kernel=linear; total time=   1.8s\n"
     ]
    },
    {
     "name": "stderr",
     "output_type": "stream",
     "text": [
      "/Users/rahulmohan/Library/Python/3.9/lib/python/site-packages/sklearn/svm/_base.py:297: ConvergenceWarning: Solver terminated early (max_iter=10000).  Consider pre-processing your data with StandardScaler or MinMaxScaler.\n",
      "  warnings.warn(\n"
     ]
    },
    {
     "name": "stdout",
     "output_type": "stream",
     "text": [
      "[CV] END .....................C=1, gamma=auto, kernel=linear; total time=   1.8s\n"
     ]
    },
    {
     "name": "stderr",
     "output_type": "stream",
     "text": [
      "/Users/rahulmohan/Library/Python/3.9/lib/python/site-packages/sklearn/svm/_base.py:297: ConvergenceWarning: Solver terminated early (max_iter=10000).  Consider pre-processing your data with StandardScaler or MinMaxScaler.\n",
      "  warnings.warn(\n"
     ]
    },
    {
     "name": "stdout",
     "output_type": "stream",
     "text": [
      "[CV] END .....................C=1, gamma=auto, kernel=linear; total time=   1.8s\n",
      "[CV] END ......................C=10, gamma=scale, kernel=rbf; total time=   6.5s\n",
      "[CV] END ......................C=10, gamma=scale, kernel=rbf; total time=   6.5s\n",
      "[CV] END ......................C=10, gamma=scale, kernel=rbf; total time=   6.5s\n",
      "[CV] END ......................C=10, gamma=scale, kernel=rbf; total time=   6.9s\n",
      "[CV] END ......................C=10, gamma=scale, kernel=rbf; total time=   7.6s\n"
     ]
    },
    {
     "name": "stderr",
     "output_type": "stream",
     "text": [
      "/Users/rahulmohan/Library/Python/3.9/lib/python/site-packages/sklearn/svm/_base.py:297: ConvergenceWarning: Solver terminated early (max_iter=10000).  Consider pre-processing your data with StandardScaler or MinMaxScaler.\n",
      "  warnings.warn(\n"
     ]
    },
    {
     "name": "stdout",
     "output_type": "stream",
     "text": [
      "[CV] END ...................C=10, gamma=scale, kernel=linear; total time=   2.2s\n"
     ]
    },
    {
     "name": "stderr",
     "output_type": "stream",
     "text": [
      "/Users/rahulmohan/Library/Python/3.9/lib/python/site-packages/sklearn/svm/_base.py:297: ConvergenceWarning: Solver terminated early (max_iter=10000).  Consider pre-processing your data with StandardScaler or MinMaxScaler.\n",
      "  warnings.warn(\n"
     ]
    },
    {
     "name": "stdout",
     "output_type": "stream",
     "text": [
      "[CV] END ...................C=10, gamma=scale, kernel=linear; total time=   2.1s\n"
     ]
    },
    {
     "name": "stderr",
     "output_type": "stream",
     "text": [
      "/Users/rahulmohan/Library/Python/3.9/lib/python/site-packages/sklearn/svm/_base.py:297: ConvergenceWarning: Solver terminated early (max_iter=10000).  Consider pre-processing your data with StandardScaler or MinMaxScaler.\n",
      "  warnings.warn(\n"
     ]
    },
    {
     "name": "stdout",
     "output_type": "stream",
     "text": [
      "[CV] END ...................C=10, gamma=scale, kernel=linear; total time=   1.9s\n"
     ]
    },
    {
     "name": "stderr",
     "output_type": "stream",
     "text": [
      "/Users/rahulmohan/Library/Python/3.9/lib/python/site-packages/sklearn/svm/_base.py:297: ConvergenceWarning: Solver terminated early (max_iter=10000).  Consider pre-processing your data with StandardScaler or MinMaxScaler.\n",
      "  warnings.warn(\n"
     ]
    },
    {
     "name": "stdout",
     "output_type": "stream",
     "text": [
      "[CV] END ...................C=10, gamma=scale, kernel=linear; total time=   1.9s\n"
     ]
    },
    {
     "name": "stderr",
     "output_type": "stream",
     "text": [
      "/Users/rahulmohan/Library/Python/3.9/lib/python/site-packages/sklearn/svm/_base.py:297: ConvergenceWarning: Solver terminated early (max_iter=10000).  Consider pre-processing your data with StandardScaler or MinMaxScaler.\n",
      "  warnings.warn(\n"
     ]
    },
    {
     "name": "stdout",
     "output_type": "stream",
     "text": [
      "[CV] END ...................C=10, gamma=scale, kernel=linear; total time=   1.8s\n",
      "[CV] END .......................C=10, gamma=auto, kernel=rbf; total time=   6.7s\n",
      "[CV] END .......................C=10, gamma=auto, kernel=rbf; total time=   6.7s\n",
      "[CV] END .......................C=10, gamma=auto, kernel=rbf; total time=   6.7s\n",
      "[CV] END .......................C=10, gamma=auto, kernel=rbf; total time=   6.7s\n",
      "[CV] END .......................C=10, gamma=auto, kernel=rbf; total time=   6.7s\n"
     ]
    },
    {
     "name": "stderr",
     "output_type": "stream",
     "text": [
      "/Users/rahulmohan/Library/Python/3.9/lib/python/site-packages/sklearn/svm/_base.py:297: ConvergenceWarning: Solver terminated early (max_iter=10000).  Consider pre-processing your data with StandardScaler or MinMaxScaler.\n",
      "  warnings.warn(\n"
     ]
    },
    {
     "name": "stdout",
     "output_type": "stream",
     "text": [
      "[CV] END ....................C=10, gamma=auto, kernel=linear; total time=   1.9s\n"
     ]
    },
    {
     "name": "stderr",
     "output_type": "stream",
     "text": [
      "/Users/rahulmohan/Library/Python/3.9/lib/python/site-packages/sklearn/svm/_base.py:297: ConvergenceWarning: Solver terminated early (max_iter=10000).  Consider pre-processing your data with StandardScaler or MinMaxScaler.\n",
      "  warnings.warn(\n"
     ]
    },
    {
     "name": "stdout",
     "output_type": "stream",
     "text": [
      "[CV] END ....................C=10, gamma=auto, kernel=linear; total time=   1.8s\n"
     ]
    },
    {
     "name": "stderr",
     "output_type": "stream",
     "text": [
      "/Users/rahulmohan/Library/Python/3.9/lib/python/site-packages/sklearn/svm/_base.py:297: ConvergenceWarning: Solver terminated early (max_iter=10000).  Consider pre-processing your data with StandardScaler or MinMaxScaler.\n",
      "  warnings.warn(\n"
     ]
    },
    {
     "name": "stdout",
     "output_type": "stream",
     "text": [
      "[CV] END ....................C=10, gamma=auto, kernel=linear; total time=   1.8s\n"
     ]
    },
    {
     "name": "stderr",
     "output_type": "stream",
     "text": [
      "/Users/rahulmohan/Library/Python/3.9/lib/python/site-packages/sklearn/svm/_base.py:297: ConvergenceWarning: Solver terminated early (max_iter=10000).  Consider pre-processing your data with StandardScaler or MinMaxScaler.\n",
      "  warnings.warn(\n"
     ]
    },
    {
     "name": "stdout",
     "output_type": "stream",
     "text": [
      "[CV] END ....................C=10, gamma=auto, kernel=linear; total time=   1.8s\n"
     ]
    },
    {
     "name": "stderr",
     "output_type": "stream",
     "text": [
      "/Users/rahulmohan/Library/Python/3.9/lib/python/site-packages/sklearn/svm/_base.py:297: ConvergenceWarning: Solver terminated early (max_iter=10000).  Consider pre-processing your data with StandardScaler or MinMaxScaler.\n",
      "  warnings.warn(\n"
     ]
    },
    {
     "name": "stdout",
     "output_type": "stream",
     "text": [
      "[CV] END ....................C=10, gamma=auto, kernel=linear; total time=   1.8s\n",
      "Test SVR Home Team Mean Squared Error with best params: 158.56\n",
      "Test SVR Away Team Mean Squared Error with best params: 153.54\n",
      "Test SVR Home Team Mean Absolute Error with best params: 10.05\n",
      "Test SVR Away Team Mean Absolute Error with best params: 9.96\n",
      "Test SVR Home Team R² score with best params: 0.01\n",
      "Test SVR Away Team R² score with best params: 0.00\n"
     ]
    }
   ],
   "source": [
    "from sklearn.svm import SVR\n",
    "from sklearn.model_selection import GridSearchCV\n",
    "from sklearn.metrics import mean_squared_error\n",
    "\n",
    "#Parameter grid for SVR\n",
    "param_grid = {'C': [0.1, 1, 10], \n",
    "              'gamma': ['scale', 'auto'], \n",
    "              'kernel': ['rbf', 'linear']}\n",
    "\n",
    "\n",
    "#Training and Testing the Model\n",
    "\n",
    "y_train_home_scores = y_train_scores[:, 0]\n",
    "y_train_away_scores = y_train_scores[:, 1]\n",
    "y_test_home_scores = y_test_scores[:, 0]\n",
    "y_test_away_scores = y_test_scores[:, 1]\n",
    "\n",
    "svr_home = SVR(max_iter=10000)\n",
    "grid_svr_home = GridSearchCV(svr_home, param_grid, cv=5, scoring='neg_mean_squared_error', verbose = 2)\n",
    "grid_svr_home.fit(X_train_scores, y_train_home_scores)\n",
    "\n",
    "best_svr_home_params = grid_svr_home.best_params_\n",
    "best_svr_home_score = grid_svr_home.best_score_\n",
    "\n",
    "svr_away = SVR(max_iter=10000)\n",
    "grid_svr_away = GridSearchCV(svr_away, param_grid, cv=5, scoring='neg_mean_squared_error', verbose = 2)\n",
    "grid_svr_away.fit(X_train_scores, y_train_away_scores)\n",
    "\n",
    "best_svr_away_params = grid_svr_away.best_params_\n",
    "best_svr_away_score = grid_svr_away.best_score_\n",
    "\n",
    "best_svr_home = grid_svr_home.best_estimator_\n",
    "y_test_pred_home_scores = best_svr_home.predict(X_test_scores)\n",
    "test_home_mse = mean_squared_error(y_test_home_scores, y_test_pred_home_scores)\n",
    "\n",
    "best_svr_away = grid_svr_away.best_estimator_\n",
    "y_test_pred_away_scores = best_svr_away.predict(X_test_scores)\n",
    "test_away_mse = mean_squared_error(y_test_away_scores, y_test_pred_away_scores)\n",
    "\n",
    "\n",
    "#Scoring Metrics\n",
    "\n",
    "print(f'Test SVR Home Team Mean Squared Error with best params: {test_home_mse:.2f}')\n",
    "print(f'Test SVR Away Team Mean Squared Error with best params: {test_away_mse:.2f}')\n",
    "\n",
    "from sklearn.metrics import mean_absolute_error\n",
    "\n",
    "test_home_mae = mean_absolute_error(y_test_home_scores, y_test_pred_home_scores)\n",
    "\n",
    "test_away_mae = mean_absolute_error(y_test_away_scores, y_test_pred_away_scores)\n",
    "\n",
    "print(f'Test SVR Home Team Mean Absolute Error with best params: {test_home_mae:.2f}')\n",
    "print(f'Test SVR Away Team Mean Absolute Error with best params: {test_away_mae:.2f}')\n",
    "\n",
    "from sklearn.metrics import r2_score\n",
    "\n",
    "test_home_r2 = r2_score(y_test_home_scores, y_test_pred_home_scores)\n",
    "\n",
    "test_away_r2 = r2_score(y_test_away_scores, y_test_pred_away_scores)\n",
    "\n",
    "print(f'Test SVR Home Team R² score with best params: {test_home_r2:.2f}')\n",
    "print(f'Test SVR Away Team R² score with best params: {test_away_r2:.2f}')\n",
    "\n",
    "\n"
   ]
  },
  {
   "cell_type": "markdown",
   "metadata": {},
   "source": [
    "# Same Function but modified for SVR"
   ]
  },
  {
   "cell_type": "code",
   "execution_count": null,
   "metadata": {},
   "outputs": [
    {
     "name": "stdout",
     "output_type": "stream",
     "text": [
      "Predicted Outcome: Home Team Wins\n",
      "Predicted Scores: Home Team 109 - Away Team 108\n"
     ]
    }
   ],
   "source": [
    "def predict_game_outcome_and_score(home_team_players, away_team_players, home_model, away_model):\n",
    "    max_players = 5  \n",
    "    \n",
    "    if len(home_team_players) > max_players or len(away_team_players) > max_players:\n",
    "        print(\"Error: More than 5 players entered on a team.\")\n",
    "        return None, None\n",
    "    \n",
    "    home_tensor = np.array([], dtype=float)\n",
    "    away_tensor = np.array([], dtype=float)\n",
    "    \n",
    "    for player in home_team_players:\n",
    "        if player not in player_stats:\n",
    "            print(f\"Error: Player {player} not found.\")\n",
    "            return None, None\n",
    "        home_tensor = np.concatenate((home_tensor, findPastThreeIDs(player, None)))\n",
    "    \n",
    "    for player in away_team_players:\n",
    "        if player not in player_stats:\n",
    "            print(f\"Error: Player {player} not found.\")\n",
    "            return None, None\n",
    "        away_tensor = np.concatenate((away_tensor, findPastThreeIDs(player, None)))\n",
    "    \n",
    "    while len(home_team_players) < max_players:\n",
    "        home_tensor = np.concatenate((home_tensor, np.zeros(20 * 3)))\n",
    "        home_team_players.append(None)  \n",
    "    \n",
    "    while len(away_team_players) < max_players:\n",
    "        away_tensor = np.concatenate((away_tensor, np.zeros(20 * 3)))\n",
    "        away_team_players.append(None)  \n",
    "    \n",
    "    home_tensor = pad_tensor(home_tensor, max_length // 2)\n",
    "    away_tensor = pad_tensor(away_tensor, max_length // 2)\n",
    "    \n",
    "    input_tensor = np.concatenate((home_tensor, away_tensor)).reshape(1, -1)\n",
    "    \n",
    "    home_team_score = int(round(home_model.predict(input_tensor)[0]))\n",
    "    away_team_score = int(round(away_model.predict(input_tensor)[0]))\n",
    "    \n",
    "    outcome = 1 if home_team_score > away_team_score else 0\n",
    "    \n",
    "    return outcome, (home_team_score, away_team_score)\n",
    "\n",
    "home_team_input = input(\"Enter the names of the home team players separated by commas: \").split(',')\n",
    "away_team_input = input(\"Enter the names of the away team players separated by commas: \").split(',')\n",
    "\n",
    "home_team_input = [player.strip() for player in home_team_input]\n",
    "away_team_input = [player.strip() for player in away_team_input]\n",
    "\n",
    "# Predict outcome and scores\n",
    "outcome, scores = predict_game_outcome_and_score(home_team_input, away_team_input, best_svr_home, best_svr_away)\n",
    "\n",
    "if outcome is not None:\n",
    "    print(f'Predicted Outcome: {\"Home Team Wins\" if outcome == 1 else \"Away Team Wins\"}')\n",
    "    print(f'Predicted Scores: Home Team {scores[0]} - Away Team {scores[1]}')\n",
    "    \n",
    "# For example, you can input this in the popup that comes when you run this cell:\n",
    "# Bojan Bogdanovic, Austin Rivers, Mason Plumlee, Andre Drummond, Cedi Osman\n",
    "# Kevon Harris, Terry Rozier, Udonis Haslem, Kelly Olynyk, Devin Booker\n",
    "\n",
    "\n"
   ]
  },
  {
   "cell_type": "markdown",
   "metadata": {},
   "source": [
    "# Some Metrics for Evaluation and Visualization"
   ]
  },
  {
   "cell_type": "code",
   "execution_count": null,
   "metadata": {},
   "outputs": [
    {
     "data": {
      "image/png": "[encoded data removed]",
      "text/plain": [
       "<Figure size 1000x600 with 1 Axes>"
      ]
     },
     "metadata": {},
     "output_type": "display_data"
    }
   ],
   "source": [
    "import matplotlib.pyplot as plt\n",
    "import seaborn as sns\n",
    "\n",
    "metrics = {\n",
    "    'Metric': ['Mean Squared Error', 'Mean Absolute Error', 'R² Score'],\n",
    "    'Home Team': [test_home_mse, test_home_mae, test_home_r2],\n",
    "    'Away Team': [test_away_mse, test_away_mae, test_away_r2]\n",
    "}\n",
    "\n",
    "import pandas as pd\n",
    "metrics_df = pd.DataFrame(metrics)\n",
    "\n",
    "metrics_melted = pd.melt(metrics_df, id_vars='Metric', var_name='Team', value_name='Value')\n",
    "\n",
    "\n",
    "plt.figure(figsize=(10, 6))\n",
    "sns.barplot(x='Metric', y='Value', hue='Team', data=metrics_melted)\n",
    "plt.title('Model Evaluation Metrics')\n",
    "plt.xlabel('Metric')\n",
    "plt.ylabel('Value')\n",
    "plt.ylim(0, max(metrics_melted['Value']) + 1) \n",
    "plt.show()\n"
   ]
  },
  {
   "cell_type": "code",
   "execution_count": null,
   "metadata": {},
   "outputs": [
    {
     "data": {
      "image/png": "[encoded data removed]",
      "text/plain": [
       "<Figure size 1400x600 with 2 Axes>"
      ]
     },
     "metadata": {},
     "output_type": "display_data"
    }
   ],
   "source": [
    "import numpy as np\n",
    "\n",
    "sample_size = 100  \n",
    "indices = np.random.choice(range(len(y_test_home_scores)), size=sample_size, replace=False)\n",
    "\n",
    "plt.figure(figsize=(14, 6))\n",
    "plt.subplot(1, 2, 1)\n",
    "plt.scatter(y_test_home_scores[indices], y_test_pred_home_scores[indices], color='blue', label='Home Team')\n",
    "plt.plot([min(y_test_home_scores), max(y_test_home_scores)], [min(y_test_home_scores), max(y_test_home_scores)], color='red', linestyle='--')\n",
    "plt.title('Home Team: Predicted vs Actual Scores')\n",
    "plt.xlabel('Actual Scores')\n",
    "plt.ylabel('Predicted Scores')\n",
    "plt.legend()\n",
    "\n",
    "plt.subplot(1, 2, 2)\n",
    "plt.scatter(y_test_away_scores[indices], y_test_pred_away_scores[indices], color='green', label='Away Team')\n",
    "plt.plot([min(y_test_away_scores), max(y_test_away_scores)], [min(y_test_away_scores), max(y_test_away_scores)], color='red', linestyle='--')\n",
    "plt.title('Away Team: Predicted vs Actual Scores')\n",
    "plt.xlabel('Actual Scores')\n",
    "plt.ylabel('Predicted Scores')\n",
    "plt.legend()\n",
    "\n",
    "plt.tight_layout()\n",
    "plt.show()\n"
   ]
  },
  {
   "cell_type": "markdown",
   "metadata": {},
   "source": [
    "For the KNN classifier, utilize GridSearchCV to acquire the hyperparameters through a range of 1-20 and fit it. Once the grid search is down, acquire the best parameters and the score for the model.\n",
    "\n",
    "Repeat for the KNN regressor."
   ]
  },
  {
   "cell_type": "code",
   "execution_count": null,
   "metadata": {},
   "outputs": [
    {
     "name": "stdout",
     "output_type": "stream",
     "text": [
      "Best parameters for KNN Classifier: {'n_neighbors': 13}\n",
      "Best cross-validated accuracy for KNN Classifier: 0.56\n",
      "Best parameters for KNN Regressor: {'n_neighbors': 20}\n",
      "Best cross-validated negative MSE for KNN Regressor: -164.63\n"
     ]
    }
   ],
   "source": [
    "from sklearn.neighbors import KNeighborsClassifier, KNeighborsRegressor\n",
    "from sklearn.model_selection import GridSearchCV, cross_val_score\n",
    "\n",
    "pgridclf = {'n_neighbors': range(1, 21)}\n",
    "gridclf = GridSearchCV(KNeighborsClassifier(), pgridclf, cv=5, scoring='accuracy')\n",
    "gridclf.fit(X_train, y_train)\n",
    "\n",
    "# Get best params\n",
    "bestparam = gridclf.best_params_\n",
    "bestscore = gridclf.best_score_\n",
    "\n",
    "print(f\"Best parameters for KNN Classifier: {bestparam}\")\n",
    "print(f\"Best cross-validated accuracy for KNN Classifier: {bestscore:.2f}\")\n",
    "\n",
    "paramreg = {'n_neighbors': range(1, 21)}\n",
    "gridreg = GridSearchCV(KNeighborsRegressor(), paramreg, cv=5, scoring='neg_mean_squared_error')\n",
    "gridreg.fit(X_train_scores, y_train_scores)\n",
    "\n",
    "# Get best params\n",
    "bestregparams = gridreg.best_params_\n",
    "bestregscore = gridreg.best_score_\n",
    "\n",
    "print(f\"Best parameters for KNN Regressor: {bestregparams}\")\n",
    "print(f\"Best cross-validated negative MSE for KNN Regressor: {bestregscore:.2f}\")\n",
    "\n",
    "bestclf = gridclf.best_estimator_\n",
    "bestreg = gridreg.best_estimator_\n",
    "\n"
   ]
  },
  {
   "cell_type": "code",
   "execution_count": null,
   "metadata": {},
   "outputs": [
    {
     "name": "stdout",
     "output_type": "stream",
     "text": [
      "Best KNN Classifier Accuracy: 0.53\n"
     ]
    },
    {
     "data": {
      "image/png": "[encoded data removed]",
      "text/plain": [
       "<Figure size 640x480 with 2 Axes>"
      ]
     },
     "metadata": {},
     "output_type": "display_data"
    }
   ],
   "source": [
    "import pandas as pd\n",
    "import numpy as np\n",
    "import matplotlib.pyplot as plt\n",
    "from sklearn.model_selection import train_test_split, cross_val_score\n",
    "from sklearn.neighbors import KNeighborsClassifier, KNeighborsRegressor\n",
    "from sklearn.metrics import accuracy_score, mean_squared_error,  confusion_matrix, ConfusionMatrixDisplay\n",
    "import seaborn as sns\n",
    "\n",
    "# Predict and evaluate the classifier\n",
    "y_pred = bestclf.predict(X_test)\n",
    "accuracy = accuracy_score(y_test, y_pred)\n",
    "print(f\"Best KNN Classifier Accuracy: {accuracy:.2f}\")\n",
    "\n",
    "# Confusion matrix\n",
    "cm = confusion_matrix(y_test, y_pred)\n",
    "disp = ConfusionMatrixDisplay(confusion_matrix=cm)\n",
    "disp.plot()\n",
    "plt.title(\"Confusion Matrix\")\n",
    "plt.show()\n",
    "\n"
   ]
  },
  {
   "cell_type": "markdown",
   "metadata": {},
   "source": [
    "Optimized the previous predict_game_and_outcome to support 0-tensors faced in evaluating this model. Test the model with an example."
   ]
  },
  {
   "cell_type": "code",
   "execution_count": null,
   "metadata": {},
   "outputs": [
    {
     "name": "stdout",
     "output_type": "stream",
     "text": [
      "Home team win probability: 0.77\n",
      "Predicted Scores: Home Team 108 - Away Team 102\n",
      "Implied Odds: Home Team 433 - Away Team 130\n"
     ]
    }
   ],
   "source": [
    "import numpy as np\n",
    "\n",
    "def predict_game_and_outcome_optimized(home_players, away_players):\n",
    "    max_players = 5\n",
    "\n",
    "    if len(home_players) > max_players or len(away_players) > max_players:\n",
    "        print(\"Error: More than 5 players entered on a team.\")\n",
    "        return None, None\n",
    "\n",
    "    home = np.array([], dtype=float)\n",
    "    away = np.array([], dtype=float)\n",
    "\n",
    "    for player in home_players:\n",
    "        if player not in player_stats:\n",
    "            print(f\"Error: Player {player} not found.\")\n",
    "            return None, None\n",
    "        home_tensor = np.concatenate((home, findPastThreeIDs(player, None)))\n",
    "\n",
    "    for player in away_players:\n",
    "        if player not in player_stats:\n",
    "            print(f\"Error: Player {player} not found.\")\n",
    "            return None, None\n",
    "        away_tensor = np.concatenate((away, findPastThreeIDs(player, None)))\n",
    "\n",
    "    home = pad_tensor(home, max_length // 2)\n",
    "    away = pad_tensor(away, max_length // 2)\n",
    "\n",
    "    input = np.concatenate((home, away)).reshape(1, -1)\n",
    "\n",
    "    win_prob = bestclf.predict_proba(input)[0][1]\n",
    "\n",
    "    scores = bestreg.predict(input)[0]\n",
    "    home_score, away_score = int(round(scores[0])), int(round(scores[1]))\n",
    "\n",
    "    return win_prob, (home_score, away_score)\n",
    "\n",
    "# test\n",
    "home_team = [\"LeBron James\", \"Anthony Davis\", \"Russell Westbrook\", \"Dennis Schroder\", \"Austin Reaves\"]\n",
    "away_team = [\"Stephen Curry\", \"Klay Thompson\", \"Draymond Green\", \"Andrew Wiggins\", \"Jordan Poole\"]\n",
    "\n",
    "win_prob, scores = predict_game_and_outcome_optimized(home_team, away_team)\n",
    "\n",
    "if win_prob is not None:\n",
    "    print(f\"Home team win probability: {win_prob:.2f}\")\n",
    "    print(f'Predicted Scores: Home Team {scores[0]} - Away Team {scores[1]}')\n",
    "\n",
    "    if win_prob > 0.5:\n",
    "        home_odds = -100 / (win_prob - 1)\n",
    "        away_odds = 100 / win_prob\n",
    "    else:\n",
    "        home_odds = 100 / (1 - win_prob)\n",
    "        away_odds = -100 / win_prob\n",
    "\n",
    "    print(f\"Implied Odds: Home Team {int(round(home_odds))} - Away Team {int(round(away_odds))}\")\n"
   ]
  },
  {
   "cell_type": "markdown",
   "metadata": {},
   "source": [
    "Now we use a Neural Networks approach, testing 3 different networks, 2 for classification, 1 for regression. "
   ]
  },
  {
   "cell_type": "markdown",
   "metadata": {},
   "source": [
    "The first is a simple CNN for classification"
   ]
  },
  {
   "cell_type": "code",
   "execution_count": null,
   "metadata": {},
   "outputs": [
    {
     "name": "stdout",
     "output_type": "stream",
     "text": [
      "Epoch 1/20, Loss: 42.13460729598999\n",
      "Epoch 2/20, Loss: 42.694831428527834\n",
      "Epoch 3/20, Loss: 42.69434703826904\n",
      "Epoch 4/20, Loss: 42.70623462677002\n",
      "Epoch 5/20, Loss: 42.67439037322998\n",
      "Epoch 6/20, Loss: 42.69437841415405\n",
      "Epoch 7/20, Loss: 42.674325141906735\n",
      "Epoch 8/20, Loss: 42.71014324188232\n",
      "Epoch 9/20, Loss: 42.69420886993408\n",
      "Epoch 10/20, Loss: 42.69022159576416\n",
      "Epoch 11/20, Loss: 42.674291915893555\n",
      "Epoch 12/20, Loss: 42.67030906677246\n",
      "Epoch 13/20, Loss: 42.706154594421385\n",
      "Epoch 14/20, Loss: 42.682279891967774\n",
      "Epoch 15/20, Loss: 42.71411731719971\n",
      "Epoch 16/20, Loss: 42.69420314788818\n",
      "Epoch 17/20, Loss: 42.69420265197754\n",
      "Epoch 18/20, Loss: 42.698216094970704\n",
      "Epoch 19/20, Loss: 42.69420335769653\n",
      "Epoch 20/20, Loss: 42.69022228240967\n",
      "Confusion Matrix:\n",
      "[[  0 730]\n",
      " [  0 867]]\n",
      "Accuracy: 54.29%\n",
      "Error Rate: 45.71%\n",
      "Precision: 54.29%\n",
      "Recall: 100.00%\n",
      "F1-Score: 70.37%\n"
     ]
    }
   ],
   "source": [
    "import torch\n",
    "import torch.nn as nn\n",
    "import torch.optim as optim\n",
    "import torch.nn.functional as F\n",
    "from torch.utils.data import DataLoader, TensorDataset\n",
    "import numpy as np\n",
    "from sklearn.model_selection import train_test_split\n",
    "from sklearn.metrics import confusion_matrix, accuracy_score, precision_score, recall_score, f1_score\n",
    "from tqdm import tqdm\n",
    "\n",
    "# Assuming input_tensors and output_labels are prepared as per your provided code\n",
    "# Ensure you are running this code on a machine with a CUDA-capable GPU\n",
    "\n",
    "# Define the CNN model\n",
    "class CNNClassifier(nn.Module):\n",
    "    def __init__(self):\n",
    "        super(CNNClassifier, self).__init__()\n",
    "        self.conv1 = nn.Conv1d(in_channels=1, out_channels=32, kernel_size=3, stride=1, padding=1)\n",
    "        self.conv2 = nn.Conv1d(in_channels=32, out_channels=64, kernel_size=3, stride=1, padding=1)\n",
    "        self.pool = nn.MaxPool1d(kernel_size=2, stride=2, padding=0)\n",
    "        \n",
    "        # Calculate the size of the input to the first fully connected layer\n",
    "        # After conv1: output size = 960 (same padding)\n",
    "        # After pool1: output size = 480\n",
    "        # After conv2: output size = 480 (same padding)\n",
    "        # After pool2: output size = 240\n",
    "        self.fc1 = nn.Linear(64 * 240, 128)\n",
    "        self.fc2 = nn.Linear(128, 1)\n",
    "        self.sigmoid = nn.Sigmoid()\n",
    "    \n",
    "    def forward(self, x):\n",
    "        x = self.pool(F.relu(self.conv1(x)))\n",
    "        x = self.pool(F.relu(self.conv2(x)))\n",
    "        x = x.view(x.size(0), -1)  # Flatten the tensor except for the batch dimension\n",
    "        x = F.relu(self.fc1(x))\n",
    "        x = self.fc2(x)\n",
    "        x = self.sigmoid(x)\n",
    "        return x\n",
    "\n",
    "# Convert numpy arrays to PyTorch tensors\n",
    "X_tensor = torch.tensor(X, dtype=torch.float32).unsqueeze(1)  # Add channel dimension\n",
    "y_tensor = torch.tensor(y, dtype=torch.float32).unsqueeze(1)  # Make sure labels are of shape (batch_size, 1)\n",
    "\n",
    "# Split the data into train and test sets\n",
    "X_train_tensor, X_test_tensor, y_train_tensor, y_test_tensor = train_test_split(X_tensor, y_tensor, test_size=0.2, random_state=42)\n",
    "\n",
    "# Create DataLoader for training and testing\n",
    "train_dataset = TensorDataset(X_train_tensor, y_train_tensor)\n",
    "test_dataset = TensorDataset(X_test_tensor, y_test_tensor)\n",
    "\n",
    "train_loader = DataLoader(train_dataset, batch_size=64, shuffle=True)\n",
    "test_loader = DataLoader(test_dataset, batch_size=64, shuffle=False)\n",
    "\n",
    "# Initialize the model, loss function, and optimizer\n",
    "model = CNNClassifier().cuda()\n",
    "criterion = nn.BCELoss()\n",
    "optimizer = optim.Adam(model.parameters(), lr=0.001)\n",
    "\n",
    "# Training the model\n",
    "num_epochs = 20\n",
    "\n",
    "for epoch in range(num_epochs):\n",
    "    model.train()\n",
    "    running_loss = 0.0\n",
    "    for inputs, labels in train_loader:\n",
    "        inputs, labels = inputs.cuda(), labels.cuda()\n",
    "        optimizer.zero_grad()\n",
    "        outputs = model(inputs)\n",
    "        loss = criterion(outputs, labels)\n",
    "        loss.backward()\n",
    "        optimizer.step()\n",
    "        running_loss += loss.item()\n",
    "    print(f\"Epoch {epoch+1}/{num_epochs}, Loss: {running_loss/len(train_loader)}\")\n",
    "\n",
    "# Evaluating the model\n",
    "model.eval()\n",
    "all_labels = []\n",
    "all_predictions = []\n",
    "with torch.no_grad():\n",
    "    for inputs, labels in test_loader:\n",
    "        inputs, labels = inputs.cuda(), labels.cuda()\n",
    "        outputs = model(inputs)\n",
    "        predicted = (outputs > 0.5).float()\n",
    "        all_labels.extend(labels.cpu().numpy())\n",
    "        all_predictions.extend(predicted.cpu().numpy())\n",
    "\n",
    "# Calculate confusion matrix and other metrics\n",
    "conf_matrix = confusion_matrix(all_labels, all_predictions)\n",
    "accuracy = accuracy_score(all_labels, all_predictions)\n",
    "error_rate = 1 - accuracy\n",
    "precision = precision_score(all_labels, all_predictions)\n",
    "recall = recall_score(all_labels, all_predictions)\n",
    "f1 = f1_score(all_labels, all_predictions)\n",
    "\n",
    "print(f\"Confusion Matrix:\\n{conf_matrix}\")\n",
    "print(f\"Accuracy: {accuracy * 100:.2f}%\")\n",
    "print(f\"Error Rate: {error_rate * 100:.2f}%\")\n",
    "print(f\"Precision: {precision * 100:.2f}%\")\n",
    "print(f\"Recall: {recall * 100:.2f}%\")\n",
    "print(f\"F1-Score: {f1 * 100:.2f}%\")\n",
    "\n"
   ]
  },
  {
   "cell_type": "markdown",
   "metadata": {},
   "source": [
    "Next is a pretrained ResNet18 Model, also trained for the classification task"
   ]
  },
  {
   "cell_type": "code",
   "execution_count": null,
   "metadata": {},
   "outputs": [
    {
     "name": "stderr",
     "output_type": "stream",
     "text": [
      "c:\\Users\\Vishnu\\.conda\\envs\\pytorch_gpu\\lib\\site-packages\\torchvision\\models\\_utils.py:208: UserWarning: The parameter 'pretrained' is deprecated since 0.13 and may be removed in the future, please use 'weights' instead.\n",
      "  warnings.warn(\n",
      "c:\\Users\\Vishnu\\.conda\\envs\\pytorch_gpu\\lib\\site-packages\\torchvision\\models\\_utils.py:223: UserWarning: Arguments other than a weight enum or `None` for 'weights' are deprecated since 0.13 and may be removed in the future. The current behavior is equivalent to passing `weights=ResNet18_Weights.IMAGENET1K_V1`. You can also use `weights=ResNet18_Weights.DEFAULT` to get the most up-to-date weights.\n",
      "  warnings.warn(msg)\n"
     ]
    },
    {
     "name": "stdout",
     "output_type": "stream",
     "text": [
      "Epoch 1/20, Loss: 0.7163259142637253\n",
      "Epoch 2/20, Loss: 0.6865190136432647\n",
      "Epoch 3/20, Loss: 0.6894715464115143\n",
      "Epoch 4/20, Loss: 0.6886644065380096\n",
      "Epoch 5/20, Loss: 0.6851206541061401\n",
      "Epoch 6/20, Loss: 0.6828243291378021\n",
      "Epoch 7/20, Loss: 0.68423779129982\n",
      "Epoch 8/20, Loss: 0.6816937863826752\n",
      "Epoch 9/20, Loss: 0.6817821449041367\n",
      "Epoch 10/20, Loss: 0.6790513879060746\n",
      "Epoch 11/20, Loss: 0.6878551524877549\n",
      "Epoch 12/20, Loss: 0.6871291941404343\n",
      "Epoch 13/20, Loss: 0.6775893771648407\n",
      "Epoch 14/20, Loss: 0.6773842042684555\n",
      "Epoch 15/20, Loss: 0.6762476098537445\n",
      "Epoch 16/20, Loss: 0.6695623522996903\n",
      "Epoch 17/20, Loss: 0.6683326196670533\n",
      "Epoch 18/20, Loss: 0.6629276549816132\n",
      "Epoch 19/20, Loss: 0.6627953296899796\n",
      "Epoch 20/20, Loss: 0.661625257730484\n",
      "Accuracy: 58.67%\n",
      "Error Rate: 41.33%\n",
      "Precision: 0.58\n",
      "Recall: 0.84\n",
      "F1-Score: 0.69\n"
     ]
    }
   ],
   "source": [
    "import torch\n",
    "import torch.nn as nn\n",
    "import torch.optim as optim\n",
    "from torch.utils.data import DataLoader, TensorDataset, random_split\n",
    "import numpy as np\n",
    "from sklearn.model_selection import train_test_split\n",
    "from sklearn.metrics import confusion_matrix, accuracy_score, precision_score, recall_score, f1_score\n",
    "from torchvision import models\n",
    "from tqdm import tqdm\n",
    "\n",
    "X_tensor = torch.tensor(X, dtype=torch.float32).unsqueeze(1)  \n",
    "y_tensor = torch.tensor(y, dtype=torch.float32).unsqueeze(1) \n",
    "\n",
    "\n",
    "X_tensor = X_tensor.view(X_tensor.size(0), 1, 32, 30)\n",
    "\n",
    "X_train_tensor, X_test_tensor, y_train_tensor, y_test_tensor = train_test_split(X_tensor, y_tensor, test_size=0.2, random_state=42)\n",
    "\n",
    "train_dataset = TensorDataset(X_train_tensor, y_train_tensor)\n",
    "test_dataset = TensorDataset(X_test_tensor, y_test_tensor)\n",
    "\n",
    "train_loader = DataLoader(train_dataset, batch_size=64, shuffle=True)\n",
    "test_loader = DataLoader(test_dataset, batch_size=64, shuffle=False)\n",
    "\n",
    "class ModifiedResNet(nn.Module):\n",
    "    def __init__(self):\n",
    "        super(ModifiedResNet, self).__init__()\n",
    "        self.resnet = models.resnet18(pretrained=True)\n",
    "        self.resnet.conv1 = nn.Conv2d(1, 64, kernel_size=(7, 7), stride=(2, 2), padding=(3, 3), bias=False)\n",
    "        self.resnet.fc = nn.Linear(self.resnet.fc.in_features, 1)\n",
    "        self.sigmoid = nn.Sigmoid()\n",
    "\n",
    "    def forward(self, x):\n",
    "        x = self.resnet(x)\n",
    "        x = self.sigmoid(x)\n",
    "        return x\n",
    "\n",
    "model = ModifiedResNet().cuda()\n",
    "criterion = nn.BCELoss()\n",
    "optimizer = optim.Adam(model.parameters(), lr=0.001)\n",
    "\n",
    "\n",
    "num_epochs = 20\n",
    "for epoch in range(num_epochs):\n",
    "    model.train()\n",
    "    running_loss = 0.0\n",
    "    for inputs, labels in train_loader:\n",
    "        inputs, labels = inputs.cuda(), labels.cuda()\n",
    "        optimizer.zero_grad()\n",
    "        outputs = model(inputs)\n",
    "        loss = criterion(outputs, labels)\n",
    "        loss.backward()\n",
    "        optimizer.step()\n",
    "        running_loss += loss.item()\n",
    "    print(f\"Epoch {epoch+1}/{num_epochs}, Loss: {running_loss/len(train_loader)}\")\n",
    "\n",
    "model.eval()\n",
    "all_labels = []\n",
    "all_predictions = []\n",
    "with torch.no_grad():\n",
    "    for inputs, labels in test_loader:\n",
    "        inputs, labels = inputs.cuda(), labels.cuda()\n",
    "        outputs = model(inputs)\n",
    "        predicted = (outputs > 0.5).float()\n",
    "        all_labels.extend(labels.cpu().numpy())\n",
    "        all_predictions.extend(predicted.cpu().numpy())\n",
    "\n",
    "conf_matrix = confusion_matrix(all_labels, all_predictions)\n",
    "accuracy = accuracy_score(all_labels, all_predictions)\n",
    "precision = precision_score(all_labels, all_predictions)\n",
    "recall = recall_score(all_labels, all_predictions)\n",
    "f1 = f1_score(all_labels, all_predictions)\n",
    "error_rate = 1 - accuracy\n",
    "\n",
    "print(f\"Accuracy: {accuracy * 100:.2f}%\")\n",
    "print(f\"Error Rate: {error_rate * 100:.2f}%\")\n",
    "print(f\"Precision: {precision:.2f}\")\n",
    "print(f\"Recall: {recall:.2f}\")\n",
    "print(f\"F1-Score: {f1:.2f}\")\n"
   ]
  },
  {
   "cell_type": "code",
   "execution_count": null,
   "metadata": {},
   "outputs": [
    {
     "data": {
      "image/png": "[encoded data removed]",
      "text/plain": [
       "<Figure size 1000x700 with 1 Axes>"
      ]
     },
     "metadata": {},
     "output_type": "display_data"
    }
   ],
   "source": [
    "import matplotlib.pyplot as plt\n",
    "import seaborn as sns\n",
    "from sklearn.metrics import confusion_matrix\n",
    "\n",
    "plt.figure(figsize=(10, 7))\n",
    "sns.heatmap(conf_matrix, annot=True, fmt='d', cmap='Blues', cbar=False)\n",
    "plt.xlabel('Predicted Labels')\n",
    "plt.ylabel('True Labels')\n",
    "plt.title('Confusion Matrix')\n",
    "plt.show()\n"
   ]
  },
  {
   "cell_type": "markdown",
   "metadata": {},
   "source": [
    "The last NN is a pretrained DenseNet121 modified for regression. "
   ]
  },
  {
   "cell_type": "code",
   "execution_count": null,
   "metadata": {},
   "outputs": [
    {
     "name": "stderr",
     "output_type": "stream",
     "text": [
      "c:\\Users\\Vishnu\\.conda\\envs\\pytorch_gpu\\lib\\site-packages\\torchvision\\models\\_utils.py:208: UserWarning: The parameter 'pretrained' is deprecated since 0.13 and may be removed in the future, please use 'weights' instead.\n",
      "  warnings.warn(\n",
      "c:\\Users\\Vishnu\\.conda\\envs\\pytorch_gpu\\lib\\site-packages\\torchvision\\models\\_utils.py:223: UserWarning: Arguments other than a weight enum or `None` for 'weights' are deprecated since 0.13 and may be removed in the future. The current behavior is equivalent to passing `weights=DenseNet121_Weights.IMAGENET1K_V1`. You can also use `weights=DenseNet121_Weights.DEFAULT` to get the most up-to-date weights.\n",
      "  warnings.warn(msg)\n"
     ]
    },
    {
     "name": "stdout",
     "output_type": "stream",
     "text": [
      "Epoch 1/20, Loss: 6556.13271484375\n",
      "Epoch 2/20, Loss: 693.5060087585449\n",
      "Epoch 3/20, Loss: 172.8507243347168\n",
      "Epoch 4/20, Loss: 165.7367212677002\n",
      "Epoch 5/20, Loss: 163.98241104125975\n",
      "Epoch 6/20, Loss: 162.23789680480957\n",
      "Epoch 7/20, Loss: 162.42367012023925\n",
      "Epoch 8/20, Loss: 161.0621901702881\n",
      "Epoch 9/20, Loss: 161.27172119140624\n",
      "Epoch 10/20, Loss: 160.7358585357666\n",
      "Epoch 11/20, Loss: 160.13981521606445\n",
      "Epoch 12/20, Loss: 159.42718780517578\n",
      "Epoch 13/20, Loss: 161.2264560699463\n",
      "Epoch 14/20, Loss: 161.24464729309082\n",
      "Epoch 15/20, Loss: 160.3187776184082\n",
      "Epoch 16/20, Loss: 160.7675888824463\n",
      "Epoch 17/20, Loss: 160.2071733856201\n",
      "Epoch 18/20, Loss: 160.54353981018068\n",
      "Epoch 19/20, Loss: 160.72641899108888\n",
      "Epoch 20/20, Loss: 158.9393125152588\n",
      "Test Loss: 157.50674041748047\n"
     ]
    }
   ],
   "source": [
    "import torch\n",
    "import torch.nn as nn\n",
    "import torch.optim as optim\n",
    "from torch.utils.data import DataLoader, TensorDataset, random_split\n",
    "import numpy as np\n",
    "from sklearn.model_selection import train_test_split\n",
    "from torchvision import models\n",
    "from tqdm import tqdm\n",
    "\n",
    "X_tensor = torch.tensor(X, dtype=torch.float32).unsqueeze(1)\n",
    "y_scores_tensor = torch.tensor(y_scores, dtype=torch.float32)\n",
    "X_tensor = X_tensor.view(X_tensor.size(0), 1, 32, 30)\n",
    "\n",
    "X_train_tensor, X_test_tensor, y_train_scores_tensor, y_test_scores_tensor = train_test_split(X_tensor, y_scores_tensor, test_size=0.2, random_state=42)\n",
    "\n",
    "train_dataset = TensorDataset(X_train_tensor, y_train_scores_tensor)\n",
    "test_dataset = TensorDataset(X_test_tensor, y_test_scores_tensor)\n",
    "\n",
    "train_loader = DataLoader(train_dataset, batch_size=64, shuffle=True)\n",
    "test_loader = DataLoader(test_dataset, batch_size=64, shuffle=False)\n",
    "\n",
    "class ModifiedDenseNetForRegression(nn.Module):\n",
    "    def __init__(self):\n",
    "        super(ModifiedDenseNetForRegression, self).__init__()\n",
    "        self.densenet = models.densenet121(pretrained=True)\n",
    "        self.densenet.features.conv0 = nn.Conv2d(1, 64, kernel_size=(7, 7), stride=(2, 2), padding=(3, 3), bias=False)\n",
    "        self.densenet.classifier = nn.Linear(self.densenet.classifier.in_features, 2)  # Predicting two scores\n",
    "\n",
    "    def forward(self, x):\n",
    "        x = self.densenet(x)\n",
    "        return x\n",
    "\n",
    "model = ModifiedDenseNetForRegression().cuda()\n",
    "criterion = nn.MSELoss()\n",
    "optimizer = optim.Adam(model.parameters(), lr=0.001)\n",
    "\n",
    "num_epochs = 20\n",
    "for epoch in range(num_epochs):\n",
    "    model.train()\n",
    "    running_loss = 0.0\n",
    "    for inputs, labels in train_loader:\n",
    "        inputs, labels = inputs.cuda(), labels.cuda()\n",
    "        optimizer.zero_grad()\n",
    "        outputs = model(inputs)\n",
    "        loss = criterion(outputs, labels)\n",
    "        loss.backward()\n",
    "        optimizer.step()\n",
    "        running_loss += loss.item()\n",
    "    print(f\"Epoch {epoch+1}/{num_epochs}, Loss: {running_loss/len(train_loader)}\")\n",
    "\n",
    "# Evaluating the model\n",
    "model.eval()\n",
    "test_loss = 0.0\n",
    "with torch.no_grad():\n",
    "    for inputs, labels in test_loader:\n",
    "        inputs, labels = inputs.cuda(), labels.cuda()\n",
    "        outputs = model(inputs)\n",
    "        loss = criterion(outputs, labels)\n",
    "        test_loss += loss.item()\n",
    "\n",
    "print(f\"Test Loss: {test_loss/len(test_loader)}\")\n"
   ]
  },
  {
   "cell_type": "markdown",
   "metadata": {},
   "source": [
    "We train a Random Forest Classifier to predict whether the home team will win or lose. This model uses the input tensors to learn patterns in the data.\n",
    "\n",
    "We train a Random Forest Regressor to predict the scores of the home and away teams. This model helps us estimate the actual game scores based on player performance."
   ]
  },
  {
   "cell_type": "code",
   "execution_count": 37,
   "metadata": {},
   "outputs": [
    {
     "name": "stdout",
     "output_type": "stream",
     "text": [
      "Test Classifier Accuracy: 0.59\n",
      "Test Regressor Mean Squared Error: 150.42\n"
     ]
    }
   ],
   "source": [
    "# Train Random Forest Classifier\n",
    "clf = RandomForestClassifier(n_estimators=200, random_state=42, n_jobs=-1, verbose=False)\n",
    "clf.fit(X_train, y_train)\n",
    "\n",
    "# Evaluate the classifier on the test data\n",
    "y_test_pred = clf.predict(X_test)\n",
    "test_accuracy = accuracy_score(y_test, y_test_pred)\n",
    "print(f'Test Classifier Accuracy: {test_accuracy:.2f}')\n",
    "\n",
    "# Train Random Forest Regressor\n",
    "reg = RandomForestRegressor(n_estimators=200, random_state=42, n_jobs=-1, verbose=False)\n",
    "reg.fit(X_train_scores, y_train_scores)\n",
    "\n",
    "# Evaluate the regressor on the test data\n",
    "y_test_pred_scores = reg.predict(X_test_scores)\n",
    "test_mse = mean_squared_error(y_test_scores, y_test_pred_scores)\n",
    "print(f'Test Regressor Mean Squared Error: {test_mse:.2f}')\n"
   ]
  },
  {
   "cell_type": "markdown",
   "metadata": {},
   "source": [
    "To evaluate the performance of our classifier, we generate a confusion matrix and calculate key metrics such as accuracy, precision, and recall."
   ]
  },
  {
   "cell_type": "code",
   "execution_count": 38,
   "metadata": {},
   "outputs": [
    {
     "data": {
      "text/plain": [
       "<Figure size 1000x700 with 0 Axes>"
      ]
     },
     "metadata": {},
     "output_type": "display_data"
    },
    {
     "data": {
      "image/png": "[encoded data removed]",
      "text/plain": [
       "<Figure size 640x480 with 2 Axes>"
      ]
     },
     "metadata": {},
     "output_type": "display_data"
    }
   ],
   "source": [
    "# Generate the confusion matrix\n",
    "cm = confusion_matrix(y_test, y_test_pred)\n",
    "disp = ConfusionMatrixDisplay(confusion_matrix=cm, display_labels=['Away Wins', 'Home Wins'])\n",
    "\n",
    "# Plot the confusion matrix\n",
    "plt.figure(figsize=(10, 7))\n",
    "disp.plot(cmap=plt.cm.Blues)\n",
    "plt.title('Confusion Matrix for Random Forest Classifier')\n",
    "plt.show()"
   ]
  },
  {
   "cell_type": "code",
   "execution_count": 39,
   "metadata": {},
   "outputs": [
    {
     "name": "stdout",
     "output_type": "stream",
     "text": [
      "Accuracy: 0.59\n",
      "Precision: 0.58\n",
      "Recall: 0.91\n"
     ]
    }
   ],
   "source": [
    "# Calculate accuracy, precision, and recall\n",
    "accuracy = accuracy_score(y_test, y_test_pred)\n",
    "precision = precision_score(y_test, y_test_pred)\n",
    "recall = recall_score(y_test, y_test_pred)\n",
    "\n",
    "print(f'Accuracy: {accuracy:.2f}')\n",
    "print(f'Precision: {precision:.2f}')\n",
    "print(f'Recall: {recall:.2f}')"
   ]
  },
  {
   "cell_type": "markdown",
   "metadata": {},
   "source": [
    "##### Interpretation of Model Evaluation Metrics\n",
    "\n",
    "After training our models, we evaluated their performance using the test data. Here are the results:\n",
    "\n",
    "1. **Test Classifier Accuracy: 0.59**\n",
    "   - The classifier accuracy of 0.59 means that our Random Forest Classifier correctly predicts the outcome of a game (home team win or loss) 59% of the time. In other words, out of 100 games, the model is expected to predict around 59 game outcomes correctly.\n",
    "\n",
    "   - While this might not seem exceptionally high compared to typical standards in other applications, an accuracy of 59% is quite valuable in the context of sports betting. In gambling, the baseline accuracy for predicting a binary outcome (like win/loss) is 50%, which represents random guessing. An accuracy of 59% indicates that our model performs significantly better than random chance, giving us an edge in making betting decisions. Consistently achieving a 59% win rate can lead to sustainable profits in the long term. In gambling, even a small edge can compound over time, leading to significant gains.\n",
    "\n",
    "2. **Precision: 0.58**\n",
    "   - Precision measures the proportion of true positive predictions (correctly predicted home team wins) among all positive predictions (predicted home team wins). In our model, a precision of 0.58 means that 58% of the times our model predicts a home team win, it is correct.\n",
    "\n",
    "3. **Recall: 0.91**\n",
    "   - A high recall of 0.91 ensures that our model captures most of the home team wins. This is crucial in betting because missing out on potential wins (false negatives) can mean lost opportunities for profit. By correctly identifying 91% of the actual home team wins, our model ensures that we take advantage of most winning situations.\n",
    "\n",
    "4. **Test Regressor Mean Squared Error: 150.42**\n",
    "   - The Mean Squared Error (MSE) of 150.42 for the regressor indicates the average squared difference between the predicted and actual scores. A lower MSE value represents better predictive accuracy, as it means the predicted scores are closer to the actual scores.\n",
    "\n",
    "   - In practical terms, this MSE value means that on average, the squared error in our score predictions is 150.42 points. This metric helps us understand the precision of our score predictions, and while there is room for improvement, it provides a solid foundation for refining our models.\n"
   ]
  },
  {
   "cell_type": "markdown",
   "metadata": {},
   "source": [
    "### Predicting Game Outcomes and Scores Based on User Input"
   ]
  },
  {
   "cell_type": "markdown",
   "metadata": {},
   "source": [
    "We define a function to predict the outcome and scores of a game based on input player statistics. This function processes the input data, constructs the necessary tensor, and uses the trained models to make predictions."
   ]
  },
  {
   "cell_type": "code",
   "execution_count": 40,
   "metadata": {},
   "outputs": [],
   "source": [
    "def predict_game_outcome_and_score(home_team_players, away_team_players):\n",
    "    home_tensor = np.array([], dtype=float)\n",
    "    away_tensor = np.array([], dtype=float)\n",
    "    \n",
    "    for player in home_team_players:\n",
    "        home_tensor = np.concatenate((home_tensor, findPastThreeIDs(player, None)))\n",
    "    \n",
    "    for player in away_team_players:\n",
    "        away_tensor = np.concatenate((away_tensor, findPastThreeIDs(player, None)))\n",
    "    \n",
    "    home_tensor = pad_tensor(home_tensor, max_length // 2)\n",
    "    away_tensor = pad_tensor(away_tensor, max_length // 2)\n",
    "    \n",
    "    input_tensor = np.concatenate((home_tensor, away_tensor)).reshape(1, -1)\n",
    "    \n",
    "    scores = reg.predict(input_tensor)[0]\n",
    "    home_team_score, away_team_score = int(round(scores[0])), int(round(scores[1]))\n",
    "    \n",
    "    # Determine the outcome based on predicted scores\n",
    "    outcome = 1 if home_team_score > away_team_score else 0\n",
    "    \n",
    "    return outcome, (home_team_score, away_team_score)"
   ]
  },
  {
   "cell_type": "markdown",
   "metadata": {},
   "source": [
    "We handle user input for home and away team players and use our prediction function to determine the game outcome and scores. This allows users to input any combination of players and see the predicted results."
   ]
  },
  {
   "cell_type": "code",
   "execution_count": 41,
   "metadata": {},
   "outputs": [
    {
     "name": "stdout",
     "output_type": "stream",
     "text": [
      "Predicted Outcome: Home Team Wins\n",
      "Predicted Scores: Home Team 108 - Away Team 105\n"
     ]
    }
   ],
   "source": [
    "def predict_game_outcome_and_score(home_team_players, away_team_players):\n",
    "    max_players = 5  # Maximum number of players in the team\n",
    "    \n",
    "    if len(home_team_players) > max_players or len(away_team_players) > max_players:\n",
    "        print(\"Error: More than 5 players entered on a team.\")\n",
    "        return None, None\n",
    "    \n",
    "    home_tensor = np.array([], dtype=float)\n",
    "    away_tensor = np.array([], dtype=float)\n",
    "    \n",
    "    for player in home_team_players:\n",
    "        if player not in player_stats:\n",
    "            print(f\"Error: Player {player} not found.\")\n",
    "            return None, None\n",
    "        home_tensor = np.concatenate((home_tensor, findPastThreeIDs(player, None)))\n",
    "    \n",
    "    for player in away_team_players:\n",
    "        if player not in player_stats:\n",
    "            print(f\"Error: Player {player} not found.\")\n",
    "            return None, None\n",
    "        away_tensor = np.concatenate((away_tensor, findPastThreeIDs(player, None)))\n",
    "    \n",
    "    # Add empty tensors if less than five players are inputted\n",
    "    while len(home_team_players) < max_players:\n",
    "        home_tensor = np.concatenate((home_tensor, np.zeros(20 * 3)))\n",
    "        home_team_players.append(None)  # To keep track of added empty tensors\n",
    "    \n",
    "    while len(away_team_players) < max_players:\n",
    "        away_tensor = np.concatenate((away_tensor, np.zeros(20 * 3)))\n",
    "        away_team_players.append(None)  # To keep track of added empty tensors\n",
    "    \n",
    "    home_tensor = pad_tensor(home_tensor, max_length // 2)\n",
    "    away_tensor = pad_tensor(away_tensor, max_length // 2)\n",
    "    \n",
    "    input_tensor = np.concatenate((home_tensor, away_tensor)).reshape(1, -1)\n",
    "    \n",
    "    scores = reg.predict(input_tensor)[0]\n",
    "    home_team_score, away_team_score = int(round(scores[0])), int(round(scores[1]))\n",
    "    \n",
    "    # Determine the outcome based on predicted scores\n",
    "    outcome = 1 if home_team_score > away_team_score else 0\n",
    "    \n",
    "    return outcome, (home_team_score, away_team_score)\n",
    "\n",
    "# User input for home and away team players\n",
    "home_team_input = input(\"Enter the names of the home team players separated by commas: \").split(',')\n",
    "away_team_input = input(\"Enter the names of the away team players separated by commas: \").split(',')\n",
    "\n",
    "# Strip any leading/trailing spaces\n",
    "home_team_input = [player.strip() for player in home_team_input]\n",
    "away_team_input = [player.strip() for player in away_team_input]\n",
    "\n",
    "# Predict outcome and scores\n",
    "outcome, scores = predict_game_outcome_and_score(home_team_input, away_team_input)\n",
    "\n",
    "if outcome is not None:\n",
    "    print(f'Predicted Outcome: {\"Home Team Wins\" if outcome == 1 else \"Away Team Wins\"}')\n",
    "    print(f'Predicted Scores: Home Team {scores[0]} - Away Team {scores[1]}')\n",
    "    \n",
    "# For example, you can input this in the popup that comes when you run this cell:\n",
    "# Bojan Bogdanovic, Austin Rivers, Mason Plumlee, Andre Drummond, Cedi Osman\n",
    "# Kevon Harris, Terry Rozier, Udonis Haslem, Kelly Olynyk, Devin Booker"
   ]
  },
  {
   "cell_type": "code",
   "execution_count": null,
   "metadata": {},
   "outputs": [],
   "source": []
  },
  {
   "cell_type": "code",
   "execution_count": null,
   "metadata": {},
   "outputs": [],
   "source": []
  }
 ],
 "metadata": {
  "kernelspec": {
   "display_name": "pytorch_gpu",
   "language": "python",
   "name": "python3"
  },
  "language_info": {
   "codemirror_mode": {
    "name": "ipython",
    "version": 3
   },
   "file_extension": ".py",
   "mimetype": "text/x-python",
   "name": "python",
   "nbconvert_exporter": "python",
   "pygments_lexer": "ipython3",
   "version": "3.11.5"
  }
 },
 "nbformat": 4,
 "nbformat_minor": 2
}
