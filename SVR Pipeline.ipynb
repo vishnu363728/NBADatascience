{
 "cells": [
  {
   "cell_type": "code",
   "execution_count": 1,
   "metadata": {},
   "outputs": [],
   "source": [
    "#pip install seaborn"
   ]
  },
  {
   "cell_type": "code",
   "execution_count": 2,
   "metadata": {},
   "outputs": [],
   "source": [
    "import pandas as pd\n",
    "from tqdm import tqdm\n",
    "import numpy as np\n",
    "import copy\n",
    "from sklearn.model_selection import train_test_split\n",
    "from sklearn.ensemble import RandomForestClassifier, RandomForestRegressor\n",
    "from sklearn.metrics import accuracy_score, mean_squared_error\n",
    "import matplotlib.pyplot as plt\n",
    "import seaborn as sns"
   ]
  },
  {
   "cell_type": "code",
   "execution_count": 3,
   "metadata": {},
   "outputs": [
    {
     "data": {
      "text/html": [
       "<div>\n",
       "<style scoped>\n",
       "    .dataframe tbody tr th:only-of-type {\n",
       "        vertical-align: middle;\n",
       "    }\n",
       "\n",
       "    .dataframe tbody tr th {\n",
       "        vertical-align: top;\n",
       "    }\n",
       "\n",
       "    .dataframe thead th {\n",
       "        text-align: right;\n",
       "    }\n",
       "</style>\n",
       "<table border=\"1\" class=\"dataframe\">\n",
       "  <thead>\n",
       "    <tr style=\"text-align: right;\">\n",
       "      <th></th>\n",
       "      <th>GAME_DATE_EST</th>\n",
       "      <th>GAME_ID</th>\n",
       "      <th>GAME_STATUS_TEXT</th>\n",
       "      <th>HOME_TEAM_ID</th>\n",
       "      <th>VISITOR_TEAM_ID</th>\n",
       "      <th>SEASON</th>\n",
       "      <th>TEAM_ID_home</th>\n",
       "      <th>PTS_home</th>\n",
       "      <th>FG_PCT_home</th>\n",
       "      <th>FT_PCT_home</th>\n",
       "      <th>...</th>\n",
       "      <th>AST_home</th>\n",
       "      <th>REB_home</th>\n",
       "      <th>TEAM_ID_away</th>\n",
       "      <th>PTS_away</th>\n",
       "      <th>FG_PCT_away</th>\n",
       "      <th>FT_PCT_away</th>\n",
       "      <th>FG3_PCT_away</th>\n",
       "      <th>AST_away</th>\n",
       "      <th>REB_away</th>\n",
       "      <th>HOME_TEAM_WINS</th>\n",
       "    </tr>\n",
       "  </thead>\n",
       "  <tbody>\n",
       "    <tr>\n",
       "      <th>0</th>\n",
       "      <td>2022-12-22</td>\n",
       "      <td>22200477</td>\n",
       "      <td>Final</td>\n",
       "      <td>1610612740</td>\n",
       "      <td>1610612759</td>\n",
       "      <td>2022</td>\n",
       "      <td>1610612740</td>\n",
       "      <td>126.0</td>\n",
       "      <td>0.484</td>\n",
       "      <td>0.926</td>\n",
       "      <td>...</td>\n",
       "      <td>25.0</td>\n",
       "      <td>46.0</td>\n",
       "      <td>1610612759</td>\n",
       "      <td>117.0</td>\n",
       "      <td>0.478</td>\n",
       "      <td>0.815</td>\n",
       "      <td>0.321</td>\n",
       "      <td>23.0</td>\n",
       "      <td>44.0</td>\n",
       "      <td>1</td>\n",
       "    </tr>\n",
       "    <tr>\n",
       "      <th>1</th>\n",
       "      <td>2022-12-22</td>\n",
       "      <td>22200478</td>\n",
       "      <td>Final</td>\n",
       "      <td>1610612762</td>\n",
       "      <td>1610612764</td>\n",
       "      <td>2022</td>\n",
       "      <td>1610612762</td>\n",
       "      <td>120.0</td>\n",
       "      <td>0.488</td>\n",
       "      <td>0.952</td>\n",
       "      <td>...</td>\n",
       "      <td>16.0</td>\n",
       "      <td>40.0</td>\n",
       "      <td>1610612764</td>\n",
       "      <td>112.0</td>\n",
       "      <td>0.561</td>\n",
       "      <td>0.765</td>\n",
       "      <td>0.333</td>\n",
       "      <td>20.0</td>\n",
       "      <td>37.0</td>\n",
       "      <td>1</td>\n",
       "    </tr>\n",
       "    <tr>\n",
       "      <th>2</th>\n",
       "      <td>2022-12-21</td>\n",
       "      <td>22200466</td>\n",
       "      <td>Final</td>\n",
       "      <td>1610612739</td>\n",
       "      <td>1610612749</td>\n",
       "      <td>2022</td>\n",
       "      <td>1610612739</td>\n",
       "      <td>114.0</td>\n",
       "      <td>0.482</td>\n",
       "      <td>0.786</td>\n",
       "      <td>...</td>\n",
       "      <td>22.0</td>\n",
       "      <td>37.0</td>\n",
       "      <td>1610612749</td>\n",
       "      <td>106.0</td>\n",
       "      <td>0.470</td>\n",
       "      <td>0.682</td>\n",
       "      <td>0.433</td>\n",
       "      <td>20.0</td>\n",
       "      <td>46.0</td>\n",
       "      <td>1</td>\n",
       "    </tr>\n",
       "    <tr>\n",
       "      <th>3</th>\n",
       "      <td>2022-12-21</td>\n",
       "      <td>22200467</td>\n",
       "      <td>Final</td>\n",
       "      <td>1610612755</td>\n",
       "      <td>1610612765</td>\n",
       "      <td>2022</td>\n",
       "      <td>1610612755</td>\n",
       "      <td>113.0</td>\n",
       "      <td>0.441</td>\n",
       "      <td>0.909</td>\n",
       "      <td>...</td>\n",
       "      <td>27.0</td>\n",
       "      <td>49.0</td>\n",
       "      <td>1610612765</td>\n",
       "      <td>93.0</td>\n",
       "      <td>0.392</td>\n",
       "      <td>0.735</td>\n",
       "      <td>0.261</td>\n",
       "      <td>15.0</td>\n",
       "      <td>46.0</td>\n",
       "      <td>1</td>\n",
       "    </tr>\n",
       "    <tr>\n",
       "      <th>4</th>\n",
       "      <td>2022-12-21</td>\n",
       "      <td>22200468</td>\n",
       "      <td>Final</td>\n",
       "      <td>1610612737</td>\n",
       "      <td>1610612741</td>\n",
       "      <td>2022</td>\n",
       "      <td>1610612737</td>\n",
       "      <td>108.0</td>\n",
       "      <td>0.429</td>\n",
       "      <td>1.000</td>\n",
       "      <td>...</td>\n",
       "      <td>22.0</td>\n",
       "      <td>47.0</td>\n",
       "      <td>1610612741</td>\n",
       "      <td>110.0</td>\n",
       "      <td>0.500</td>\n",
       "      <td>0.773</td>\n",
       "      <td>0.292</td>\n",
       "      <td>20.0</td>\n",
       "      <td>47.0</td>\n",
       "      <td>0</td>\n",
       "    </tr>\n",
       "  </tbody>\n",
       "</table>\n",
       "<p>5 rows × 21 columns</p>\n",
       "</div>"
      ],
      "text/plain": [
       "  GAME_DATE_EST   GAME_ID GAME_STATUS_TEXT  HOME_TEAM_ID  VISITOR_TEAM_ID  \\\n",
       "0    2022-12-22  22200477            Final    1610612740       1610612759   \n",
       "1    2022-12-22  22200478            Final    1610612762       1610612764   \n",
       "2    2022-12-21  22200466            Final    1610612739       1610612749   \n",
       "3    2022-12-21  22200467            Final    1610612755       1610612765   \n",
       "4    2022-12-21  22200468            Final    1610612737       1610612741   \n",
       "\n",
       "   SEASON  TEAM_ID_home  PTS_home  FG_PCT_home  FT_PCT_home  ...  AST_home  \\\n",
       "0    2022    1610612740     126.0        0.484        0.926  ...      25.0   \n",
       "1    2022    1610612762     120.0        0.488        0.952  ...      16.0   \n",
       "2    2022    1610612739     114.0        0.482        0.786  ...      22.0   \n",
       "3    2022    1610612755     113.0        0.441        0.909  ...      27.0   \n",
       "4    2022    1610612737     108.0        0.429        1.000  ...      22.0   \n",
       "\n",
       "   REB_home  TEAM_ID_away  PTS_away  FG_PCT_away  FT_PCT_away  FG3_PCT_away  \\\n",
       "0      46.0    1610612759     117.0        0.478        0.815         0.321   \n",
       "1      40.0    1610612764     112.0        0.561        0.765         0.333   \n",
       "2      37.0    1610612749     106.0        0.470        0.682         0.433   \n",
       "3      49.0    1610612765      93.0        0.392        0.735         0.261   \n",
       "4      47.0    1610612741     110.0        0.500        0.773         0.292   \n",
       "\n",
       "   AST_away  REB_away  HOME_TEAM_WINS  \n",
       "0      23.0      44.0               1  \n",
       "1      20.0      37.0               1  \n",
       "2      20.0      46.0               1  \n",
       "3      15.0      46.0               1  \n",
       "4      20.0      47.0               0  \n",
       "\n",
       "[5 rows x 21 columns]"
      ]
     },
     "execution_count": 3,
     "metadata": {},
     "output_type": "execute_result"
    }
   ],
   "source": [
    "games_df = pd.read_csv('games.csv')\n",
    "games_df.head()"
   ]
  },
  {
   "cell_type": "code",
   "execution_count": 4,
   "metadata": {},
   "outputs": [
    {
     "data": {
      "image/png": "[encoded data removed]",
      "text/plain": [
       "<Figure size 1200x600 with 1 Axes>"
      ]
     },
     "metadata": {},
     "output_type": "display_data"
    }
   ],
   "source": [
    "import matplotlib.pyplot as plt\n",
    "import seaborn as sns\n",
    "\n",
    "# Convert SEASON to integer\n",
    "games_df['SEASON'] = games_df['SEASON'].astype(int)\n",
    "\n",
    "# Calculate the average points by home and away teams by season\n",
    "avg_points_by_season = games_df.groupby('SEASON')[['PTS_home', 'PTS_away']].mean()\n",
    "\n",
    "# Plot the average points by home and away teams by season\n",
    "plt.figure(figsize=(12, 6))\n",
    "sns.lineplot(data=avg_points_by_season.reset_index(), x='SEASON', y='PTS_home', marker='o', label='Home')\n",
    "sns.lineplot(data=avg_points_by_season.reset_index(), x='SEASON', y='PTS_away', marker='o', label='Away')\n",
    "plt.title('Average Points by Home and Away Teams by Season')\n",
    "plt.xlabel('Season')\n",
    "plt.ylabel('Average Points')\n",
    "plt.xticks(avg_points_by_season.index)  # Ensure x-axis ticks are integers\n",
    "plt.legend()\n",
    "plt.show()\n"
   ]
  },
  {
   "cell_type": "code",
   "execution_count": 5,
   "metadata": {},
   "outputs": [
    {
     "data": {
      "image/png": "[encoded data removed]",
      "text/plain": [
       "<Figure size 1200x800 with 1 Axes>"
      ]
     },
     "metadata": {},
     "output_type": "display_data"
    }
   ],
   "source": [
    "# Plot box plots of points distribution for home and away teams\n",
    "plt.figure(figsize=(12, 8))\n",
    "sns.boxplot(data=games_df[['PTS_home', 'PTS_away']])\n",
    "plt.title('Points Distribution for Home and Away Teams')\n",
    "plt.xlabel('Team')\n",
    "plt.ylabel('Points')\n",
    "plt.xticks([0, 1], ['Home Team', 'Away Team'])\n",
    "plt.show()\n"
   ]
  },
  {
   "cell_type": "code",
   "execution_count": 6,
   "metadata": {},
   "outputs": [
    {
     "data": {
      "image/png": "[encoded data removed]",
      "text/plain": [
       "<Figure size 1200x600 with 1 Axes>"
      ]
     },
     "metadata": {},
     "output_type": "display_data"
    }
   ],
   "source": [
    "import matplotlib.pyplot as plt\n",
    "import seaborn as sns\n",
    "\n",
    "# Convert SEASON to integer\n",
    "games_df['SEASON'] = games_df['SEASON'].astype(int)\n",
    "\n",
    "# Calculate the win rate by season\n",
    "win_rate_by_season = games_df.groupby('SEASON')['HOME_TEAM_WINS'].mean()\n",
    "\n",
    "# Plot the home team win rate by season\n",
    "plt.figure(figsize=(12, 6))\n",
    "sns.lineplot(x=win_rate_by_season.index, y=win_rate_by_season.values, marker='o')\n",
    "plt.title('Home Team Win Rate by Season')\n",
    "plt.xlabel('Season')\n",
    "plt.ylabel('Win Rate')\n",
    "plt.ylim(0, 1)\n",
    "plt.xticks(win_rate_by_season.index)  # Ensure x-axis ticks are integers\n",
    "plt.show()\n"
   ]
  },
  {
   "cell_type": "code",
   "execution_count": 7,
   "metadata": {},
   "outputs": [
    {
     "name": "stderr",
     "output_type": "stream",
     "text": [
      "/var/folders/9h/lkfq_c4j39x2p116rk0qh8h40000gn/T/ipykernel_82242/1978113452.py:1: DtypeWarning: Columns (6) have mixed types. Specify dtype option on import or set low_memory=False.\n",
      "  details_df = pd.read_csv('games_details.csv')\n"
     ]
    },
    {
     "data": {
      "text/html": [
       "<div>\n",
       "<style scoped>\n",
       "    .dataframe tbody tr th:only-of-type {\n",
       "        vertical-align: middle;\n",
       "    }\n",
       "\n",
       "    .dataframe tbody tr th {\n",
       "        vertical-align: top;\n",
       "    }\n",
       "\n",
       "    .dataframe thead th {\n",
       "        text-align: right;\n",
       "    }\n",
       "</style>\n",
       "<table border=\"1\" class=\"dataframe\">\n",
       "  <thead>\n",
       "    <tr style=\"text-align: right;\">\n",
       "      <th></th>\n",
       "      <th>GAME_ID</th>\n",
       "      <th>TEAM_ID</th>\n",
       "      <th>TEAM_ABBREVIATION</th>\n",
       "      <th>TEAM_CITY</th>\n",
       "      <th>PLAYER_ID</th>\n",
       "      <th>PLAYER_NAME</th>\n",
       "      <th>NICKNAME</th>\n",
       "      <th>START_POSITION</th>\n",
       "      <th>COMMENT</th>\n",
       "      <th>MIN</th>\n",
       "      <th>...</th>\n",
       "      <th>OREB</th>\n",
       "      <th>DREB</th>\n",
       "      <th>REB</th>\n",
       "      <th>AST</th>\n",
       "      <th>STL</th>\n",
       "      <th>BLK</th>\n",
       "      <th>TO</th>\n",
       "      <th>PF</th>\n",
       "      <th>PTS</th>\n",
       "      <th>PLUS_MINUS</th>\n",
       "    </tr>\n",
       "  </thead>\n",
       "  <tbody>\n",
       "    <tr>\n",
       "      <th>0</th>\n",
       "      <td>22200477</td>\n",
       "      <td>1610612759</td>\n",
       "      <td>SAS</td>\n",
       "      <td>San Antonio</td>\n",
       "      <td>1629641</td>\n",
       "      <td>Romeo Langford</td>\n",
       "      <td>Romeo</td>\n",
       "      <td>F</td>\n",
       "      <td>NaN</td>\n",
       "      <td>18:06</td>\n",
       "      <td>...</td>\n",
       "      <td>1.0</td>\n",
       "      <td>1.0</td>\n",
       "      <td>2.0</td>\n",
       "      <td>0.0</td>\n",
       "      <td>1.0</td>\n",
       "      <td>0.0</td>\n",
       "      <td>2.0</td>\n",
       "      <td>5.0</td>\n",
       "      <td>2.0</td>\n",
       "      <td>-2.0</td>\n",
       "    </tr>\n",
       "    <tr>\n",
       "      <th>1</th>\n",
       "      <td>22200477</td>\n",
       "      <td>1610612759</td>\n",
       "      <td>SAS</td>\n",
       "      <td>San Antonio</td>\n",
       "      <td>1631110</td>\n",
       "      <td>Jeremy Sochan</td>\n",
       "      <td>Jeremy</td>\n",
       "      <td>F</td>\n",
       "      <td>NaN</td>\n",
       "      <td>31:01</td>\n",
       "      <td>...</td>\n",
       "      <td>6.0</td>\n",
       "      <td>3.0</td>\n",
       "      <td>9.0</td>\n",
       "      <td>6.0</td>\n",
       "      <td>1.0</td>\n",
       "      <td>0.0</td>\n",
       "      <td>2.0</td>\n",
       "      <td>1.0</td>\n",
       "      <td>23.0</td>\n",
       "      <td>-14.0</td>\n",
       "    </tr>\n",
       "    <tr>\n",
       "      <th>2</th>\n",
       "      <td>22200477</td>\n",
       "      <td>1610612759</td>\n",
       "      <td>SAS</td>\n",
       "      <td>San Antonio</td>\n",
       "      <td>1627751</td>\n",
       "      <td>Jakob Poeltl</td>\n",
       "      <td>Jakob</td>\n",
       "      <td>C</td>\n",
       "      <td>NaN</td>\n",
       "      <td>21:42</td>\n",
       "      <td>...</td>\n",
       "      <td>1.0</td>\n",
       "      <td>3.0</td>\n",
       "      <td>4.0</td>\n",
       "      <td>1.0</td>\n",
       "      <td>1.0</td>\n",
       "      <td>0.0</td>\n",
       "      <td>2.0</td>\n",
       "      <td>4.0</td>\n",
       "      <td>13.0</td>\n",
       "      <td>-4.0</td>\n",
       "    </tr>\n",
       "    <tr>\n",
       "      <th>3</th>\n",
       "      <td>22200477</td>\n",
       "      <td>1610612759</td>\n",
       "      <td>SAS</td>\n",
       "      <td>San Antonio</td>\n",
       "      <td>1630170</td>\n",
       "      <td>Devin Vassell</td>\n",
       "      <td>Devin</td>\n",
       "      <td>G</td>\n",
       "      <td>NaN</td>\n",
       "      <td>30:20</td>\n",
       "      <td>...</td>\n",
       "      <td>0.0</td>\n",
       "      <td>9.0</td>\n",
       "      <td>9.0</td>\n",
       "      <td>5.0</td>\n",
       "      <td>3.0</td>\n",
       "      <td>0.0</td>\n",
       "      <td>2.0</td>\n",
       "      <td>1.0</td>\n",
       "      <td>10.0</td>\n",
       "      <td>-18.0</td>\n",
       "    </tr>\n",
       "    <tr>\n",
       "      <th>4</th>\n",
       "      <td>22200477</td>\n",
       "      <td>1610612759</td>\n",
       "      <td>SAS</td>\n",
       "      <td>San Antonio</td>\n",
       "      <td>1630200</td>\n",
       "      <td>Tre Jones</td>\n",
       "      <td>Tre</td>\n",
       "      <td>G</td>\n",
       "      <td>NaN</td>\n",
       "      <td>27:44</td>\n",
       "      <td>...</td>\n",
       "      <td>0.0</td>\n",
       "      <td>2.0</td>\n",
       "      <td>2.0</td>\n",
       "      <td>3.0</td>\n",
       "      <td>0.0</td>\n",
       "      <td>0.0</td>\n",
       "      <td>2.0</td>\n",
       "      <td>2.0</td>\n",
       "      <td>19.0</td>\n",
       "      <td>0.0</td>\n",
       "    </tr>\n",
       "  </tbody>\n",
       "</table>\n",
       "<p>5 rows × 29 columns</p>\n",
       "</div>"
      ],
      "text/plain": [
       "    GAME_ID     TEAM_ID TEAM_ABBREVIATION    TEAM_CITY  PLAYER_ID  \\\n",
       "0  22200477  1610612759               SAS  San Antonio    1629641   \n",
       "1  22200477  1610612759               SAS  San Antonio    1631110   \n",
       "2  22200477  1610612759               SAS  San Antonio    1627751   \n",
       "3  22200477  1610612759               SAS  San Antonio    1630170   \n",
       "4  22200477  1610612759               SAS  San Antonio    1630200   \n",
       "\n",
       "      PLAYER_NAME NICKNAME START_POSITION COMMENT    MIN  ...  OREB  DREB  \\\n",
       "0  Romeo Langford    Romeo              F     NaN  18:06  ...   1.0   1.0   \n",
       "1   Jeremy Sochan   Jeremy              F     NaN  31:01  ...   6.0   3.0   \n",
       "2    Jakob Poeltl    Jakob              C     NaN  21:42  ...   1.0   3.0   \n",
       "3   Devin Vassell    Devin              G     NaN  30:20  ...   0.0   9.0   \n",
       "4       Tre Jones      Tre              G     NaN  27:44  ...   0.0   2.0   \n",
       "\n",
       "   REB  AST  STL  BLK   TO   PF   PTS  PLUS_MINUS  \n",
       "0  2.0  0.0  1.0  0.0  2.0  5.0   2.0        -2.0  \n",
       "1  9.0  6.0  1.0  0.0  2.0  1.0  23.0       -14.0  \n",
       "2  4.0  1.0  1.0  0.0  2.0  4.0  13.0        -4.0  \n",
       "3  9.0  5.0  3.0  0.0  2.0  1.0  10.0       -18.0  \n",
       "4  2.0  3.0  0.0  0.0  2.0  2.0  19.0         0.0  \n",
       "\n",
       "[5 rows x 29 columns]"
      ]
     },
     "execution_count": 7,
     "metadata": {},
     "output_type": "execute_result"
    }
   ],
   "source": [
    "details_df = pd.read_csv('games_details.csv')\n",
    "details_df.head()"
   ]
  },
  {
   "cell_type": "code",
   "execution_count": 8,
   "metadata": {},
   "outputs": [],
   "source": [
    "#For space considerations, we drop all games prior to 2017\n",
    "drop_ids = [] \n",
    "for index, row in games_df.iterrows():\n",
    "    year_str = row['GAME_DATE_EST']\n",
    "    year = int(year_str[0:4])\n",
    "    if(year < 2017):\n",
    "        drop_ids.append(row['GAME_ID'])\n",
    "\n",
    "games_df = games_df[~games_df['GAME_ID'].isin(drop_ids)]\n",
    "details_df = details_df[~details_df['GAME_ID'].isin(drop_ids)]\n",
    "\n",
    "games_df.reset_index(drop=True, inplace=True)\n",
    "details_df.reset_index(drop=True, inplace=True)\n",
    "\n",
    "\n"
   ]
  },
  {
   "cell_type": "code",
   "execution_count": 9,
   "metadata": {},
   "outputs": [
    {
     "name": "stderr",
     "output_type": "stream",
     "text": [
      "Processing rows: 100%|██████████| 208536/208536 [00:25<00:00, 8242.15it/s]\n"
     ]
    }
   ],
   "source": [
    "num_rows = details_df.shape[0]\n",
    "# Initialize the data structure\n",
    "player_stats = {}\n",
    "\n",
    "\n",
    "# Construct the data structure\n",
    "for index, row in tqdm(details_df.iterrows(), total=num_rows, desc=\"Processing rows\"):\n",
    "    player_name = row['PLAYER_NAME']\n",
    "    game_id = row['GAME_ID']\n",
    "    player_statistics = row.drop(['PLAYER_NAME', 'GAME_ID', 'TEAM_ID', 'TEAM_CITY', 'PLAYER_ID', 'NICKNAME','START_POSITION','COMMENT','TEAM_ABBREVIATION'])\n",
    "    if player_statistics.isnull().any():\n",
    "        continue\n",
    "    player_statistics = player_statistics.to_dict()\n",
    "    if player_name not in player_stats:\n",
    "        player_stats[player_name] = {}\n",
    "    \n",
    "    player_stats[player_name][game_id] = player_statistics"
   ]
  },
  {
   "cell_type": "markdown",
   "metadata": {},
   "source": [
    "Now that player_stats is populated, let's build a hash from player to a sorted list of game_ids so that looking up the previous 3 games is easy"
   ]
  },
  {
   "cell_type": "code",
   "execution_count": 10,
   "metadata": {},
   "outputs": [
    {
     "name": "stderr",
     "output_type": "stream",
     "text": [
      "Processing rows: 100%|██████████| 208536/208536 [00:04<00:00, 52031.50it/s]\n"
     ]
    }
   ],
   "source": [
    "player_games_sorted = {}\n",
    "for index, row in tqdm(details_df.iterrows(), total=num_rows, desc=\"Processing rows\"):\n",
    "    player_name = row['PLAYER_NAME']\n",
    "    game_id = row['GAME_ID']\n",
    "\n",
    "    if player_name not in player_games_sorted:\n",
    "        player_games_sorted[player_name] = [game_id]\n",
    "    else:\n",
    "        player_games_sorted[player_name].append(game_id)\n",
    "        player_games_sorted[player_name].sort()"
   ]
  },
  {
   "cell_type": "code",
   "execution_count": 11,
   "metadata": {},
   "outputs": [],
   "source": [
    "def dict_entry_to_numpy(dict_entry):\n",
    "    time_str = dict_entry['MIN']\n",
    "    try:\n",
    "        if ':' in time_str:\n",
    "            minutes, seconds = map(int, time_str.split(':'))\n",
    "            total_minutes = minutes * 60 + seconds\n",
    "        else:\n",
    "            total_minutes = float(time_str) * 60  # Assuming it's in minutes as a float\n",
    "    except ValueError:\n",
    "        total_minutes = 0.0  # Default to 0 if the format is incorrect or missing\n",
    "\n",
    "    new_entry = dict_entry.copy()\n",
    "    new_entry['MIN'] = total_minutes\n",
    "    values_array = np.array(list(new_entry.values()))\n",
    "    return values_array\n"
   ]
  },
  {
   "cell_type": "code",
   "execution_count": 12,
   "metadata": {},
   "outputs": [],
   "source": [
    "# Function to find past three game IDs\n",
    "def findPastThreeIDs(player_name, target_game=None):\n",
    "    if player_name not in player_games_sorted:\n",
    "        return np.zeros(20 * 3)  # Assuming each entry has 20 features and we need three entries\n",
    "    foundarr = []\n",
    "    for game_id in player_games_sorted[player_name]:\n",
    "        if game_id == target_game:\n",
    "            break\n",
    "        try:\n",
    "            foundarr.append(dict_entry_to_numpy(player_stats[player_name][game_id]))\n",
    "        except KeyError:\n",
    "            continue\n",
    "    if len(foundarr) < 3:\n",
    "        return np.concatenate([np.zeros(20)] * (3 - len(foundarr)) + foundarr)\n",
    "    return np.concatenate(foundarr[-3:])"
   ]
  },
  {
   "cell_type": "markdown",
   "metadata": {},
   "source": [
    "The following is example usage of the above funciton, getting the tensor for a player and the three previous starting games before the one specified"
   ]
  },
  {
   "cell_type": "code",
   "execution_count": 13,
   "metadata": {},
   "outputs": [
    {
     "data": {
      "text/plain": [
       "array([ 1.719e+03,  7.000e+00,  1.000e+01,  7.000e-01,  1.000e+00,\n",
       "        2.000e+00,  5.000e-01,  4.000e+00,  4.000e+00,  1.000e+00,\n",
       "        1.000e+00,  5.000e+00,  6.000e+00,  0.000e+00,  1.000e+00,\n",
       "        1.000e+00,  2.000e+00,  3.000e+00,  1.900e+01, -3.000e+00,\n",
       "        1.491e+03,  1.000e+00,  5.000e+00,  2.000e-01,  0.000e+00,\n",
       "        2.000e+00,  0.000e+00,  1.000e+00,  2.000e+00,  5.000e-01,\n",
       "        2.000e+00,  1.000e+00,  3.000e+00,  1.000e+00,  1.000e+00,\n",
       "        1.000e+00,  0.000e+00,  1.000e+00,  3.000e+00, -1.200e+01,\n",
       "        1.154e+03,  2.000e+00,  2.000e+00,  1.000e+00,  1.000e+00,\n",
       "        1.000e+00,  1.000e+00,  1.000e+00,  2.000e+00,  5.000e-01,\n",
       "        0.000e+00,  1.000e+00,  1.000e+00,  1.000e+00,  0.000e+00,\n",
       "        1.000e+00,  0.000e+00,  1.000e+00,  6.000e+00,  3.000e+00])"
      ]
     },
     "execution_count": 13,
     "metadata": {},
     "output_type": "execute_result"
    }
   ],
   "source": [
    "findPastThreeIDs(\"Romeo Langford\", 22200477)"
   ]
  },
  {
   "cell_type": "code",
   "execution_count": 14,
   "metadata": {},
   "outputs": [],
   "source": [
    "# Function to get tensor from game ID\n",
    "def getTensorFromID(id, game_details_df):\n",
    "    filtered_df = game_details_df[(game_details_df['GAME_ID'] == id) & (game_details_df['START_POSITION'].notna())]\n",
    "    tensor = np.array([], dtype=float)\n",
    "    for index, row in filtered_df.iterrows():\n",
    "        player_tensor = findPastThreeIDs(row['PLAYER_NAME'], id)\n",
    "        tensor = np.concatenate((tensor, player_tensor))\n",
    "    return tensor "
   ]
  },
  {
   "cell_type": "markdown",
   "metadata": {},
   "source": [
    "Example usage of the above function. This allows us to get an input tensor for a specfied game. So, to train on data, simply run this function to get all input points on the games you want to train on. "
   ]
  },
  {
   "cell_type": "code",
   "execution_count": 15,
   "metadata": {},
   "outputs": [
    {
     "data": {
      "text/plain": [
       "array([ 1.719e+03,  7.000e+00,  1.000e+01,  7.000e-01,  1.000e+00,\n",
       "        2.000e+00,  5.000e-01,  4.000e+00,  4.000e+00,  1.000e+00,\n",
       "        1.000e+00,  5.000e+00,  6.000e+00,  0.000e+00,  1.000e+00,\n",
       "        1.000e+00,  2.000e+00,  3.000e+00,  1.900e+01, -3.000e+00,\n",
       "        1.491e+03,  1.000e+00,  5.000e+00,  2.000e-01,  0.000e+00,\n",
       "        2.000e+00,  0.000e+00,  1.000e+00,  2.000e+00,  5.000e-01,\n",
       "        2.000e+00,  1.000e+00,  3.000e+00,  1.000e+00,  1.000e+00,\n",
       "        1.000e+00,  0.000e+00,  1.000e+00,  3.000e+00, -1.200e+01,\n",
       "        1.154e+03,  2.000e+00,  2.000e+00,  1.000e+00,  1.000e+00,\n",
       "        1.000e+00,  1.000e+00,  1.000e+00,  2.000e+00,  5.000e-01,\n",
       "        0.000e+00,  1.000e+00,  1.000e+00,  1.000e+00,  0.000e+00,\n",
       "        1.000e+00,  0.000e+00,  1.000e+00,  6.000e+00,  3.000e+00,\n",
       "        1.289e+03,  2.000e+00,  6.000e+00,  3.330e-01,  0.000e+00,\n",
       "        0.000e+00,  0.000e+00,  0.000e+00,  0.000e+00,  0.000e+00,\n",
       "        1.000e+00,  4.000e+00,  5.000e+00,  3.000e+00,  0.000e+00,\n",
       "        0.000e+00,  1.000e+00,  0.000e+00,  4.000e+00, -2.000e+00,\n",
       "        9.870e+02,  1.000e+00,  5.000e+00,  2.000e-01,  0.000e+00,\n",
       "        0.000e+00,  0.000e+00,  0.000e+00,  2.000e+00,  0.000e+00,\n",
       "        0.000e+00,  4.000e+00,  4.000e+00,  4.000e+00,  0.000e+00,\n",
       "        0.000e+00,  0.000e+00,  4.000e+00,  2.000e+00, -1.700e+01,\n",
       "        1.388e+03,  5.000e+00,  8.000e+00,  6.250e-01,  1.000e+00,\n",
       "        3.000e+00,  3.330e-01,  1.000e+00,  4.000e+00,  2.500e-01,\n",
       "        2.000e+00,  5.000e+00,  7.000e+00,  2.000e+00,  0.000e+00,\n",
       "        1.000e+00,  2.000e+00,  4.000e+00,  1.200e+01,  1.700e+01,\n",
       "        5.870e+02,  6.000e+00,  8.000e+00,  7.500e-01,  0.000e+00,\n",
       "        0.000e+00,  0.000e+00,  0.000e+00,  0.000e+00,  0.000e+00,\n",
       "        4.000e+00,  5.000e+00,  9.000e+00,  0.000e+00,  0.000e+00,\n",
       "        1.000e+00,  1.000e+00,  2.000e+00,  1.200e+01,  1.100e+01,\n",
       "        1.250e+03,  3.000e+00,  6.000e+00,  5.000e-01,  0.000e+00,\n",
       "        0.000e+00,  0.000e+00,  1.000e+00,  4.000e+00,  2.500e-01,\n",
       "        2.000e+00,  5.000e+00,  7.000e+00,  0.000e+00,  2.000e+00,\n",
       "        0.000e+00,  1.000e+00,  1.000e+00,  7.000e+00, -1.600e+01,\n",
       "        1.350e+03,  4.000e+00,  6.000e+00,  6.670e-01,  0.000e+00,\n",
       "        0.000e+00,  0.000e+00,  0.000e+00,  0.000e+00,  0.000e+00,\n",
       "        0.000e+00,  5.000e+00,  5.000e+00,  1.000e+00,  0.000e+00,\n",
       "        2.000e+00,  1.000e+00,  5.000e+00,  8.000e+00,  6.000e+00,\n",
       "        1.534e+03,  4.000e+00,  1.600e+01,  2.500e-01,  2.000e+00,\n",
       "        4.000e+00,  5.000e-01,  3.000e+00,  3.000e+00,  1.000e+00,\n",
       "        1.000e+00,  1.000e+00,  2.000e+00,  4.000e+00,  3.000e+00,\n",
       "        1.000e+00,  1.000e+00,  0.000e+00,  1.300e+01, -1.000e+01,\n",
       "        1.906e+03,  5.000e+00,  1.400e+01,  3.570e-01,  1.000e+00,\n",
       "        7.000e+00,  1.430e-01,  7.000e+00,  9.000e+00,  7.780e-01,\n",
       "        1.000e+00,  2.000e+00,  3.000e+00,  2.000e+00,  1.000e+00,\n",
       "        0.000e+00,  2.000e+00,  3.000e+00,  1.800e+01, -2.700e+01,\n",
       "        1.721e+03,  1.000e+01,  1.700e+01,  5.880e-01,  5.000e+00,\n",
       "        8.000e+00,  6.250e-01,  1.000e+00,  1.000e+00,  1.000e+00,\n",
       "        0.000e+00,  4.000e+00,  4.000e+00,  5.000e+00,  1.000e+00,\n",
       "        0.000e+00,  2.000e+00,  1.000e+00,  2.600e+01,  1.800e+01,\n",
       "        1.511e+03,  5.000e+00,  1.100e+01,  4.550e-01,  0.000e+00,\n",
       "        0.000e+00,  0.000e+00,  0.000e+00,  0.000e+00,  0.000e+00,\n",
       "        2.000e+00,  2.000e+00,  4.000e+00,  6.000e+00,  0.000e+00,\n",
       "        0.000e+00,  0.000e+00,  1.000e+00,  1.000e+01, -1.400e+01,\n",
       "        1.911e+03,  2.000e+00,  1.000e+01,  2.000e-01,  0.000e+00,\n",
       "        2.000e+00,  0.000e+00,  5.000e+00,  6.000e+00,  8.330e-01,\n",
       "        0.000e+00,  3.000e+00,  3.000e+00,  9.000e+00,  1.000e+00,\n",
       "        0.000e+00,  4.000e+00,  1.000e+00,  9.000e+00, -1.800e+01,\n",
       "        1.672e+03,  5.000e+00,  1.300e+01,  3.850e-01,  1.000e+00,\n",
       "        5.000e+00,  2.000e-01,  2.000e+00,  2.000e+00,  1.000e+00,\n",
       "        2.000e+00,  4.000e+00,  6.000e+00,  8.000e+00,  1.000e+00,\n",
       "        0.000e+00,  1.000e+00,  0.000e+00,  1.300e+01,  1.000e+01,\n",
       "        1.963e+03,  4.000e+00,  8.000e+00,  5.000e-01,  3.000e+00,\n",
       "        7.000e+00,  4.290e-01,  1.000e+00,  1.000e+00,  1.000e+00,\n",
       "        1.000e+00,  4.000e+00,  5.000e+00,  0.000e+00,  1.000e+00,\n",
       "        0.000e+00,  1.000e+00,  6.000e+00,  1.200e+01,  1.000e+00,\n",
       "        1.345e+03,  3.000e+00,  8.000e+00,  3.750e-01,  2.000e+00,\n",
       "        4.000e+00,  5.000e-01,  0.000e+00,  0.000e+00,  0.000e+00,\n",
       "        1.000e+00,  3.000e+00,  4.000e+00,  2.000e+00,  0.000e+00,\n",
       "        2.000e+00,  1.000e+00,  2.000e+00,  8.000e+00,  9.000e+00,\n",
       "        1.678e+03,  3.000e+00,  6.000e+00,  5.000e-01,  1.000e+00,\n",
       "        3.000e+00,  3.330e-01,  6.000e+00,  6.000e+00,  1.000e+00,\n",
       "        3.000e+00,  2.000e+00,  5.000e+00,  0.000e+00,  0.000e+00,\n",
       "        0.000e+00,  0.000e+00,  1.000e+00,  1.300e+01, -9.000e+00,\n",
       "        1.988e+03,  4.000e+00,  1.100e+01,  3.640e-01,  0.000e+00,\n",
       "        4.000e+00,  0.000e+00,  5.000e+00,  6.000e+00,  8.330e-01,\n",
       "        1.000e+00,  1.000e+00,  2.000e+00,  2.000e+00,  4.000e+00,\n",
       "        0.000e+00,  1.000e+00,  2.000e+00,  1.300e+01, -1.300e+01,\n",
       "        1.058e+03,  3.000e+00,  8.000e+00,  3.750e-01,  3.000e+00,\n",
       "        6.000e+00,  5.000e-01,  2.000e+00,  2.000e+00,  1.000e+00,\n",
       "        2.000e+00,  2.000e+00,  4.000e+00,  2.000e+00,  0.000e+00,\n",
       "        0.000e+00,  0.000e+00,  1.000e+00,  1.100e+01, -5.000e+00,\n",
       "        8.800e+02,  1.000e+00,  6.000e+00,  1.670e-01,  1.000e+00,\n",
       "        6.000e+00,  1.670e-01,  0.000e+00,  0.000e+00,  0.000e+00,\n",
       "        0.000e+00,  0.000e+00,  0.000e+00,  1.000e+00,  0.000e+00,\n",
       "        0.000e+00,  1.000e+00,  0.000e+00,  3.000e+00, -1.300e+01,\n",
       "        1.569e+03,  3.000e+00,  6.000e+00,  5.000e-01,  0.000e+00,\n",
       "        0.000e+00,  0.000e+00,  0.000e+00,  0.000e+00,  0.000e+00,\n",
       "        3.000e+00,  6.000e+00,  9.000e+00,  1.000e+00,  0.000e+00,\n",
       "        1.000e+00,  1.000e+00,  3.000e+00,  6.000e+00, -6.000e+00,\n",
       "        1.561e+03,  6.000e+00,  9.000e+00,  6.670e-01,  0.000e+00,\n",
       "        1.000e+00,  0.000e+00,  0.000e+00,  0.000e+00,  0.000e+00,\n",
       "        0.000e+00,  8.000e+00,  8.000e+00,  0.000e+00,  0.000e+00,\n",
       "        1.000e+00,  2.000e+00,  5.000e+00,  1.200e+01, -1.000e+00,\n",
       "        2.222e+03,  1.400e+01,  2.400e+01,  5.830e-01,  7.000e+00,\n",
       "        1.000e+01,  7.000e-01,  2.000e+00,  2.000e+00,  1.000e+00,\n",
       "        6.000e+00,  1.200e+01,  1.800e+01,  5.000e+00,  1.000e+00,\n",
       "        0.000e+00,  2.000e+00,  4.000e+00,  3.700e+01,  6.000e+00,\n",
       "        1.271e+03,  3.000e+00,  6.000e+00,  5.000e-01,  1.000e+00,\n",
       "        1.000e+00,  1.000e+00,  5.000e+00,  6.000e+00,  8.330e-01,\n",
       "        3.000e+00,  1.000e+00,  4.000e+00,  4.000e+00,  1.000e+00,\n",
       "        0.000e+00,  0.000e+00,  6.000e+00,  1.200e+01,  1.700e+01,\n",
       "        1.880e+03,  3.000e+00,  4.000e+00,  7.500e-01,  2.000e+00,\n",
       "        3.000e+00,  6.670e-01,  0.000e+00,  0.000e+00,  0.000e+00,\n",
       "        0.000e+00,  3.000e+00,  3.000e+00,  4.000e+00,  0.000e+00,\n",
       "        0.000e+00,  0.000e+00,  3.000e+00,  8.000e+00, -1.300e+01,\n",
       "        1.844e+03,  3.000e+00,  1.100e+01,  2.730e-01,  2.000e+00,\n",
       "        8.000e+00,  2.500e-01,  1.000e+00,  2.000e+00,  5.000e-01,\n",
       "        1.000e+00,  1.000e+00,  2.000e+00,  1.000e+00,  5.000e+00,\n",
       "        0.000e+00,  2.000e+00,  5.000e+00,  9.000e+00,  7.000e+00,\n",
       "        2.493e+03,  1.100e+01,  2.500e+01,  4.400e-01,  3.000e+00,\n",
       "        8.000e+00,  3.750e-01,  3.000e+00,  3.000e+00,  1.000e+00,\n",
       "        0.000e+00,  6.000e+00,  6.000e+00,  4.000e+00,  0.000e+00,\n",
       "        2.000e+00,  4.000e+00,  5.000e+00,  2.800e+01, -3.000e+00,\n",
       "        2.167e+03,  1.100e+01,  1.900e+01,  5.790e-01,  4.000e+00,\n",
       "        7.000e+00,  5.710e-01,  1.000e+00,  1.000e+00,  1.000e+00,\n",
       "        0.000e+00,  2.000e+00,  2.000e+00,  8.000e+00,  0.000e+00,\n",
       "        1.000e+00,  3.000e+00,  2.000e+00,  2.700e+01,  1.000e+00,\n",
       "        2.466e+03,  1.100e+01,  2.400e+01,  4.580e-01,  6.000e+00,\n",
       "        1.000e+01,  6.000e-01,  3.000e+00,  4.000e+00,  7.500e-01,\n",
       "        2.000e+00,  6.000e+00,  8.000e+00,  9.000e+00,  0.000e+00,\n",
       "        0.000e+00,  3.000e+00,  1.000e+00,  3.100e+01, -3.000e+00])"
      ]
     },
     "execution_count": 15,
     "metadata": {},
     "output_type": "execute_result"
    }
   ],
   "source": [
    "getTensorFromID(22200477, details_df)"
   ]
  },
  {
   "cell_type": "code",
   "execution_count": 16,
   "metadata": {},
   "outputs": [
    {
     "name": "stderr",
     "output_type": "stream",
     "text": [
      "Preparing training data: 100%|██████████| 7984/7984 [00:56<00:00, 142.32it/s]\n"
     ]
    }
   ],
   "source": [
    "# Preparing training data\n",
    "input_tensors = []\n",
    "output_labels = []\n",
    "output_scores = []\n",
    "\n",
    "for index, row in tqdm(games_df.iterrows(), total=games_df.shape[0], desc=\"Preparing training data\"):\n",
    "    game_id = row['GAME_ID']\n",
    "    home_team_wins = 1 if row['HOME_TEAM_WINS'] else 0\n",
    "    home_team_score = row['PTS_home']\n",
    "    away_team_score = row['PTS_away']\n",
    "    \n",
    "    tensor = getTensorFromID(game_id, details_df)\n",
    "    input_tensors.append(tensor)\n",
    "    output_labels.append(home_team_wins)\n",
    "    output_scores.append([home_team_score, away_team_score])\n",
    "\n",
    "# Determine the maximum tensor length\n",
    "max_length = max(len(tensor) for tensor in input_tensors)\n",
    "\n",
    "# Pad tensors to ensure consistent shape\n",
    "def pad_tensor(tensor, max_length):\n",
    "    padding = max(0, max_length - len(tensor))\n",
    "    return np.pad(tensor, (0, padding), 'constant')\n",
    "\n",
    "input_tensors = [pad_tensor(tensor, max_length) for tensor in input_tensors]\n",
    "\n",
    "# Convert to numpy arrays\n",
    "X = np.array(input_tensors)\n",
    "y = np.array(output_labels)\n",
    "y_scores = np.array(output_scores)\n",
    "\n",
    "# Train-test split\n",
    "X_train, X_test, y_train, y_test = train_test_split(X, y, test_size=0.2, random_state=42)\n",
    "X_train_scores, X_test_scores, y_train_scores, y_test_scores = train_test_split(X, y_scores, test_size=0.2, random_state=42)"
   ]
  },
  {
   "cell_type": "markdown",
   "metadata": {},
   "source": [
    "# SVR Contributions Are Here:\n",
    "The code work leading to this section is the same as the set used for random forest, and we implement the rest below using SVR. We define a grid of parameters to step through and use GridSearchCV to search through all of the the combincations. Then from there we want to train and test the two models, and store the best results for both. "
   ]
  },
  {
   "cell_type": "code",
   "execution_count": 17,
   "metadata": {},
   "outputs": [
    {
     "name": "stdout",
     "output_type": "stream",
     "text": [
      "Fitting 5 folds for each of 12 candidates, totalling 60 fits\n",
      "[CV] END .....................C=0.1, gamma=scale, kernel=rbf; total time=   6.9s\n",
      "[CV] END .....................C=0.1, gamma=scale, kernel=rbf; total time=   6.8s\n",
      "[CV] END .....................C=0.1, gamma=scale, kernel=rbf; total time=   6.9s\n",
      "[CV] END .....................C=0.1, gamma=scale, kernel=rbf; total time=   6.9s\n",
      "[CV] END .....................C=0.1, gamma=scale, kernel=rbf; total time=   6.8s\n"
     ]
    },
    {
     "name": "stderr",
     "output_type": "stream",
     "text": [
      "/Users/rahulmohan/Library/Python/3.9/lib/python/site-packages/sklearn/svm/_base.py:297: ConvergenceWarning: Solver terminated early (max_iter=10000).  Consider pre-processing your data with StandardScaler or MinMaxScaler.\n",
      "  warnings.warn(\n"
     ]
    },
    {
     "name": "stdout",
     "output_type": "stream",
     "text": [
      "[CV] END ..................C=0.1, gamma=scale, kernel=linear; total time=   1.9s\n"
     ]
    },
    {
     "name": "stderr",
     "output_type": "stream",
     "text": [
      "/Users/rahulmohan/Library/Python/3.9/lib/python/site-packages/sklearn/svm/_base.py:297: ConvergenceWarning: Solver terminated early (max_iter=10000).  Consider pre-processing your data with StandardScaler or MinMaxScaler.\n",
      "  warnings.warn(\n"
     ]
    },
    {
     "name": "stdout",
     "output_type": "stream",
     "text": [
      "[CV] END ..................C=0.1, gamma=scale, kernel=linear; total time=   1.9s\n"
     ]
    },
    {
     "name": "stderr",
     "output_type": "stream",
     "text": [
      "/Users/rahulmohan/Library/Python/3.9/lib/python/site-packages/sklearn/svm/_base.py:297: ConvergenceWarning: Solver terminated early (max_iter=10000).  Consider pre-processing your data with StandardScaler or MinMaxScaler.\n",
      "  warnings.warn(\n"
     ]
    },
    {
     "name": "stdout",
     "output_type": "stream",
     "text": [
      "[CV] END ..................C=0.1, gamma=scale, kernel=linear; total time=   1.9s\n"
     ]
    },
    {
     "name": "stderr",
     "output_type": "stream",
     "text": [
      "/Users/rahulmohan/Library/Python/3.9/lib/python/site-packages/sklearn/svm/_base.py:297: ConvergenceWarning: Solver terminated early (max_iter=10000).  Consider pre-processing your data with StandardScaler or MinMaxScaler.\n",
      "  warnings.warn(\n"
     ]
    },
    {
     "name": "stdout",
     "output_type": "stream",
     "text": [
      "[CV] END ..................C=0.1, gamma=scale, kernel=linear; total time=   1.9s\n"
     ]
    },
    {
     "name": "stderr",
     "output_type": "stream",
     "text": [
      "/Users/rahulmohan/Library/Python/3.9/lib/python/site-packages/sklearn/svm/_base.py:297: ConvergenceWarning: Solver terminated early (max_iter=10000).  Consider pre-processing your data with StandardScaler or MinMaxScaler.\n",
      "  warnings.warn(\n"
     ]
    },
    {
     "name": "stdout",
     "output_type": "stream",
     "text": [
      "[CV] END ..................C=0.1, gamma=scale, kernel=linear; total time=   1.7s\n",
      "[CV] END ......................C=0.1, gamma=auto, kernel=rbf; total time=   6.7s\n",
      "[CV] END ......................C=0.1, gamma=auto, kernel=rbf; total time=   6.7s\n",
      "[CV] END ......................C=0.1, gamma=auto, kernel=rbf; total time=   6.7s\n",
      "[CV] END ......................C=0.1, gamma=auto, kernel=rbf; total time=   6.7s\n",
      "[CV] END ......................C=0.1, gamma=auto, kernel=rbf; total time=   6.7s\n"
     ]
    },
    {
     "name": "stderr",
     "output_type": "stream",
     "text": [
      "/Users/rahulmohan/Library/Python/3.9/lib/python/site-packages/sklearn/svm/_base.py:297: ConvergenceWarning: Solver terminated early (max_iter=10000).  Consider pre-processing your data with StandardScaler or MinMaxScaler.\n",
      "  warnings.warn(\n"
     ]
    },
    {
     "name": "stdout",
     "output_type": "stream",
     "text": [
      "[CV] END ...................C=0.1, gamma=auto, kernel=linear; total time=   1.9s\n"
     ]
    },
    {
     "name": "stderr",
     "output_type": "stream",
     "text": [
      "/Users/rahulmohan/Library/Python/3.9/lib/python/site-packages/sklearn/svm/_base.py:297: ConvergenceWarning: Solver terminated early (max_iter=10000).  Consider pre-processing your data with StandardScaler or MinMaxScaler.\n",
      "  warnings.warn(\n"
     ]
    },
    {
     "name": "stdout",
     "output_type": "stream",
     "text": [
      "[CV] END ...................C=0.1, gamma=auto, kernel=linear; total time=   1.8s\n"
     ]
    },
    {
     "name": "stderr",
     "output_type": "stream",
     "text": [
      "/Users/rahulmohan/Library/Python/3.9/lib/python/site-packages/sklearn/svm/_base.py:297: ConvergenceWarning: Solver terminated early (max_iter=10000).  Consider pre-processing your data with StandardScaler or MinMaxScaler.\n",
      "  warnings.warn(\n"
     ]
    },
    {
     "name": "stdout",
     "output_type": "stream",
     "text": [
      "[CV] END ...................C=0.1, gamma=auto, kernel=linear; total time=   1.9s\n"
     ]
    },
    {
     "name": "stderr",
     "output_type": "stream",
     "text": [
      "/Users/rahulmohan/Library/Python/3.9/lib/python/site-packages/sklearn/svm/_base.py:297: ConvergenceWarning: Solver terminated early (max_iter=10000).  Consider pre-processing your data with StandardScaler or MinMaxScaler.\n",
      "  warnings.warn(\n"
     ]
    },
    {
     "name": "stdout",
     "output_type": "stream",
     "text": [
      "[CV] END ...................C=0.1, gamma=auto, kernel=linear; total time=   1.9s\n"
     ]
    },
    {
     "name": "stderr",
     "output_type": "stream",
     "text": [
      "/Users/rahulmohan/Library/Python/3.9/lib/python/site-packages/sklearn/svm/_base.py:297: ConvergenceWarning: Solver terminated early (max_iter=10000).  Consider pre-processing your data with StandardScaler or MinMaxScaler.\n",
      "  warnings.warn(\n"
     ]
    },
    {
     "name": "stdout",
     "output_type": "stream",
     "text": [
      "[CV] END ...................C=0.1, gamma=auto, kernel=linear; total time=   1.7s\n",
      "[CV] END .......................C=1, gamma=scale, kernel=rbf; total time=   6.8s\n",
      "[CV] END .......................C=1, gamma=scale, kernel=rbf; total time=   6.9s\n",
      "[CV] END .......................C=1, gamma=scale, kernel=rbf; total time=   6.7s\n",
      "[CV] END .......................C=1, gamma=scale, kernel=rbf; total time=   6.7s\n",
      "[CV] END .......................C=1, gamma=scale, kernel=rbf; total time=   6.6s\n"
     ]
    },
    {
     "name": "stderr",
     "output_type": "stream",
     "text": [
      "/Users/rahulmohan/Library/Python/3.9/lib/python/site-packages/sklearn/svm/_base.py:297: ConvergenceWarning: Solver terminated early (max_iter=10000).  Consider pre-processing your data with StandardScaler or MinMaxScaler.\n",
      "  warnings.warn(\n"
     ]
    },
    {
     "name": "stdout",
     "output_type": "stream",
     "text": [
      "[CV] END ....................C=1, gamma=scale, kernel=linear; total time=   1.9s\n"
     ]
    },
    {
     "name": "stderr",
     "output_type": "stream",
     "text": [
      "/Users/rahulmohan/Library/Python/3.9/lib/python/site-packages/sklearn/svm/_base.py:297: ConvergenceWarning: Solver terminated early (max_iter=10000).  Consider pre-processing your data with StandardScaler or MinMaxScaler.\n",
      "  warnings.warn(\n"
     ]
    },
    {
     "name": "stdout",
     "output_type": "stream",
     "text": [
      "[CV] END ....................C=1, gamma=scale, kernel=linear; total time=   1.9s\n"
     ]
    },
    {
     "name": "stderr",
     "output_type": "stream",
     "text": [
      "/Users/rahulmohan/Library/Python/3.9/lib/python/site-packages/sklearn/svm/_base.py:297: ConvergenceWarning: Solver terminated early (max_iter=10000).  Consider pre-processing your data with StandardScaler or MinMaxScaler.\n",
      "  warnings.warn(\n"
     ]
    },
    {
     "name": "stdout",
     "output_type": "stream",
     "text": [
      "[CV] END ....................C=1, gamma=scale, kernel=linear; total time=   1.8s\n"
     ]
    },
    {
     "name": "stderr",
     "output_type": "stream",
     "text": [
      "/Users/rahulmohan/Library/Python/3.9/lib/python/site-packages/sklearn/svm/_base.py:297: ConvergenceWarning: Solver terminated early (max_iter=10000).  Consider pre-processing your data with StandardScaler or MinMaxScaler.\n",
      "  warnings.warn(\n"
     ]
    },
    {
     "name": "stdout",
     "output_type": "stream",
     "text": [
      "[CV] END ....................C=1, gamma=scale, kernel=linear; total time=   1.9s\n"
     ]
    },
    {
     "name": "stderr",
     "output_type": "stream",
     "text": [
      "/Users/rahulmohan/Library/Python/3.9/lib/python/site-packages/sklearn/svm/_base.py:297: ConvergenceWarning: Solver terminated early (max_iter=10000).  Consider pre-processing your data with StandardScaler or MinMaxScaler.\n",
      "  warnings.warn(\n"
     ]
    },
    {
     "name": "stdout",
     "output_type": "stream",
     "text": [
      "[CV] END ....................C=1, gamma=scale, kernel=linear; total time=   1.7s\n",
      "[CV] END ........................C=1, gamma=auto, kernel=rbf; total time=   6.4s\n",
      "[CV] END ........................C=1, gamma=auto, kernel=rbf; total time=   6.5s\n",
      "[CV] END ........................C=1, gamma=auto, kernel=rbf; total time=   6.4s\n",
      "[CV] END ........................C=1, gamma=auto, kernel=rbf; total time=   6.5s\n",
      "[CV] END ........................C=1, gamma=auto, kernel=rbf; total time=   6.3s\n"
     ]
    },
    {
     "name": "stderr",
     "output_type": "stream",
     "text": [
      "/Users/rahulmohan/Library/Python/3.9/lib/python/site-packages/sklearn/svm/_base.py:297: ConvergenceWarning: Solver terminated early (max_iter=10000).  Consider pre-processing your data with StandardScaler or MinMaxScaler.\n",
      "  warnings.warn(\n"
     ]
    },
    {
     "name": "stdout",
     "output_type": "stream",
     "text": [
      "[CV] END .....................C=1, gamma=auto, kernel=linear; total time=   1.8s\n"
     ]
    },
    {
     "name": "stderr",
     "output_type": "stream",
     "text": [
      "/Users/rahulmohan/Library/Python/3.9/lib/python/site-packages/sklearn/svm/_base.py:297: ConvergenceWarning: Solver terminated early (max_iter=10000).  Consider pre-processing your data with StandardScaler or MinMaxScaler.\n",
      "  warnings.warn(\n"
     ]
    },
    {
     "name": "stdout",
     "output_type": "stream",
     "text": [
      "[CV] END .....................C=1, gamma=auto, kernel=linear; total time=   1.8s\n"
     ]
    },
    {
     "name": "stderr",
     "output_type": "stream",
     "text": [
      "/Users/rahulmohan/Library/Python/3.9/lib/python/site-packages/sklearn/svm/_base.py:297: ConvergenceWarning: Solver terminated early (max_iter=10000).  Consider pre-processing your data with StandardScaler or MinMaxScaler.\n",
      "  warnings.warn(\n"
     ]
    },
    {
     "name": "stdout",
     "output_type": "stream",
     "text": [
      "[CV] END .....................C=1, gamma=auto, kernel=linear; total time=   1.8s\n"
     ]
    },
    {
     "name": "stderr",
     "output_type": "stream",
     "text": [
      "/Users/rahulmohan/Library/Python/3.9/lib/python/site-packages/sklearn/svm/_base.py:297: ConvergenceWarning: Solver terminated early (max_iter=10000).  Consider pre-processing your data with StandardScaler or MinMaxScaler.\n",
      "  warnings.warn(\n"
     ]
    },
    {
     "name": "stdout",
     "output_type": "stream",
     "text": [
      "[CV] END .....................C=1, gamma=auto, kernel=linear; total time=   1.8s\n"
     ]
    },
    {
     "name": "stderr",
     "output_type": "stream",
     "text": [
      "/Users/rahulmohan/Library/Python/3.9/lib/python/site-packages/sklearn/svm/_base.py:297: ConvergenceWarning: Solver terminated early (max_iter=10000).  Consider pre-processing your data with StandardScaler or MinMaxScaler.\n",
      "  warnings.warn(\n"
     ]
    },
    {
     "name": "stdout",
     "output_type": "stream",
     "text": [
      "[CV] END .....................C=1, gamma=auto, kernel=linear; total time=   1.7s\n",
      "[CV] END ......................C=10, gamma=scale, kernel=rbf; total time=   6.5s\n",
      "[CV] END ......................C=10, gamma=scale, kernel=rbf; total time=   6.5s\n",
      "[CV] END ......................C=10, gamma=scale, kernel=rbf; total time=   6.5s\n",
      "[CV] END ......................C=10, gamma=scale, kernel=rbf; total time=   6.6s\n",
      "[CV] END ......................C=10, gamma=scale, kernel=rbf; total time=   6.5s\n"
     ]
    },
    {
     "name": "stderr",
     "output_type": "stream",
     "text": [
      "/Users/rahulmohan/Library/Python/3.9/lib/python/site-packages/sklearn/svm/_base.py:297: ConvergenceWarning: Solver terminated early (max_iter=10000).  Consider pre-processing your data with StandardScaler or MinMaxScaler.\n",
      "  warnings.warn(\n"
     ]
    },
    {
     "name": "stdout",
     "output_type": "stream",
     "text": [
      "[CV] END ...................C=10, gamma=scale, kernel=linear; total time=   1.8s\n"
     ]
    },
    {
     "name": "stderr",
     "output_type": "stream",
     "text": [
      "/Users/rahulmohan/Library/Python/3.9/lib/python/site-packages/sklearn/svm/_base.py:297: ConvergenceWarning: Solver terminated early (max_iter=10000).  Consider pre-processing your data with StandardScaler or MinMaxScaler.\n",
      "  warnings.warn(\n"
     ]
    },
    {
     "name": "stdout",
     "output_type": "stream",
     "text": [
      "[CV] END ...................C=10, gamma=scale, kernel=linear; total time=   1.8s\n"
     ]
    },
    {
     "name": "stderr",
     "output_type": "stream",
     "text": [
      "/Users/rahulmohan/Library/Python/3.9/lib/python/site-packages/sklearn/svm/_base.py:297: ConvergenceWarning: Solver terminated early (max_iter=10000).  Consider pre-processing your data with StandardScaler or MinMaxScaler.\n",
      "  warnings.warn(\n"
     ]
    },
    {
     "name": "stdout",
     "output_type": "stream",
     "text": [
      "[CV] END ...................C=10, gamma=scale, kernel=linear; total time=   1.8s\n"
     ]
    },
    {
     "name": "stderr",
     "output_type": "stream",
     "text": [
      "/Users/rahulmohan/Library/Python/3.9/lib/python/site-packages/sklearn/svm/_base.py:297: ConvergenceWarning: Solver terminated early (max_iter=10000).  Consider pre-processing your data with StandardScaler or MinMaxScaler.\n",
      "  warnings.warn(\n"
     ]
    },
    {
     "name": "stdout",
     "output_type": "stream",
     "text": [
      "[CV] END ...................C=10, gamma=scale, kernel=linear; total time=   1.8s\n"
     ]
    },
    {
     "name": "stderr",
     "output_type": "stream",
     "text": [
      "/Users/rahulmohan/Library/Python/3.9/lib/python/site-packages/sklearn/svm/_base.py:297: ConvergenceWarning: Solver terminated early (max_iter=10000).  Consider pre-processing your data with StandardScaler or MinMaxScaler.\n",
      "  warnings.warn(\n"
     ]
    },
    {
     "name": "stdout",
     "output_type": "stream",
     "text": [
      "[CV] END ...................C=10, gamma=scale, kernel=linear; total time=   1.7s\n",
      "[CV] END .......................C=10, gamma=auto, kernel=rbf; total time=   6.4s\n",
      "[CV] END .......................C=10, gamma=auto, kernel=rbf; total time=   6.6s\n",
      "[CV] END .......................C=10, gamma=auto, kernel=rbf; total time=   6.4s\n",
      "[CV] END .......................C=10, gamma=auto, kernel=rbf; total time=   6.4s\n",
      "[CV] END .......................C=10, gamma=auto, kernel=rbf; total time=   6.3s\n"
     ]
    },
    {
     "name": "stderr",
     "output_type": "stream",
     "text": [
      "/Users/rahulmohan/Library/Python/3.9/lib/python/site-packages/sklearn/svm/_base.py:297: ConvergenceWarning: Solver terminated early (max_iter=10000).  Consider pre-processing your data with StandardScaler or MinMaxScaler.\n",
      "  warnings.warn(\n"
     ]
    },
    {
     "name": "stdout",
     "output_type": "stream",
     "text": [
      "[CV] END ....................C=10, gamma=auto, kernel=linear; total time=   1.8s\n"
     ]
    },
    {
     "name": "stderr",
     "output_type": "stream",
     "text": [
      "/Users/rahulmohan/Library/Python/3.9/lib/python/site-packages/sklearn/svm/_base.py:297: ConvergenceWarning: Solver terminated early (max_iter=10000).  Consider pre-processing your data with StandardScaler or MinMaxScaler.\n",
      "  warnings.warn(\n"
     ]
    },
    {
     "name": "stdout",
     "output_type": "stream",
     "text": [
      "[CV] END ....................C=10, gamma=auto, kernel=linear; total time=   1.8s\n"
     ]
    },
    {
     "name": "stderr",
     "output_type": "stream",
     "text": [
      "/Users/rahulmohan/Library/Python/3.9/lib/python/site-packages/sklearn/svm/_base.py:297: ConvergenceWarning: Solver terminated early (max_iter=10000).  Consider pre-processing your data with StandardScaler or MinMaxScaler.\n",
      "  warnings.warn(\n"
     ]
    },
    {
     "name": "stdout",
     "output_type": "stream",
     "text": [
      "[CV] END ....................C=10, gamma=auto, kernel=linear; total time=   1.8s\n"
     ]
    },
    {
     "name": "stderr",
     "output_type": "stream",
     "text": [
      "/Users/rahulmohan/Library/Python/3.9/lib/python/site-packages/sklearn/svm/_base.py:297: ConvergenceWarning: Solver terminated early (max_iter=10000).  Consider pre-processing your data with StandardScaler or MinMaxScaler.\n",
      "  warnings.warn(\n"
     ]
    },
    {
     "name": "stdout",
     "output_type": "stream",
     "text": [
      "[CV] END ....................C=10, gamma=auto, kernel=linear; total time=   1.8s\n"
     ]
    },
    {
     "name": "stderr",
     "output_type": "stream",
     "text": [
      "/Users/rahulmohan/Library/Python/3.9/lib/python/site-packages/sklearn/svm/_base.py:297: ConvergenceWarning: Solver terminated early (max_iter=10000).  Consider pre-processing your data with StandardScaler or MinMaxScaler.\n",
      "  warnings.warn(\n"
     ]
    },
    {
     "name": "stdout",
     "output_type": "stream",
     "text": [
      "[CV] END ....................C=10, gamma=auto, kernel=linear; total time=   1.8s\n",
      "Fitting 5 folds for each of 12 candidates, totalling 60 fits\n",
      "[CV] END .....................C=0.1, gamma=scale, kernel=rbf; total time=   6.4s\n",
      "[CV] END .....................C=0.1, gamma=scale, kernel=rbf; total time=   6.5s\n",
      "[CV] END .....................C=0.1, gamma=scale, kernel=rbf; total time=   6.5s\n",
      "[CV] END .....................C=0.1, gamma=scale, kernel=rbf; total time=   6.5s\n",
      "[CV] END .....................C=0.1, gamma=scale, kernel=rbf; total time=   6.5s\n"
     ]
    },
    {
     "name": "stderr",
     "output_type": "stream",
     "text": [
      "/Users/rahulmohan/Library/Python/3.9/lib/python/site-packages/sklearn/svm/_base.py:297: ConvergenceWarning: Solver terminated early (max_iter=10000).  Consider pre-processing your data with StandardScaler or MinMaxScaler.\n",
      "  warnings.warn(\n"
     ]
    },
    {
     "name": "stdout",
     "output_type": "stream",
     "text": [
      "[CV] END ..................C=0.1, gamma=scale, kernel=linear; total time=   1.9s\n"
     ]
    },
    {
     "name": "stderr",
     "output_type": "stream",
     "text": [
      "/Users/rahulmohan/Library/Python/3.9/lib/python/site-packages/sklearn/svm/_base.py:297: ConvergenceWarning: Solver terminated early (max_iter=10000).  Consider pre-processing your data with StandardScaler or MinMaxScaler.\n",
      "  warnings.warn(\n"
     ]
    },
    {
     "name": "stdout",
     "output_type": "stream",
     "text": [
      "[CV] END ..................C=0.1, gamma=scale, kernel=linear; total time=   1.8s\n"
     ]
    },
    {
     "name": "stderr",
     "output_type": "stream",
     "text": [
      "/Users/rahulmohan/Library/Python/3.9/lib/python/site-packages/sklearn/svm/_base.py:297: ConvergenceWarning: Solver terminated early (max_iter=10000).  Consider pre-processing your data with StandardScaler or MinMaxScaler.\n",
      "  warnings.warn(\n"
     ]
    },
    {
     "name": "stdout",
     "output_type": "stream",
     "text": [
      "[CV] END ..................C=0.1, gamma=scale, kernel=linear; total time=   1.8s\n"
     ]
    },
    {
     "name": "stderr",
     "output_type": "stream",
     "text": [
      "/Users/rahulmohan/Library/Python/3.9/lib/python/site-packages/sklearn/svm/_base.py:297: ConvergenceWarning: Solver terminated early (max_iter=10000).  Consider pre-processing your data with StandardScaler or MinMaxScaler.\n",
      "  warnings.warn(\n"
     ]
    },
    {
     "name": "stdout",
     "output_type": "stream",
     "text": [
      "[CV] END ..................C=0.1, gamma=scale, kernel=linear; total time=   1.8s\n"
     ]
    },
    {
     "name": "stderr",
     "output_type": "stream",
     "text": [
      "/Users/rahulmohan/Library/Python/3.9/lib/python/site-packages/sklearn/svm/_base.py:297: ConvergenceWarning: Solver terminated early (max_iter=10000).  Consider pre-processing your data with StandardScaler or MinMaxScaler.\n",
      "  warnings.warn(\n"
     ]
    },
    {
     "name": "stdout",
     "output_type": "stream",
     "text": [
      "[CV] END ..................C=0.1, gamma=scale, kernel=linear; total time=   1.8s\n",
      "[CV] END ......................C=0.1, gamma=auto, kernel=rbf; total time=   6.5s\n",
      "[CV] END ......................C=0.1, gamma=auto, kernel=rbf; total time=   6.5s\n",
      "[CV] END ......................C=0.1, gamma=auto, kernel=rbf; total time=   6.5s\n",
      "[CV] END ......................C=0.1, gamma=auto, kernel=rbf; total time=   6.5s\n",
      "[CV] END ......................C=0.1, gamma=auto, kernel=rbf; total time=   6.4s\n"
     ]
    },
    {
     "name": "stderr",
     "output_type": "stream",
     "text": [
      "/Users/rahulmohan/Library/Python/3.9/lib/python/site-packages/sklearn/svm/_base.py:297: ConvergenceWarning: Solver terminated early (max_iter=10000).  Consider pre-processing your data with StandardScaler or MinMaxScaler.\n",
      "  warnings.warn(\n"
     ]
    },
    {
     "name": "stdout",
     "output_type": "stream",
     "text": [
      "[CV] END ...................C=0.1, gamma=auto, kernel=linear; total time=   1.9s\n"
     ]
    },
    {
     "name": "stderr",
     "output_type": "stream",
     "text": [
      "/Users/rahulmohan/Library/Python/3.9/lib/python/site-packages/sklearn/svm/_base.py:297: ConvergenceWarning: Solver terminated early (max_iter=10000).  Consider pre-processing your data with StandardScaler or MinMaxScaler.\n",
      "  warnings.warn(\n"
     ]
    },
    {
     "name": "stdout",
     "output_type": "stream",
     "text": [
      "[CV] END ...................C=0.1, gamma=auto, kernel=linear; total time=   1.8s\n"
     ]
    },
    {
     "name": "stderr",
     "output_type": "stream",
     "text": [
      "/Users/rahulmohan/Library/Python/3.9/lib/python/site-packages/sklearn/svm/_base.py:297: ConvergenceWarning: Solver terminated early (max_iter=10000).  Consider pre-processing your data with StandardScaler or MinMaxScaler.\n",
      "  warnings.warn(\n"
     ]
    },
    {
     "name": "stdout",
     "output_type": "stream",
     "text": [
      "[CV] END ...................C=0.1, gamma=auto, kernel=linear; total time=   1.8s\n"
     ]
    },
    {
     "name": "stderr",
     "output_type": "stream",
     "text": [
      "/Users/rahulmohan/Library/Python/3.9/lib/python/site-packages/sklearn/svm/_base.py:297: ConvergenceWarning: Solver terminated early (max_iter=10000).  Consider pre-processing your data with StandardScaler or MinMaxScaler.\n",
      "  warnings.warn(\n"
     ]
    },
    {
     "name": "stdout",
     "output_type": "stream",
     "text": [
      "[CV] END ...................C=0.1, gamma=auto, kernel=linear; total time=   1.9s\n"
     ]
    },
    {
     "name": "stderr",
     "output_type": "stream",
     "text": [
      "/Users/rahulmohan/Library/Python/3.9/lib/python/site-packages/sklearn/svm/_base.py:297: ConvergenceWarning: Solver terminated early (max_iter=10000).  Consider pre-processing your data with StandardScaler or MinMaxScaler.\n",
      "  warnings.warn(\n"
     ]
    },
    {
     "name": "stdout",
     "output_type": "stream",
     "text": [
      "[CV] END ...................C=0.1, gamma=auto, kernel=linear; total time=   1.8s\n",
      "[CV] END .......................C=1, gamma=scale, kernel=rbf; total time=   6.6s\n",
      "[CV] END .......................C=1, gamma=scale, kernel=rbf; total time=   6.5s\n",
      "[CV] END .......................C=1, gamma=scale, kernel=rbf; total time=   6.5s\n",
      "[CV] END .......................C=1, gamma=scale, kernel=rbf; total time=   6.5s\n",
      "[CV] END .......................C=1, gamma=scale, kernel=rbf; total time=   6.5s\n"
     ]
    },
    {
     "name": "stderr",
     "output_type": "stream",
     "text": [
      "/Users/rahulmohan/Library/Python/3.9/lib/python/site-packages/sklearn/svm/_base.py:297: ConvergenceWarning: Solver terminated early (max_iter=10000).  Consider pre-processing your data with StandardScaler or MinMaxScaler.\n",
      "  warnings.warn(\n"
     ]
    },
    {
     "name": "stdout",
     "output_type": "stream",
     "text": [
      "[CV] END ....................C=1, gamma=scale, kernel=linear; total time=   1.9s\n"
     ]
    },
    {
     "name": "stderr",
     "output_type": "stream",
     "text": [
      "/Users/rahulmohan/Library/Python/3.9/lib/python/site-packages/sklearn/svm/_base.py:297: ConvergenceWarning: Solver terminated early (max_iter=10000).  Consider pre-processing your data with StandardScaler or MinMaxScaler.\n",
      "  warnings.warn(\n"
     ]
    },
    {
     "name": "stdout",
     "output_type": "stream",
     "text": [
      "[CV] END ....................C=1, gamma=scale, kernel=linear; total time=   1.8s\n"
     ]
    },
    {
     "name": "stderr",
     "output_type": "stream",
     "text": [
      "/Users/rahulmohan/Library/Python/3.9/lib/python/site-packages/sklearn/svm/_base.py:297: ConvergenceWarning: Solver terminated early (max_iter=10000).  Consider pre-processing your data with StandardScaler or MinMaxScaler.\n",
      "  warnings.warn(\n"
     ]
    },
    {
     "name": "stdout",
     "output_type": "stream",
     "text": [
      "[CV] END ....................C=1, gamma=scale, kernel=linear; total time=   1.8s\n"
     ]
    },
    {
     "name": "stderr",
     "output_type": "stream",
     "text": [
      "/Users/rahulmohan/Library/Python/3.9/lib/python/site-packages/sklearn/svm/_base.py:297: ConvergenceWarning: Solver terminated early (max_iter=10000).  Consider pre-processing your data with StandardScaler or MinMaxScaler.\n",
      "  warnings.warn(\n"
     ]
    },
    {
     "name": "stdout",
     "output_type": "stream",
     "text": [
      "[CV] END ....................C=1, gamma=scale, kernel=linear; total time=   1.8s\n"
     ]
    },
    {
     "name": "stderr",
     "output_type": "stream",
     "text": [
      "/Users/rahulmohan/Library/Python/3.9/lib/python/site-packages/sklearn/svm/_base.py:297: ConvergenceWarning: Solver terminated early (max_iter=10000).  Consider pre-processing your data with StandardScaler or MinMaxScaler.\n",
      "  warnings.warn(\n"
     ]
    },
    {
     "name": "stdout",
     "output_type": "stream",
     "text": [
      "[CV] END ....................C=1, gamma=scale, kernel=linear; total time=   1.8s\n",
      "[CV] END ........................C=1, gamma=auto, kernel=rbf; total time=   6.5s\n",
      "[CV] END ........................C=1, gamma=auto, kernel=rbf; total time=   6.5s\n",
      "[CV] END ........................C=1, gamma=auto, kernel=rbf; total time=   6.5s\n",
      "[CV] END ........................C=1, gamma=auto, kernel=rbf; total time=   6.5s\n",
      "[CV] END ........................C=1, gamma=auto, kernel=rbf; total time=   6.5s\n"
     ]
    },
    {
     "name": "stderr",
     "output_type": "stream",
     "text": [
      "/Users/rahulmohan/Library/Python/3.9/lib/python/site-packages/sklearn/svm/_base.py:297: ConvergenceWarning: Solver terminated early (max_iter=10000).  Consider pre-processing your data with StandardScaler or MinMaxScaler.\n",
      "  warnings.warn(\n"
     ]
    },
    {
     "name": "stdout",
     "output_type": "stream",
     "text": [
      "[CV] END .....................C=1, gamma=auto, kernel=linear; total time=   1.9s\n"
     ]
    },
    {
     "name": "stderr",
     "output_type": "stream",
     "text": [
      "/Users/rahulmohan/Library/Python/3.9/lib/python/site-packages/sklearn/svm/_base.py:297: ConvergenceWarning: Solver terminated early (max_iter=10000).  Consider pre-processing your data with StandardScaler or MinMaxScaler.\n",
      "  warnings.warn(\n"
     ]
    },
    {
     "name": "stdout",
     "output_type": "stream",
     "text": [
      "[CV] END .....................C=1, gamma=auto, kernel=linear; total time=   1.8s\n"
     ]
    },
    {
     "name": "stderr",
     "output_type": "stream",
     "text": [
      "/Users/rahulmohan/Library/Python/3.9/lib/python/site-packages/sklearn/svm/_base.py:297: ConvergenceWarning: Solver terminated early (max_iter=10000).  Consider pre-processing your data with StandardScaler or MinMaxScaler.\n",
      "  warnings.warn(\n"
     ]
    },
    {
     "name": "stdout",
     "output_type": "stream",
     "text": [
      "[CV] END .....................C=1, gamma=auto, kernel=linear; total time=   1.8s\n"
     ]
    },
    {
     "name": "stderr",
     "output_type": "stream",
     "text": [
      "/Users/rahulmohan/Library/Python/3.9/lib/python/site-packages/sklearn/svm/_base.py:297: ConvergenceWarning: Solver terminated early (max_iter=10000).  Consider pre-processing your data with StandardScaler or MinMaxScaler.\n",
      "  warnings.warn(\n"
     ]
    },
    {
     "name": "stdout",
     "output_type": "stream",
     "text": [
      "[CV] END .....................C=1, gamma=auto, kernel=linear; total time=   1.8s\n"
     ]
    },
    {
     "name": "stderr",
     "output_type": "stream",
     "text": [
      "/Users/rahulmohan/Library/Python/3.9/lib/python/site-packages/sklearn/svm/_base.py:297: ConvergenceWarning: Solver terminated early (max_iter=10000).  Consider pre-processing your data with StandardScaler or MinMaxScaler.\n",
      "  warnings.warn(\n"
     ]
    },
    {
     "name": "stdout",
     "output_type": "stream",
     "text": [
      "[CV] END .....................C=1, gamma=auto, kernel=linear; total time=   1.8s\n",
      "[CV] END ......................C=10, gamma=scale, kernel=rbf; total time=   6.5s\n",
      "[CV] END ......................C=10, gamma=scale, kernel=rbf; total time=   6.5s\n",
      "[CV] END ......................C=10, gamma=scale, kernel=rbf; total time=   6.5s\n",
      "[CV] END ......................C=10, gamma=scale, kernel=rbf; total time=   6.9s\n",
      "[CV] END ......................C=10, gamma=scale, kernel=rbf; total time=   7.6s\n"
     ]
    },
    {
     "name": "stderr",
     "output_type": "stream",
     "text": [
      "/Users/rahulmohan/Library/Python/3.9/lib/python/site-packages/sklearn/svm/_base.py:297: ConvergenceWarning: Solver terminated early (max_iter=10000).  Consider pre-processing your data with StandardScaler or MinMaxScaler.\n",
      "  warnings.warn(\n"
     ]
    },
    {
     "name": "stdout",
     "output_type": "stream",
     "text": [
      "[CV] END ...................C=10, gamma=scale, kernel=linear; total time=   2.2s\n"
     ]
    },
    {
     "name": "stderr",
     "output_type": "stream",
     "text": [
      "/Users/rahulmohan/Library/Python/3.9/lib/python/site-packages/sklearn/svm/_base.py:297: ConvergenceWarning: Solver terminated early (max_iter=10000).  Consider pre-processing your data with StandardScaler or MinMaxScaler.\n",
      "  warnings.warn(\n"
     ]
    },
    {
     "name": "stdout",
     "output_type": "stream",
     "text": [
      "[CV] END ...................C=10, gamma=scale, kernel=linear; total time=   2.1s\n"
     ]
    },
    {
     "name": "stderr",
     "output_type": "stream",
     "text": [
      "/Users/rahulmohan/Library/Python/3.9/lib/python/site-packages/sklearn/svm/_base.py:297: ConvergenceWarning: Solver terminated early (max_iter=10000).  Consider pre-processing your data with StandardScaler or MinMaxScaler.\n",
      "  warnings.warn(\n"
     ]
    },
    {
     "name": "stdout",
     "output_type": "stream",
     "text": [
      "[CV] END ...................C=10, gamma=scale, kernel=linear; total time=   1.9s\n"
     ]
    },
    {
     "name": "stderr",
     "output_type": "stream",
     "text": [
      "/Users/rahulmohan/Library/Python/3.9/lib/python/site-packages/sklearn/svm/_base.py:297: ConvergenceWarning: Solver terminated early (max_iter=10000).  Consider pre-processing your data with StandardScaler or MinMaxScaler.\n",
      "  warnings.warn(\n"
     ]
    },
    {
     "name": "stdout",
     "output_type": "stream",
     "text": [
      "[CV] END ...................C=10, gamma=scale, kernel=linear; total time=   1.9s\n"
     ]
    },
    {
     "name": "stderr",
     "output_type": "stream",
     "text": [
      "/Users/rahulmohan/Library/Python/3.9/lib/python/site-packages/sklearn/svm/_base.py:297: ConvergenceWarning: Solver terminated early (max_iter=10000).  Consider pre-processing your data with StandardScaler or MinMaxScaler.\n",
      "  warnings.warn(\n"
     ]
    },
    {
     "name": "stdout",
     "output_type": "stream",
     "text": [
      "[CV] END ...................C=10, gamma=scale, kernel=linear; total time=   1.8s\n",
      "[CV] END .......................C=10, gamma=auto, kernel=rbf; total time=   6.7s\n",
      "[CV] END .......................C=10, gamma=auto, kernel=rbf; total time=   6.7s\n",
      "[CV] END .......................C=10, gamma=auto, kernel=rbf; total time=   6.7s\n",
      "[CV] END .......................C=10, gamma=auto, kernel=rbf; total time=   6.7s\n",
      "[CV] END .......................C=10, gamma=auto, kernel=rbf; total time=   6.7s\n"
     ]
    },
    {
     "name": "stderr",
     "output_type": "stream",
     "text": [
      "/Users/rahulmohan/Library/Python/3.9/lib/python/site-packages/sklearn/svm/_base.py:297: ConvergenceWarning: Solver terminated early (max_iter=10000).  Consider pre-processing your data with StandardScaler or MinMaxScaler.\n",
      "  warnings.warn(\n"
     ]
    },
    {
     "name": "stdout",
     "output_type": "stream",
     "text": [
      "[CV] END ....................C=10, gamma=auto, kernel=linear; total time=   1.9s\n"
     ]
    },
    {
     "name": "stderr",
     "output_type": "stream",
     "text": [
      "/Users/rahulmohan/Library/Python/3.9/lib/python/site-packages/sklearn/svm/_base.py:297: ConvergenceWarning: Solver terminated early (max_iter=10000).  Consider pre-processing your data with StandardScaler or MinMaxScaler.\n",
      "  warnings.warn(\n"
     ]
    },
    {
     "name": "stdout",
     "output_type": "stream",
     "text": [
      "[CV] END ....................C=10, gamma=auto, kernel=linear; total time=   1.8s\n"
     ]
    },
    {
     "name": "stderr",
     "output_type": "stream",
     "text": [
      "/Users/rahulmohan/Library/Python/3.9/lib/python/site-packages/sklearn/svm/_base.py:297: ConvergenceWarning: Solver terminated early (max_iter=10000).  Consider pre-processing your data with StandardScaler or MinMaxScaler.\n",
      "  warnings.warn(\n"
     ]
    },
    {
     "name": "stdout",
     "output_type": "stream",
     "text": [
      "[CV] END ....................C=10, gamma=auto, kernel=linear; total time=   1.8s\n"
     ]
    },
    {
     "name": "stderr",
     "output_type": "stream",
     "text": [
      "/Users/rahulmohan/Library/Python/3.9/lib/python/site-packages/sklearn/svm/_base.py:297: ConvergenceWarning: Solver terminated early (max_iter=10000).  Consider pre-processing your data with StandardScaler or MinMaxScaler.\n",
      "  warnings.warn(\n"
     ]
    },
    {
     "name": "stdout",
     "output_type": "stream",
     "text": [
      "[CV] END ....................C=10, gamma=auto, kernel=linear; total time=   1.8s\n"
     ]
    },
    {
     "name": "stderr",
     "output_type": "stream",
     "text": [
      "/Users/rahulmohan/Library/Python/3.9/lib/python/site-packages/sklearn/svm/_base.py:297: ConvergenceWarning: Solver terminated early (max_iter=10000).  Consider pre-processing your data with StandardScaler or MinMaxScaler.\n",
      "  warnings.warn(\n"
     ]
    },
    {
     "name": "stdout",
     "output_type": "stream",
     "text": [
      "[CV] END ....................C=10, gamma=auto, kernel=linear; total time=   1.8s\n",
      "Test SVR Home Team Mean Squared Error with best params: 158.56\n",
      "Test SVR Away Team Mean Squared Error with best params: 153.54\n",
      "Test SVR Home Team Mean Absolute Error with best params: 10.05\n",
      "Test SVR Away Team Mean Absolute Error with best params: 9.96\n",
      "Test SVR Home Team R² score with best params: 0.01\n",
      "Test SVR Away Team R² score with best params: 0.00\n"
     ]
    }
   ],
   "source": [
    "from sklearn.svm import SVR\n",
    "from sklearn.model_selection import GridSearchCV\n",
    "from sklearn.metrics import mean_squared_error\n",
    "\n",
    "#Parameter grid for SVR\n",
    "param_grid = {'C': [0.1, 1, 10], \n",
    "              'gamma': ['scale', 'auto'], \n",
    "              'kernel': ['rbf', 'linear']}\n",
    "\n",
    "\n",
    "#Training and Testing the Model\n",
    "\n",
    "y_train_home_scores = y_train_scores[:, 0]\n",
    "y_train_away_scores = y_train_scores[:, 1]\n",
    "y_test_home_scores = y_test_scores[:, 0]\n",
    "y_test_away_scores = y_test_scores[:, 1]\n",
    "\n",
    "svr_home = SVR(max_iter=10000)\n",
    "grid_svr_home = GridSearchCV(svr_home, param_grid, cv=5, scoring='neg_mean_squared_error', verbose = 2)\n",
    "grid_svr_home.fit(X_train_scores, y_train_home_scores)\n",
    "\n",
    "best_svr_home_params = grid_svr_home.best_params_\n",
    "best_svr_home_score = grid_svr_home.best_score_\n",
    "\n",
    "svr_away = SVR(max_iter=10000)\n",
    "grid_svr_away = GridSearchCV(svr_away, param_grid, cv=5, scoring='neg_mean_squared_error', verbose = 2)\n",
    "grid_svr_away.fit(X_train_scores, y_train_away_scores)\n",
    "\n",
    "best_svr_away_params = grid_svr_away.best_params_\n",
    "best_svr_away_score = grid_svr_away.best_score_\n",
    "\n",
    "best_svr_home = grid_svr_home.best_estimator_\n",
    "y_test_pred_home_scores = best_svr_home.predict(X_test_scores)\n",
    "test_home_mse = mean_squared_error(y_test_home_scores, y_test_pred_home_scores)\n",
    "\n",
    "best_svr_away = grid_svr_away.best_estimator_\n",
    "y_test_pred_away_scores = best_svr_away.predict(X_test_scores)\n",
    "test_away_mse = mean_squared_error(y_test_away_scores, y_test_pred_away_scores)\n",
    "\n",
    "\n",
    "#Scoring Metrics\n",
    "\n",
    "print(f'Test SVR Home Team Mean Squared Error with best params: {test_home_mse:.2f}')\n",
    "print(f'Test SVR Away Team Mean Squared Error with best params: {test_away_mse:.2f}')\n",
    "\n",
    "from sklearn.metrics import mean_absolute_error\n",
    "\n",
    "test_home_mae = mean_absolute_error(y_test_home_scores, y_test_pred_home_scores)\n",
    "\n",
    "test_away_mae = mean_absolute_error(y_test_away_scores, y_test_pred_away_scores)\n",
    "\n",
    "print(f'Test SVR Home Team Mean Absolute Error with best params: {test_home_mae:.2f}')\n",
    "print(f'Test SVR Away Team Mean Absolute Error with best params: {test_away_mae:.2f}')\n",
    "\n",
    "from sklearn.metrics import r2_score\n",
    "\n",
    "test_home_r2 = r2_score(y_test_home_scores, y_test_pred_home_scores)\n",
    "\n",
    "test_away_r2 = r2_score(y_test_away_scores, y_test_pred_away_scores)\n",
    "\n",
    "print(f'Test SVR Home Team R² score with best params: {test_home_r2:.2f}')\n",
    "print(f'Test SVR Away Team R² score with best params: {test_away_r2:.2f}')\n",
    "\n",
    "\n"
   ]
  },
  {
   "cell_type": "code",
   "execution_count": 18,
   "metadata": {},
   "outputs": [],
   "source": [
    "# def predict_game_outcome_and_score(home_team_players, away_team_players, home_model, away_model):\n",
    "#     home_tensor = np.array([], dtype=float)\n",
    "#     away_tensor = np.array([], dtype=float)\n",
    "    \n",
    "#     for player in home_team_players:\n",
    "#         home_tensor = np.concatenate((home_tensor, findPastThreeIDs(player, None)))\n",
    "    \n",
    "#     for player in away_team_players:\n",
    "#         away_tensor = np.concatenate((away_tensor, findPastThreeIDs(player, None)))\n",
    "    \n",
    "#     home_tensor = pad_tensor(home_tensor, max_length // 2)\n",
    "#     away_tensor = pad_tensor(away_tensor, max_length // 2)\n",
    "    \n",
    "#     input_tensor = np.concatenate((home_tensor, away_tensor)).reshape(1, -1)\n",
    "    \n",
    "#     home_team_score = int(round(home_model.predict(input_tensor)[0]))\n",
    "#     away_team_score = int(round(away_model.predict(input_tensor)[0]))\n",
    "    \n",
    "#     outcome = 1 if home_team_score > away_team_score else 0\n",
    "    \n",
    "#     return outcome, (home_team_score, away_team_score)\n"
   ]
  },
  {
   "cell_type": "code",
   "execution_count": 19,
   "metadata": {},
   "outputs": [
    {
     "name": "stdout",
     "output_type": "stream",
     "text": [
      "Predicted Outcome: Home Team Wins\n",
      "Predicted Scores: Home Team 109 - Away Team 108\n"
     ]
    }
   ],
   "source": [
    "#Same function but modified for SVR use and the two models used\n",
    "def predict_game_outcome_and_score(home_team_players, away_team_players, home_model, away_model):\n",
    "    max_players = 5  \n",
    "    \n",
    "    if len(home_team_players) > max_players or len(away_team_players) > max_players:\n",
    "        print(\"Error: More than 5 players entered on a team.\")\n",
    "        return None, None\n",
    "    \n",
    "    home_tensor = np.array([], dtype=float)\n",
    "    away_tensor = np.array([], dtype=float)\n",
    "    \n",
    "    for player in home_team_players:\n",
    "        if player not in player_stats:\n",
    "            print(f\"Error: Player {player} not found.\")\n",
    "            return None, None\n",
    "        home_tensor = np.concatenate((home_tensor, findPastThreeIDs(player, None)))\n",
    "    \n",
    "    for player in away_team_players:\n",
    "        if player not in player_stats:\n",
    "            print(f\"Error: Player {player} not found.\")\n",
    "            return None, None\n",
    "        away_tensor = np.concatenate((away_tensor, findPastThreeIDs(player, None)))\n",
    "    \n",
    "    while len(home_team_players) < max_players:\n",
    "        home_tensor = np.concatenate((home_tensor, np.zeros(20 * 3)))\n",
    "        home_team_players.append(None)  \n",
    "    \n",
    "    while len(away_team_players) < max_players:\n",
    "        away_tensor = np.concatenate((away_tensor, np.zeros(20 * 3)))\n",
    "        away_team_players.append(None)  \n",
    "    \n",
    "    home_tensor = pad_tensor(home_tensor, max_length // 2)\n",
    "    away_tensor = pad_tensor(away_tensor, max_length // 2)\n",
    "    \n",
    "    input_tensor = np.concatenate((home_tensor, away_tensor)).reshape(1, -1)\n",
    "    \n",
    "    home_team_score = int(round(home_model.predict(input_tensor)[0]))\n",
    "    away_team_score = int(round(away_model.predict(input_tensor)[0]))\n",
    "    \n",
    "    outcome = 1 if home_team_score > away_team_score else 0\n",
    "    \n",
    "    return outcome, (home_team_score, away_team_score)\n",
    "\n",
    "home_team_input = input(\"Enter the names of the home team players separated by commas: \").split(',')\n",
    "away_team_input = input(\"Enter the names of the away team players separated by commas: \").split(',')\n",
    "\n",
    "home_team_input = [player.strip() for player in home_team_input]\n",
    "away_team_input = [player.strip() for player in away_team_input]\n",
    "\n",
    "# Predict outcome and scores\n",
    "outcome, scores = predict_game_outcome_and_score(home_team_input, away_team_input, best_svr_home, best_svr_away)\n",
    "\n",
    "if outcome is not None:\n",
    "    print(f'Predicted Outcome: {\"Home Team Wins\" if outcome == 1 else \"Away Team Wins\"}')\n",
    "    print(f'Predicted Scores: Home Team {scores[0]} - Away Team {scores[1]}')\n",
    "    \n",
    "# For example, you can input this in the popup that comes when you run this cell:\n",
    "# Bojan Bogdanovic, Austin Rivers, Mason Plumlee, Andre Drummond, Cedi Osman\n",
    "# Kevon Harris, Terry Rozier, Udonis Haslem, Kelly Olynyk, Devin Booker\n",
    "\n",
    "\n"
   ]
  },
  {
   "cell_type": "code",
   "execution_count": 20,
   "metadata": {},
   "outputs": [
    {
     "data": {
      "image/png": "[encoded data removed]",
      "text/plain": [
       "<Figure size 1000x600 with 1 Axes>"
      ]
     },
     "metadata": {},
     "output_type": "display_data"
    }
   ],
   "source": [
    "import matplotlib.pyplot as plt\n",
    "import seaborn as sns\n",
    "\n",
    "metrics = {\n",
    "    'Metric': ['Mean Squared Error', 'Mean Absolute Error', 'R² Score'],\n",
    "    'Home Team': [test_home_mse, test_home_mae, test_home_r2],\n",
    "    'Away Team': [test_away_mse, test_away_mae, test_away_r2]\n",
    "}\n",
    "\n",
    "import pandas as pd\n",
    "metrics_df = pd.DataFrame(metrics)\n",
    "\n",
    "metrics_melted = pd.melt(metrics_df, id_vars='Metric', var_name='Team', value_name='Value')\n",
    "\n",
    "\n",
    "plt.figure(figsize=(10, 6))\n",
    "sns.barplot(x='Metric', y='Value', hue='Team', data=metrics_melted)\n",
    "plt.title('Model Evaluation Metrics')\n",
    "plt.xlabel('Metric')\n",
    "plt.ylabel('Value')\n",
    "plt.ylim(0, max(metrics_melted['Value']) + 1) \n",
    "plt.show()\n"
   ]
  },
  {
   "cell_type": "code",
   "execution_count": 21,
   "metadata": {},
   "outputs": [
    {
     "data": {
      "image/png": "[encoded data removed]",
      "text/plain": [
       "<Figure size 1400x600 with 2 Axes>"
      ]
     },
     "metadata": {},
     "output_type": "display_data"
    }
   ],
   "source": [
    "import numpy as np\n",
    "\n",
    "sample_size = 100  \n",
    "indices = np.random.choice(range(len(y_test_home_scores)), size=sample_size, replace=False)\n",
    "\n",
    "plt.figure(figsize=(14, 6))\n",
    "plt.subplot(1, 2, 1)\n",
    "plt.scatter(y_test_home_scores[indices], y_test_pred_home_scores[indices], color='blue', label='Home Team')\n",
    "plt.plot([min(y_test_home_scores), max(y_test_home_scores)], [min(y_test_home_scores), max(y_test_home_scores)], color='red', linestyle='--')\n",
    "plt.title('Home Team: Predicted vs Actual Scores')\n",
    "plt.xlabel('Actual Scores')\n",
    "plt.ylabel('Predicted Scores')\n",
    "plt.legend()\n",
    "\n",
    "plt.subplot(1, 2, 2)\n",
    "plt.scatter(y_test_away_scores[indices], y_test_pred_away_scores[indices], color='green', label='Away Team')\n",
    "plt.plot([min(y_test_away_scores), max(y_test_away_scores)], [min(y_test_away_scores), max(y_test_away_scores)], color='red', linestyle='--')\n",
    "plt.title('Away Team: Predicted vs Actual Scores')\n",
    "plt.xlabel('Actual Scores')\n",
    "plt.ylabel('Predicted Scores')\n",
    "plt.legend()\n",
    "\n",
    "plt.tight_layout()\n",
    "plt.show()\n"
   ]
  }
 ],
 "metadata": {
  "kernelspec": {
   "display_name": "pytorch_gpu",
   "language": "python",
   "name": "python3"
  },
  "language_info": {
   "codemirror_mode": {
    "name": "ipython",
    "version": 3
   },
   "file_extension": ".py",
   "mimetype": "text/x-python",
   "name": "python",
   "nbconvert_exporter": "python",
   "pygments_lexer": "ipython3",
   "version": "3.9.6"
  }
 },
 "nbformat": 4,
 "nbformat_minor": 2
}
